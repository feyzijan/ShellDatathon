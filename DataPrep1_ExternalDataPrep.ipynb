{
 "cells": [
  {
   "cell_type": "markdown",
   "metadata": {},
   "source": [
    "- This file reads in the downloaded external data, formats them, and saves them in the ExternalDataFormatted Folder, \n",
    "- The DataPrepMergingFeatures_2 should be run after this"
   ]
  },
  {
   "cell_type": "markdown",
   "metadata": {},
   "source": [
    "Imports"
   ]
  },
  {
   "cell_type": "code",
   "execution_count": 1,
   "metadata": {
    "ExecuteTime": {
     "end_time": "2023-01-15T17:09:28.066011Z",
     "start_time": "2023-01-15T17:09:27.363400Z"
    }
   },
   "outputs": [],
   "source": [
    "import pandas as pd\n",
    "import numpy as np"
   ]
  },
  {
   "cell_type": "markdown",
   "metadata": {},
   "source": [
    "Data Checklist\n",
    "- New car registrations\n",
    "- Public holidays\n",
    "- Inflation\n",
    "- GDP Growth\n",
    "- USD TRY"
   ]
  },
  {
   "cell_type": "markdown",
   "metadata": {},
   "source": [
    "### New car Registration Data"
   ]
  },
  {
   "cell_type": "code",
   "execution_count": 2,
   "metadata": {
    "ExecuteTime": {
     "end_time": "2023-01-15T17:09:28.253200Z",
     "start_time": "2023-01-15T17:09:28.199903Z"
    }
   },
   "outputs": [
    {
     "data": {
      "text/html": [
       "<div>\n",
       "<style scoped>\n",
       "    .dataframe tbody tr th:only-of-type {\n",
       "        vertical-align: middle;\n",
       "    }\n",
       "\n",
       "    .dataframe tbody tr th {\n",
       "        vertical-align: top;\n",
       "    }\n",
       "\n",
       "    .dataframe thead th {\n",
       "        text-align: right;\n",
       "    }\n",
       "</style>\n",
       "<table border=\"1\" class=\"dataframe\">\n",
       "  <thead>\n",
       "    <tr style=\"text-align: right;\">\n",
       "      <th></th>\n",
       "      <th>Year</th>\n",
       "      <th>Month</th>\n",
       "      <th>Akdeniz-TR6</th>\n",
       "      <th>Batı Anadolu-TR5</th>\n",
       "      <th>Batı Karadeniz-TR8</th>\n",
       "      <th>Batı Marmara-TR2</th>\n",
       "      <th>Doğu Karadeniz-TR9</th>\n",
       "      <th>Doğu Marmara-TR4</th>\n",
       "      <th>Ege-TR3</th>\n",
       "      <th>Güneydoğu Anadolu-TRC</th>\n",
       "      <th>İstanbul-TR1</th>\n",
       "      <th>Kuzeydoğu Anadolu-TRA</th>\n",
       "      <th>Orta Anadolu-TR7</th>\n",
       "      <th>Ortadoğu Anadolu-TRB</th>\n",
       "    </tr>\n",
       "  </thead>\n",
       "  <tbody>\n",
       "    <tr>\n",
       "      <th>0</th>\n",
       "      <td>2013</td>\n",
       "      <td>01-Ocak</td>\n",
       "      <td>16090</td>\n",
       "      <td>13534</td>\n",
       "      <td>4292</td>\n",
       "      <td>4926</td>\n",
       "      <td>2631</td>\n",
       "      <td>10304</td>\n",
       "      <td>15519</td>\n",
       "      <td>7716</td>\n",
       "      <td>39681</td>\n",
       "      <td>1690</td>\n",
       "      <td>3969</td>\n",
       "      <td>2667</td>\n",
       "    </tr>\n",
       "    <tr>\n",
       "      <th>1</th>\n",
       "      <td>2013</td>\n",
       "      <td>02-Şubat</td>\n",
       "      <td>7566</td>\n",
       "      <td>6418</td>\n",
       "      <td>2049</td>\n",
       "      <td>2672</td>\n",
       "      <td>1111</td>\n",
       "      <td>4937</td>\n",
       "      <td>7820</td>\n",
       "      <td>3587</td>\n",
       "      <td>20793</td>\n",
       "      <td>834</td>\n",
       "      <td>1756</td>\n",
       "      <td>1137</td>\n",
       "    </tr>\n",
       "    <tr>\n",
       "      <th>2</th>\n",
       "      <td>2013</td>\n",
       "      <td>03-Mart</td>\n",
       "      <td>10920</td>\n",
       "      <td>9202</td>\n",
       "      <td>2885</td>\n",
       "      <td>3984</td>\n",
       "      <td>1524</td>\n",
       "      <td>6962</td>\n",
       "      <td>11546</td>\n",
       "      <td>4867</td>\n",
       "      <td>30890</td>\n",
       "      <td>1254</td>\n",
       "      <td>2652</td>\n",
       "      <td>1711</td>\n",
       "    </tr>\n",
       "    <tr>\n",
       "      <th>3</th>\n",
       "      <td>2013</td>\n",
       "      <td>04-Nisan</td>\n",
       "      <td>12895</td>\n",
       "      <td>9549</td>\n",
       "      <td>3236</td>\n",
       "      <td>4591</td>\n",
       "      <td>1684</td>\n",
       "      <td>8212</td>\n",
       "      <td>13697</td>\n",
       "      <td>5744</td>\n",
       "      <td>33105</td>\n",
       "      <td>1611</td>\n",
       "      <td>3113</td>\n",
       "      <td>1997</td>\n",
       "    </tr>\n",
       "    <tr>\n",
       "      <th>4</th>\n",
       "      <td>2013</td>\n",
       "      <td>05-Mayıs</td>\n",
       "      <td>16943</td>\n",
       "      <td>12884</td>\n",
       "      <td>4504</td>\n",
       "      <td>6444</td>\n",
       "      <td>2160</td>\n",
       "      <td>10850</td>\n",
       "      <td>18999</td>\n",
       "      <td>6993</td>\n",
       "      <td>48231</td>\n",
       "      <td>1948</td>\n",
       "      <td>4051</td>\n",
       "      <td>2485</td>\n",
       "    </tr>\n",
       "  </tbody>\n",
       "</table>\n",
       "</div>"
      ],
      "text/plain": [
       "   Year     Month  Akdeniz-TR6  Batı Anadolu-TR5  Batı Karadeniz-TR8  \\\n",
       "0  2013   01-Ocak        16090             13534                4292   \n",
       "1  2013  02-Şubat         7566              6418                2049   \n",
       "2  2013   03-Mart        10920              9202                2885   \n",
       "3  2013  04-Nisan        12895              9549                3236   \n",
       "4  2013  05-Mayıs        16943             12884                4504   \n",
       "\n",
       "   Batı Marmara-TR2  Doğu Karadeniz-TR9  Doğu Marmara-TR4  Ege-TR3  \\\n",
       "0              4926                2631             10304    15519   \n",
       "1              2672                1111              4937     7820   \n",
       "2              3984                1524              6962    11546   \n",
       "3              4591                1684              8212    13697   \n",
       "4              6444                2160             10850    18999   \n",
       "\n",
       "   Güneydoğu Anadolu-TRC  İstanbul-TR1  Kuzeydoğu Anadolu-TRA  \\\n",
       "0                   7716         39681                   1690   \n",
       "1                   3587         20793                    834   \n",
       "2                   4867         30890                   1254   \n",
       "3                   5744         33105                   1611   \n",
       "4                   6993         48231                   1948   \n",
       "\n",
       "   Orta Anadolu-TR7  Ortadoğu Anadolu-TRB  \n",
       "0              3969                  2667  \n",
       "1              1756                  1137  \n",
       "2              2652                  1711  \n",
       "3              3113                  1997  \n",
       "4              4051                  2485  "
      ]
     },
     "execution_count": 2,
     "metadata": {},
     "output_type": "execute_result"
    }
   ],
   "source": [
    "df = pd.read_excel(\"ExternalDataRaw\\TUIKKaraTasıtYeniKayit.xls\")\n",
    "df.head()"
   ]
  },
  {
   "cell_type": "markdown",
   "metadata": {},
   "source": [
    "- Combine date columns"
   ]
  },
  {
   "cell_type": "code",
   "execution_count": 3,
   "metadata": {
    "ExecuteTime": {
     "end_time": "2023-01-15T17:10:02.441295Z",
     "start_time": "2023-01-15T17:10:02.424250Z"
    }
   },
   "outputs": [
    {
     "data": {
      "text/html": [
       "<div>\n",
       "<style scoped>\n",
       "    .dataframe tbody tr th:only-of-type {\n",
       "        vertical-align: middle;\n",
       "    }\n",
       "\n",
       "    .dataframe tbody tr th {\n",
       "        vertical-align: top;\n",
       "    }\n",
       "\n",
       "    .dataframe thead th {\n",
       "        text-align: right;\n",
       "    }\n",
       "</style>\n",
       "<table border=\"1\" class=\"dataframe\">\n",
       "  <thead>\n",
       "    <tr style=\"text-align: right;\">\n",
       "      <th></th>\n",
       "      <th>Akdeniz-TR6</th>\n",
       "      <th>Batı Anadolu-TR5</th>\n",
       "      <th>Batı Karadeniz-TR8</th>\n",
       "      <th>Batı Marmara-TR2</th>\n",
       "      <th>Doğu Karadeniz-TR9</th>\n",
       "      <th>Doğu Marmara-TR4</th>\n",
       "      <th>Ege-TR3</th>\n",
       "      <th>Güneydoğu Anadolu-TRC</th>\n",
       "      <th>İstanbul-TR1</th>\n",
       "      <th>Kuzeydoğu Anadolu-TRA</th>\n",
       "      <th>Orta Anadolu-TR7</th>\n",
       "      <th>Ortadoğu Anadolu-TRB</th>\n",
       "      <th>Date</th>\n",
       "    </tr>\n",
       "  </thead>\n",
       "  <tbody>\n",
       "    <tr>\n",
       "      <th>0</th>\n",
       "      <td>16090</td>\n",
       "      <td>13534</td>\n",
       "      <td>4292</td>\n",
       "      <td>4926</td>\n",
       "      <td>2631</td>\n",
       "      <td>10304</td>\n",
       "      <td>15519</td>\n",
       "      <td>7716</td>\n",
       "      <td>39681</td>\n",
       "      <td>1690</td>\n",
       "      <td>3969</td>\n",
       "      <td>2667</td>\n",
       "      <td>2013-01-01</td>\n",
       "    </tr>\n",
       "  </tbody>\n",
       "</table>\n",
       "</div>"
      ],
      "text/plain": [
       "   Akdeniz-TR6  Batı Anadolu-TR5  Batı Karadeniz-TR8  Batı Marmara-TR2  \\\n",
       "0        16090             13534                4292              4926   \n",
       "\n",
       "   Doğu Karadeniz-TR9  Doğu Marmara-TR4  Ege-TR3  Güneydoğu Anadolu-TRC  \\\n",
       "0                2631             10304    15519                   7716   \n",
       "\n",
       "   İstanbul-TR1  Kuzeydoğu Anadolu-TRA  Orta Anadolu-TR7  \\\n",
       "0         39681                   1690              3969   \n",
       "\n",
       "   Ortadoğu Anadolu-TRB        Date  \n",
       "0                  2667  2013-01-01  "
      ]
     },
     "execution_count": 3,
     "metadata": {},
     "output_type": "execute_result"
    }
   ],
   "source": [
    "df[\"Date\"] = df[\"Year\"].astype(str) + \"-\" + df['Month'].astype(str).str[0:2] + \"-01\"\n",
    "df.drop(labels=[\"Month\",\"Year\"],axis=1,inplace=True)\n",
    "df.head(1)"
   ]
  },
  {
   "cell_type": "code",
   "execution_count": 4,
   "metadata": {
    "ExecuteTime": {
     "end_time": "2023-01-15T17:10:02.831800Z",
     "start_time": "2023-01-15T17:10:02.818185Z"
    }
   },
   "outputs": [
    {
     "data": {
      "text/plain": [
       "Index(['Akdeniz-TR6', 'Batı Anadolu-TR5', 'Batı Karadeniz-TR8',\n",
       "       'Batı Marmara-TR2', 'Doğu Karadeniz-TR9', 'Doğu Marmara-TR4', 'Ege-TR3',\n",
       "       'Güneydoğu Anadolu-TRC', 'İstanbul-TR1', 'Kuzeydoğu Anadolu-TRA',\n",
       "       'Orta Anadolu-TR7', 'Ortadoğu Anadolu-TRB', 'Date'],\n",
       "      dtype='object')"
      ]
     },
     "execution_count": 4,
     "metadata": {},
     "output_type": "execute_result"
    }
   ],
   "source": [
    "df.columns"
   ]
  },
  {
   "cell_type": "markdown",
   "metadata": {},
   "source": [
    "Combine into following regions\n",
    "- Marmara Bölgesi    \n",
    "    - TR2,TR4,TR1 \n",
    "- Ege Bölgesi  \n",
    "    - TR3            \n",
    "- İç Anadolu Bölgesi \n",
    "    - TR5,TR7       \n",
    "- Akdeniz Bölgesi\n",
    "    - TR6               \n",
    "- Karadeniz Bölgesi    \n",
    "    - TR8,TR9        \n",
    "- Güneydoğu Anadolu Bölgesi  \n",
    "    - TRC   \n",
    "- Doğu Anadolu Bölgesi    \n",
    "    - TRA,TRB      "
   ]
  },
  {
   "attachments": {},
   "cell_type": "markdown",
   "metadata": {},
   "source": [
    "Create new columns with the sum of each region"
   ]
  },
  {
   "cell_type": "code",
   "execution_count": 5,
   "metadata": {
    "ExecuteTime": {
     "end_time": "2023-01-15T17:10:03.331584Z",
     "start_time": "2023-01-15T17:10:03.317909Z"
    }
   },
   "outputs": [],
   "source": [
    "df[\"Marmara Bölgesi\"] = df[['Batı Marmara-TR2','Doğu Marmara-TR4','İstanbul-TR1']].sum(axis=1)\n",
    "df[\"Ege Bölgesi\"] = df['Ege-TR3']\n",
    "df[\"İç Anadolu Bölgesi\"] = df[['Batı Anadolu-TR5', 'Orta Anadolu-TR7']].sum(axis=1)\n",
    "df[\"Akdeniz Bölgesi\"] = df['Akdeniz-TR6']\n",
    "df[\"Karadeniz Bölgesi\"] = df[['Doğu Karadeniz-TR9','Batı Karadeniz-TR8']].sum(axis=1)\n",
    "df[\"Güneydoğu Anadolu Bölgesi\"] =  df['Güneydoğu Anadolu-TRC']\n",
    "df[\"Doğu Anadolu Bölgesi\"] = df[['Kuzeydoğu Anadolu-TRA','Ortadoğu Anadolu-TRB']].sum(axis=1)"
   ]
  },
  {
   "attachments": {},
   "cell_type": "markdown",
   "metadata": {},
   "source": [
    "Drop old columns"
   ]
  },
  {
   "cell_type": "code",
   "execution_count": 7,
   "metadata": {
    "ExecuteTime": {
     "end_time": "2023-01-15T17:10:03.518932Z",
     "start_time": "2023-01-15T17:10:03.509809Z"
    }
   },
   "outputs": [
    {
     "data": {
      "text/html": [
       "<div>\n",
       "<style scoped>\n",
       "    .dataframe tbody tr th:only-of-type {\n",
       "        vertical-align: middle;\n",
       "    }\n",
       "\n",
       "    .dataframe tbody tr th {\n",
       "        vertical-align: top;\n",
       "    }\n",
       "\n",
       "    .dataframe thead th {\n",
       "        text-align: right;\n",
       "    }\n",
       "</style>\n",
       "<table border=\"1\" class=\"dataframe\">\n",
       "  <thead>\n",
       "    <tr style=\"text-align: right;\">\n",
       "      <th></th>\n",
       "      <th>Date</th>\n",
       "      <th>Akdeniz Bölgesi</th>\n",
       "      <th>İç Anadolu Bölgesi</th>\n",
       "      <th>Karadeniz Bölgesi</th>\n",
       "      <th>Marmara Bölgesi</th>\n",
       "      <th>Ege Bölgesi</th>\n",
       "      <th>Güneydoğu Anadolu Bölgesi</th>\n",
       "      <th>Doğu Anadolu Bölgesi</th>\n",
       "    </tr>\n",
       "  </thead>\n",
       "  <tbody>\n",
       "    <tr>\n",
       "      <th>0</th>\n",
       "      <td>2013-01-01</td>\n",
       "      <td>16090</td>\n",
       "      <td>17503</td>\n",
       "      <td>6923</td>\n",
       "      <td>54911</td>\n",
       "      <td>15519</td>\n",
       "      <td>7716</td>\n",
       "      <td>4357</td>\n",
       "    </tr>\n",
       "  </tbody>\n",
       "</table>\n",
       "</div>"
      ],
      "text/plain": [
       "         Date  Akdeniz Bölgesi  İç Anadolu Bölgesi  Karadeniz Bölgesi  \\\n",
       "0  2013-01-01            16090               17503               6923   \n",
       "\n",
       "   Marmara Bölgesi  Ege Bölgesi  Güneydoğu Anadolu Bölgesi  \\\n",
       "0            54911        15519                       7716   \n",
       "\n",
       "   Doğu Anadolu Bölgesi  \n",
       "0                  4357  "
      ]
     },
     "execution_count": 7,
     "metadata": {},
     "output_type": "execute_result"
    }
   ],
   "source": [
    "df = df[[\"Date\",\"Akdeniz Bölgesi\", \"İç Anadolu Bölgesi\",\"Karadeniz Bölgesi\",\"Marmara Bölgesi\", \"Ege Bölgesi\", \"Güneydoğu Anadolu Bölgesi\",\n",
    "\"Doğu Anadolu Bölgesi\"]]\n",
    "df.head(1)"
   ]
  },
  {
   "attachments": {},
   "cell_type": "markdown",
   "metadata": {},
   "source": [
    "\n",
    "Convert to datetime object and add new column indicating when the data is available (t+2 months)"
   ]
  },
  {
   "cell_type": "code",
   "execution_count": 8,
   "metadata": {
    "ExecuteTime": {
     "end_time": "2023-01-15T17:10:03.909791Z",
     "start_time": "2023-01-15T17:10:03.891290Z"
    }
   },
   "outputs": [
    {
     "data": {
      "text/html": [
       "<div>\n",
       "<style scoped>\n",
       "    .dataframe tbody tr th:only-of-type {\n",
       "        vertical-align: middle;\n",
       "    }\n",
       "\n",
       "    .dataframe tbody tr th {\n",
       "        vertical-align: top;\n",
       "    }\n",
       "\n",
       "    .dataframe thead th {\n",
       "        text-align: right;\n",
       "    }\n",
       "</style>\n",
       "<table border=\"1\" class=\"dataframe\">\n",
       "  <thead>\n",
       "    <tr style=\"text-align: right;\">\n",
       "      <th></th>\n",
       "      <th>Date</th>\n",
       "      <th>Akdeniz Bölgesi</th>\n",
       "      <th>İç Anadolu Bölgesi</th>\n",
       "      <th>Karadeniz Bölgesi</th>\n",
       "      <th>Marmara Bölgesi</th>\n",
       "      <th>Ege Bölgesi</th>\n",
       "      <th>Güneydoğu Anadolu Bölgesi</th>\n",
       "      <th>Doğu Anadolu Bölgesi</th>\n",
       "      <th>DataReleaseDate</th>\n",
       "    </tr>\n",
       "  </thead>\n",
       "  <tbody>\n",
       "    <tr>\n",
       "      <th>0</th>\n",
       "      <td>2013-01-01</td>\n",
       "      <td>16090</td>\n",
       "      <td>17503</td>\n",
       "      <td>6923</td>\n",
       "      <td>54911</td>\n",
       "      <td>15519</td>\n",
       "      <td>7716</td>\n",
       "      <td>4357</td>\n",
       "      <td>2013-02-20</td>\n",
       "    </tr>\n",
       "  </tbody>\n",
       "</table>\n",
       "</div>"
      ],
      "text/plain": [
       "        Date  Akdeniz Bölgesi  İç Anadolu Bölgesi  Karadeniz Bölgesi  \\\n",
       "0 2013-01-01            16090               17503               6923   \n",
       "\n",
       "   Marmara Bölgesi  Ege Bölgesi  Güneydoğu Anadolu Bölgesi  \\\n",
       "0            54911        15519                       7716   \n",
       "\n",
       "   Doğu Anadolu Bölgesi DataReleaseDate  \n",
       "0                  4357      2013-02-20  "
      ]
     },
     "execution_count": 8,
     "metadata": {},
     "output_type": "execute_result"
    }
   ],
   "source": [
    "df[\"Date\"]= pd.to_datetime(df['Date'])\n",
    "df[\"DataReleaseDate\"] = df[\"Date\"] + pd.to_timedelta(50,unit='d')\n",
    "df.head(1)"
   ]
  },
  {
   "cell_type": "markdown",
   "metadata": {},
   "source": [
    "Set the data release date to nearest sunday"
   ]
  },
  {
   "cell_type": "code",
   "execution_count": 9,
   "metadata": {
    "ExecuteTime": {
     "end_time": "2023-01-15T17:10:04.955557Z",
     "start_time": "2023-01-15T17:10:04.937471Z"
    }
   },
   "outputs": [],
   "source": [
    "df[\"DataReleaseDate\"] = df[\"DataReleaseDate\"] - pd.to_timedelta(df[\"DataReleaseDate\"].dt.dayofweek, unit='d') +  pd.to_timedelta(6, unit='d')"
   ]
  },
  {
   "cell_type": "markdown",
   "metadata": {},
   "source": [
    "Pivot table so its easier to merge"
   ]
  },
  {
   "cell_type": "code",
   "execution_count": 10,
   "metadata": {
    "ExecuteTime": {
     "end_time": "2023-01-15T17:10:05.575130Z",
     "start_time": "2023-01-15T17:10:05.567620Z"
    }
   },
   "outputs": [],
   "source": [
    "df = df.melt(id_vars=[\"Date\", \"DataReleaseDate\"],\n",
    "var_name=\"Region\",\n",
    "value_name=\"Cars\")"
   ]
  },
  {
   "attachments": {},
   "cell_type": "markdown",
   "metadata": {},
   "source": [
    "Filter out early dates"
   ]
  },
  {
   "cell_type": "code",
   "execution_count": 11,
   "metadata": {
    "ExecuteTime": {
     "end_time": "2023-01-15T17:10:06.166078Z",
     "start_time": "2023-01-15T17:10:06.151343Z"
    }
   },
   "outputs": [],
   "source": [
    "df = df[df[\"DataReleaseDate\"] > \"2013-12-01\" ]\n",
    "df.sort_values(by=[\"Region\",\"Date\"],inplace=True)\n",
    "df.reset_index(inplace=True,drop=True)"
   ]
  },
  {
   "cell_type": "code",
   "execution_count": 12,
   "metadata": {
    "ExecuteTime": {
     "end_time": "2023-01-15T17:10:06.352846Z",
     "start_time": "2023-01-15T17:10:06.337848Z"
    }
   },
   "outputs": [
    {
     "data": {
      "text/html": [
       "<div>\n",
       "<style scoped>\n",
       "    .dataframe tbody tr th:only-of-type {\n",
       "        vertical-align: middle;\n",
       "    }\n",
       "\n",
       "    .dataframe tbody tr th {\n",
       "        vertical-align: top;\n",
       "    }\n",
       "\n",
       "    .dataframe thead th {\n",
       "        text-align: right;\n",
       "    }\n",
       "</style>\n",
       "<table border=\"1\" class=\"dataframe\">\n",
       "  <thead>\n",
       "    <tr style=\"text-align: right;\">\n",
       "      <th></th>\n",
       "      <th>Date</th>\n",
       "      <th>DataReleaseDate</th>\n",
       "      <th>Region</th>\n",
       "      <th>Cars</th>\n",
       "    </tr>\n",
       "  </thead>\n",
       "  <tbody>\n",
       "    <tr>\n",
       "      <th>0</th>\n",
       "      <td>2013-11-01</td>\n",
       "      <td>2013-12-22</td>\n",
       "      <td>Akdeniz Bölgesi</td>\n",
       "      <td>12007</td>\n",
       "    </tr>\n",
       "    <tr>\n",
       "      <th>1</th>\n",
       "      <td>2013-12-01</td>\n",
       "      <td>2014-01-26</td>\n",
       "      <td>Akdeniz Bölgesi</td>\n",
       "      <td>9999</td>\n",
       "    </tr>\n",
       "    <tr>\n",
       "      <th>2</th>\n",
       "      <td>2014-01-01</td>\n",
       "      <td>2014-02-23</td>\n",
       "      <td>Akdeniz Bölgesi</td>\n",
       "      <td>15874</td>\n",
       "    </tr>\n",
       "    <tr>\n",
       "      <th>3</th>\n",
       "      <td>2014-02-01</td>\n",
       "      <td>2014-03-23</td>\n",
       "      <td>Akdeniz Bölgesi</td>\n",
       "      <td>6537</td>\n",
       "    </tr>\n",
       "    <tr>\n",
       "      <th>4</th>\n",
       "      <td>2014-03-01</td>\n",
       "      <td>2014-04-20</td>\n",
       "      <td>Akdeniz Bölgesi</td>\n",
       "      <td>8564</td>\n",
       "    </tr>\n",
       "  </tbody>\n",
       "</table>\n",
       "</div>"
      ],
      "text/plain": [
       "        Date DataReleaseDate           Region   Cars\n",
       "0 2013-11-01      2013-12-22  Akdeniz Bölgesi  12007\n",
       "1 2013-12-01      2014-01-26  Akdeniz Bölgesi   9999\n",
       "2 2014-01-01      2014-02-23  Akdeniz Bölgesi  15874\n",
       "3 2014-02-01      2014-03-23  Akdeniz Bölgesi   6537\n",
       "4 2014-03-01      2014-04-20  Akdeniz Bölgesi   8564"
      ]
     },
     "execution_count": 12,
     "metadata": {},
     "output_type": "execute_result"
    }
   ],
   "source": [
    "df.head()"
   ]
  },
  {
   "cell_type": "markdown",
   "metadata": {},
   "source": [
    "Now want to transform this into a 12m cumulative sum "
   ]
  },
  {
   "cell_type": "code",
   "execution_count": 13,
   "metadata": {
    "ExecuteTime": {
     "end_time": "2023-01-15T17:10:07.697691Z",
     "start_time": "2023-01-15T17:10:07.671239Z"
    }
   },
   "outputs": [],
   "source": [
    "regions = df[\"Region\"].unique()\n",
    "for region in regions:\n",
    "    df.loc[df[\"Region\"]==region,\"Cars(12m)\"] = df[df.Region == region][\"Cars\"].rolling(12).sum()"
   ]
  },
  {
   "cell_type": "markdown",
   "metadata": {},
   "source": [
    "Drop monthly car column"
   ]
  },
  {
   "cell_type": "code",
   "execution_count": 14,
   "metadata": {
    "ExecuteTime": {
     "end_time": "2023-01-15T17:10:09.589942Z",
     "start_time": "2023-01-15T17:10:09.583981Z"
    }
   },
   "outputs": [],
   "source": [
    "df.drop(labels=\"Cars\",axis=1,inplace=True)\n",
    "df.rename(columns={\"Cars(12m)\":\"Cars\"},inplace=True)"
   ]
  },
  {
   "cell_type": "markdown",
   "metadata": {},
   "source": [
    "- Put these into a weekly df"
   ]
  },
  {
   "cell_type": "code",
   "execution_count": 15,
   "metadata": {
    "ExecuteTime": {
     "end_time": "2023-01-15T17:10:11.571988Z",
     "start_time": "2023-01-15T17:10:11.559397Z"
    }
   },
   "outputs": [],
   "source": [
    "df_dates = pd.date_range('2014-01-05', '2019-12-30', freq='1W').to_frame(name='Date').reset_index(drop=True)\n",
    "df_dates = pd.DataFrame(np.repeat(df_dates.values, 7, axis=0))\n",
    "df_dates.columns = [\"Date\"]\n",
    "df_dates[\"Region\"] = [\"Akdeniz Bölgesi\", \"İç Anadolu Bölgesi\",\"Karadeniz Bölgesi\",\"Marmara Bölgesi\", \"Ege Bölgesi\", \"Güneydoğu Anadolu Bölgesi\",\n",
    "\"Doğu Anadolu Bölgesi\"]*313"
   ]
  },
  {
   "cell_type": "code",
   "execution_count": 16,
   "metadata": {
    "ExecuteTime": {
     "end_time": "2023-01-15T17:10:11.960808Z",
     "start_time": "2023-01-15T17:10:11.946691Z"
    }
   },
   "outputs": [],
   "source": [
    "df_dates.sort_values(by=[\"Region\",\"Date\"],inplace=True)\n",
    "df_dates.reset_index(inplace=True,drop=True)"
   ]
  },
  {
   "attachments": {},
   "cell_type": "markdown",
   "metadata": {
    "ExecuteTime": {
     "end_time": "2023-01-15T17:10:12.144906Z",
     "start_time": "2023-01-15T17:10:12.131934Z"
    }
   },
   "source": [
    "Below is an inefficient loop to properly set up the data release dates"
   ]
  },
  {
   "cell_type": "code",
   "execution_count": 17,
   "metadata": {
    "ExecuteTime": {
     "end_time": "2023-01-15T17:10:46.342117Z",
     "start_time": "2023-01-15T17:10:12.323101Z"
    }
   },
   "outputs": [],
   "source": [
    "df_dates[\"Cars\"] = 0\n",
    "\n",
    "for i in range(len(df_dates)):\n",
    "    for k in range(len(df)-1):\n",
    "        if df_dates.loc[i,\"Region\"] == df.loc[k,\"Region\"]:\n",
    "            if df_dates.loc[i,\"Date\"] > df.loc[k,\"DataReleaseDate\"] and df_dates.loc[i,\"Date\"] <= df.loc[k+1,\"DataReleaseDate\"]:\n",
    "                #print(df_dates.loc[i,\"Date\"], \n",
    "                #df.loc[k,\"DataReleaseDate\"],\n",
    "                #df.loc[k+1,\"DataReleaseDate\"])\n",
    "                df_dates.loc[i,\"Cars\"] = df.loc[k,\"Cars\"]"
   ]
  },
  {
   "cell_type": "markdown",
   "metadata": {},
   "source": [
    "Add one day so it matches with the training/test data (Sundays)"
   ]
  },
  {
   "cell_type": "code",
   "execution_count": 18,
   "metadata": {
    "ExecuteTime": {
     "end_time": "2023-01-15T17:10:46.357628Z",
     "start_time": "2023-01-15T17:10:46.344630Z"
    }
   },
   "outputs": [
    {
     "data": {
      "text/html": [
       "<div>\n",
       "<style scoped>\n",
       "    .dataframe tbody tr th:only-of-type {\n",
       "        vertical-align: middle;\n",
       "    }\n",
       "\n",
       "    .dataframe tbody tr th {\n",
       "        vertical-align: top;\n",
       "    }\n",
       "\n",
       "    .dataframe thead th {\n",
       "        text-align: right;\n",
       "    }\n",
       "</style>\n",
       "<table border=\"1\" class=\"dataframe\">\n",
       "  <thead>\n",
       "    <tr style=\"text-align: right;\">\n",
       "      <th></th>\n",
       "      <th>Date</th>\n",
       "      <th>Region</th>\n",
       "      <th>Cars</th>\n",
       "    </tr>\n",
       "  </thead>\n",
       "  <tbody>\n",
       "    <tr>\n",
       "      <th>100</th>\n",
       "      <td>2015-12-07</td>\n",
       "      <td>Akdeniz Bölgesi</td>\n",
       "      <td>150190.0</td>\n",
       "    </tr>\n",
       "    <tr>\n",
       "      <th>101</th>\n",
       "      <td>2015-12-14</td>\n",
       "      <td>Akdeniz Bölgesi</td>\n",
       "      <td>150190.0</td>\n",
       "    </tr>\n",
       "    <tr>\n",
       "      <th>102</th>\n",
       "      <td>2015-12-21</td>\n",
       "      <td>Akdeniz Bölgesi</td>\n",
       "      <td>150190.0</td>\n",
       "    </tr>\n",
       "    <tr>\n",
       "      <th>103</th>\n",
       "      <td>2015-12-28</td>\n",
       "      <td>Akdeniz Bölgesi</td>\n",
       "      <td>150190.0</td>\n",
       "    </tr>\n",
       "    <tr>\n",
       "      <th>104</th>\n",
       "      <td>2016-01-04</td>\n",
       "      <td>Akdeniz Bölgesi</td>\n",
       "      <td>150325.0</td>\n",
       "    </tr>\n",
       "    <tr>\n",
       "      <th>...</th>\n",
       "      <td>...</td>\n",
       "      <td>...</td>\n",
       "      <td>...</td>\n",
       "    </tr>\n",
       "    <tr>\n",
       "      <th>2186</th>\n",
       "      <td>2019-12-02</td>\n",
       "      <td>İç Anadolu Bölgesi</td>\n",
       "      <td>90466.0</td>\n",
       "    </tr>\n",
       "    <tr>\n",
       "      <th>2187</th>\n",
       "      <td>2019-12-09</td>\n",
       "      <td>İç Anadolu Bölgesi</td>\n",
       "      <td>90466.0</td>\n",
       "    </tr>\n",
       "    <tr>\n",
       "      <th>2188</th>\n",
       "      <td>2019-12-16</td>\n",
       "      <td>İç Anadolu Bölgesi</td>\n",
       "      <td>90466.0</td>\n",
       "    </tr>\n",
       "    <tr>\n",
       "      <th>2189</th>\n",
       "      <td>2019-12-23</td>\n",
       "      <td>İç Anadolu Bölgesi</td>\n",
       "      <td>90466.0</td>\n",
       "    </tr>\n",
       "    <tr>\n",
       "      <th>2190</th>\n",
       "      <td>2019-12-30</td>\n",
       "      <td>İç Anadolu Bölgesi</td>\n",
       "      <td>89389.0</td>\n",
       "    </tr>\n",
       "  </tbody>\n",
       "</table>\n",
       "<p>2091 rows × 3 columns</p>\n",
       "</div>"
      ],
      "text/plain": [
       "           Date              Region      Cars\n",
       "100  2015-12-07     Akdeniz Bölgesi  150190.0\n",
       "101  2015-12-14     Akdeniz Bölgesi  150190.0\n",
       "102  2015-12-21     Akdeniz Bölgesi  150190.0\n",
       "103  2015-12-28     Akdeniz Bölgesi  150190.0\n",
       "104  2016-01-04     Akdeniz Bölgesi  150325.0\n",
       "...         ...                 ...       ...\n",
       "2186 2019-12-02  İç Anadolu Bölgesi   90466.0\n",
       "2187 2019-12-09  İç Anadolu Bölgesi   90466.0\n",
       "2188 2019-12-16  İç Anadolu Bölgesi   90466.0\n",
       "2189 2019-12-23  İç Anadolu Bölgesi   90466.0\n",
       "2190 2019-12-30  İç Anadolu Bölgesi   89389.0\n",
       "\n",
       "[2091 rows x 3 columns]"
      ]
     },
     "execution_count": 18,
     "metadata": {},
     "output_type": "execute_result"
    }
   ],
   "source": [
    "df_dates[\"Date\"] = df_dates[\"Date\"] + pd.to_timedelta(1,unit='d')\n",
    "df_dates[100:]"
   ]
  },
  {
   "cell_type": "code",
   "execution_count": 19,
   "metadata": {
    "ExecuteTime": {
     "end_time": "2023-01-15T17:11:12.198227Z",
     "start_time": "2023-01-15T17:11:12.160066Z"
    }
   },
   "outputs": [],
   "source": [
    "df_dates.reset_index(inplace=True,drop=True)\n",
    "df_dates.to_csv(\"ExternalDataFormatted\\CarRegistrationDataReady.csv\",index=False)"
   ]
  },
  {
   "cell_type": "markdown",
   "metadata": {},
   "source": [
    "## Public Holiday Data"
   ]
  },
  {
   "cell_type": "code",
   "execution_count": 20,
   "metadata": {
    "ExecuteTime": {
     "end_time": "2023-01-15T17:15:06.934361Z",
     "start_time": "2023-01-15T17:15:06.895983Z"
    }
   },
   "outputs": [
    {
     "data": {
      "text/html": [
       "<div>\n",
       "<style scoped>\n",
       "    .dataframe tbody tr th:only-of-type {\n",
       "        vertical-align: middle;\n",
       "    }\n",
       "\n",
       "    .dataframe tbody tr th {\n",
       "        vertical-align: top;\n",
       "    }\n",
       "\n",
       "    .dataframe thead th {\n",
       "        text-align: right;\n",
       "    }\n",
       "</style>\n",
       "<table border=\"1\" class=\"dataframe\">\n",
       "  <thead>\n",
       "    <tr style=\"text-align: right;\">\n",
       "      <th></th>\n",
       "      <th>Date</th>\n",
       "      <th>Holiday</th>\n",
       "      <th>Official</th>\n",
       "      <th>Religious</th>\n",
       "      <th>Weekend</th>\n",
       "      <th>Weekday</th>\n",
       "    </tr>\n",
       "  </thead>\n",
       "  <tbody>\n",
       "    <tr>\n",
       "      <th>0</th>\n",
       "      <td>2014-01-01</td>\n",
       "      <td>New years</td>\n",
       "      <td>1</td>\n",
       "      <td>0</td>\n",
       "      <td>0</td>\n",
       "      <td>1</td>\n",
       "    </tr>\n",
       "    <tr>\n",
       "      <th>1</th>\n",
       "      <td>2014-04-23</td>\n",
       "      <td>23rd April</td>\n",
       "      <td>1</td>\n",
       "      <td>0</td>\n",
       "      <td>0</td>\n",
       "      <td>1</td>\n",
       "    </tr>\n",
       "    <tr>\n",
       "      <th>2</th>\n",
       "      <td>2014-05-01</td>\n",
       "      <td>Workers</td>\n",
       "      <td>1</td>\n",
       "      <td>0</td>\n",
       "      <td>0</td>\n",
       "      <td>1</td>\n",
       "    </tr>\n",
       "    <tr>\n",
       "      <th>3</th>\n",
       "      <td>2014-05-19</td>\n",
       "      <td>Youth and Sports</td>\n",
       "      <td>1</td>\n",
       "      <td>0</td>\n",
       "      <td>0</td>\n",
       "      <td>1</td>\n",
       "    </tr>\n",
       "    <tr>\n",
       "      <th>4</th>\n",
       "      <td>2014-07-27</td>\n",
       "      <td>Ramadan</td>\n",
       "      <td>0</td>\n",
       "      <td>1</td>\n",
       "      <td>1</td>\n",
       "      <td>0</td>\n",
       "    </tr>\n",
       "  </tbody>\n",
       "</table>\n",
       "</div>"
      ],
      "text/plain": [
       "        Date           Holiday  Official  Religious  Weekend  Weekday\n",
       "0 2014-01-01         New years         1          0        0        1\n",
       "1 2014-04-23        23rd April         1          0        0        1\n",
       "2 2014-05-01           Workers         1          0        0        1\n",
       "3 2014-05-19  Youth and Sports         1          0        0        1\n",
       "4 2014-07-27           Ramadan         0          1        1        0"
      ]
     },
     "execution_count": 20,
     "metadata": {},
     "output_type": "execute_result"
    }
   ],
   "source": [
    "df = pd.read_excel(\"ExternalDataRaw\\Holidays.xlsx\")\n",
    "df.head()"
   ]
  },
  {
   "cell_type": "code",
   "execution_count": 21,
   "metadata": {
    "ExecuteTime": {
     "end_time": "2023-01-15T17:15:07.276344Z",
     "start_time": "2023-01-15T17:15:07.263844Z"
    }
   },
   "outputs": [],
   "source": [
    "df.drop(labels=[\"Holiday\",\"Official\", \"Religious\"],axis=1, inplace=True)"
   ]
  },
  {
   "cell_type": "markdown",
   "metadata": {},
   "source": [
    "Round holiday dates to week start dates"
   ]
  },
  {
   "cell_type": "code",
   "execution_count": 22,
   "metadata": {
    "ExecuteTime": {
     "end_time": "2023-01-15T17:15:07.790653Z",
     "start_time": "2023-01-15T17:15:07.779633Z"
    }
   },
   "outputs": [],
   "source": [
    "df[\"Date\"]  = df[\"Date\"] - pd.to_timedelta(df[\"Date\"].dt.dayofweek, unit='d')"
   ]
  },
  {
   "attachments": {},
   "cell_type": "markdown",
   "metadata": {},
   "source": [
    "Sum up all holidays for the given week"
   ]
  },
  {
   "cell_type": "code",
   "execution_count": 23,
   "metadata": {
    "ExecuteTime": {
     "end_time": "2023-01-15T17:15:08.474715Z",
     "start_time": "2023-01-15T17:15:08.458735Z"
    }
   },
   "outputs": [
    {
     "data": {
      "text/html": [
       "<div>\n",
       "<style scoped>\n",
       "    .dataframe tbody tr th:only-of-type {\n",
       "        vertical-align: middle;\n",
       "    }\n",
       "\n",
       "    .dataframe tbody tr th {\n",
       "        vertical-align: top;\n",
       "    }\n",
       "\n",
       "    .dataframe thead th {\n",
       "        text-align: right;\n",
       "    }\n",
       "</style>\n",
       "<table border=\"1\" class=\"dataframe\">\n",
       "  <thead>\n",
       "    <tr style=\"text-align: right;\">\n",
       "      <th></th>\n",
       "      <th>Date</th>\n",
       "      <th>Weekend</th>\n",
       "      <th>Weekday</th>\n",
       "    </tr>\n",
       "  </thead>\n",
       "  <tbody>\n",
       "    <tr>\n",
       "      <th>0</th>\n",
       "      <td>2013-12-30</td>\n",
       "      <td>0</td>\n",
       "      <td>1</td>\n",
       "    </tr>\n",
       "    <tr>\n",
       "      <th>1</th>\n",
       "      <td>2014-04-21</td>\n",
       "      <td>0</td>\n",
       "      <td>1</td>\n",
       "    </tr>\n",
       "    <tr>\n",
       "      <th>2</th>\n",
       "      <td>2014-04-28</td>\n",
       "      <td>0</td>\n",
       "      <td>1</td>\n",
       "    </tr>\n",
       "    <tr>\n",
       "      <th>3</th>\n",
       "      <td>2014-05-19</td>\n",
       "      <td>0</td>\n",
       "      <td>1</td>\n",
       "    </tr>\n",
       "    <tr>\n",
       "      <th>4</th>\n",
       "      <td>2014-07-21</td>\n",
       "      <td>1</td>\n",
       "      <td>0</td>\n",
       "    </tr>\n",
       "  </tbody>\n",
       "</table>\n",
       "</div>"
      ],
      "text/plain": [
       "        Date  Weekend  Weekday\n",
       "0 2013-12-30        0        1\n",
       "1 2014-04-21        0        1\n",
       "2 2014-04-28        0        1\n",
       "3 2014-05-19        0        1\n",
       "4 2014-07-21        1        0"
      ]
     },
     "execution_count": 23,
     "metadata": {},
     "output_type": "execute_result"
    }
   ],
   "source": [
    "df= df.groupby(df['Date']).aggregate(\"sum\")\n",
    "df.reset_index(inplace=True)\n",
    "df.head()"
   ]
  },
  {
   "cell_type": "code",
   "execution_count": 24,
   "metadata": {
    "ExecuteTime": {
     "end_time": "2023-01-15T17:15:09.457023Z",
     "start_time": "2023-01-15T17:15:09.441026Z"
    }
   },
   "outputs": [],
   "source": [
    "df.columns=[\"Date\", \"WeekendHolidayCount\", \"WeekDayHolidayCount\"]"
   ]
  },
  {
   "cell_type": "code",
   "execution_count": 25,
   "metadata": {
    "ExecuteTime": {
     "end_time": "2023-01-15T17:12:55.414063Z",
     "start_time": "2023-01-15T17:12:55.398523Z"
    }
   },
   "outputs": [],
   "source": [
    "df.to_csv(\"ExternalDataFormatted\\HolidayDataReady.csv\", index=False)"
   ]
  },
  {
   "cell_type": "markdown",
   "metadata": {},
   "source": [
    "### Inflation data"
   ]
  },
  {
   "cell_type": "code",
   "execution_count": 26,
   "metadata": {
    "ExecuteTime": {
     "end_time": "2023-01-15T17:12:57.128937Z",
     "start_time": "2023-01-15T17:12:57.115445Z"
    }
   },
   "outputs": [
    {
     "data": {
      "text/html": [
       "<div>\n",
       "<style scoped>\n",
       "    .dataframe tbody tr th:only-of-type {\n",
       "        vertical-align: middle;\n",
       "    }\n",
       "\n",
       "    .dataframe tbody tr th {\n",
       "        vertical-align: top;\n",
       "    }\n",
       "\n",
       "    .dataframe thead th {\n",
       "        text-align: right;\n",
       "    }\n",
       "</style>\n",
       "<table border=\"1\" class=\"dataframe\">\n",
       "  <thead>\n",
       "    <tr style=\"text-align: right;\">\n",
       "      <th></th>\n",
       "      <th>Year</th>\n",
       "      <th>Month</th>\n",
       "      <th>MoMInflation%</th>\n",
       "    </tr>\n",
       "  </thead>\n",
       "  <tbody>\n",
       "    <tr>\n",
       "      <th>0</th>\n",
       "      <td>2013</td>\n",
       "      <td>01-Ocak</td>\n",
       "      <td>1.65</td>\n",
       "    </tr>\n",
       "    <tr>\n",
       "      <th>1</th>\n",
       "      <td>2013</td>\n",
       "      <td>02-Şubat</td>\n",
       "      <td>1.95</td>\n",
       "    </tr>\n",
       "    <tr>\n",
       "      <th>2</th>\n",
       "      <td>2013</td>\n",
       "      <td>03-Mart</td>\n",
       "      <td>2.63</td>\n",
       "    </tr>\n",
       "    <tr>\n",
       "      <th>3</th>\n",
       "      <td>2013</td>\n",
       "      <td>04-Nisan</td>\n",
       "      <td>3.06</td>\n",
       "    </tr>\n",
       "    <tr>\n",
       "      <th>4</th>\n",
       "      <td>2013</td>\n",
       "      <td>05-Mayıs</td>\n",
       "      <td>3.21</td>\n",
       "    </tr>\n",
       "  </tbody>\n",
       "</table>\n",
       "</div>"
      ],
      "text/plain": [
       "   Year     Month  MoMInflation%\n",
       "0  2013   01-Ocak           1.65\n",
       "1  2013  02-Şubat           1.95\n",
       "2  2013   03-Mart           2.63\n",
       "3  2013  04-Nisan           3.06\n",
       "4  2013  05-Mayıs           3.21"
      ]
     },
     "execution_count": 26,
     "metadata": {},
     "output_type": "execute_result"
    }
   ],
   "source": [
    "df = pd.read_excel(\"ExternalDataRaw\\Inflation.xls\")\n",
    "df.head()"
   ]
  },
  {
   "attachments": {},
   "cell_type": "markdown",
   "metadata": {},
   "source": [
    "Configure Data column"
   ]
  },
  {
   "cell_type": "code",
   "execution_count": 27,
   "metadata": {
    "ExecuteTime": {
     "end_time": "2023-01-15T17:12:58.612488Z",
     "start_time": "2023-01-15T17:12:58.606791Z"
    }
   },
   "outputs": [],
   "source": [
    "df[\"Date\"] = df[\"Year\"].astype(str) + \"-\" + df['Month'].astype(str).str[0:2] + \"-01\"\n",
    "df.drop(labels=[\"Month\",\"Year\"],axis=1,inplace=True)"
   ]
  },
  {
   "cell_type": "markdown",
   "metadata": {},
   "source": [
    "Convert to datetime object and add new column indicating when the data is available (t+1 months)"
   ]
  },
  {
   "cell_type": "code",
   "execution_count": 29,
   "metadata": {
    "ExecuteTime": {
     "end_time": "2023-01-15T17:12:58.844398Z",
     "start_time": "2023-01-15T17:12:58.824393Z"
    }
   },
   "outputs": [],
   "source": [
    "df[\"Date\"]= pd.to_datetime(df['Date'])\n",
    "df[\"DataReleaseDate\"] = df[\"Date\"] + pd.to_timedelta(32,unit='d')"
   ]
  },
  {
   "cell_type": "code",
   "execution_count": 30,
   "metadata": {
    "ExecuteTime": {
     "end_time": "2023-01-15T17:12:59.074749Z",
     "start_time": "2023-01-15T17:12:59.061669Z"
    }
   },
   "outputs": [],
   "source": [
    "# Set the data release date to nearest sunday\n",
    "df[\"DataReleaseDate\"] = df[\"DataReleaseDate\"] - pd.to_timedelta(df[\"DataReleaseDate\"].dt.dayofweek, unit='d') +  pd.to_timedelta(6, unit='d')"
   ]
  },
  {
   "cell_type": "code",
   "execution_count": 31,
   "metadata": {
    "ExecuteTime": {
     "end_time": "2023-01-15T17:12:59.276953Z",
     "start_time": "2023-01-15T17:12:59.260273Z"
    }
   },
   "outputs": [
    {
     "data": {
      "text/html": [
       "<div>\n",
       "<style scoped>\n",
       "    .dataframe tbody tr th:only-of-type {\n",
       "        vertical-align: middle;\n",
       "    }\n",
       "\n",
       "    .dataframe tbody tr th {\n",
       "        vertical-align: top;\n",
       "    }\n",
       "\n",
       "    .dataframe thead th {\n",
       "        text-align: right;\n",
       "    }\n",
       "</style>\n",
       "<table border=\"1\" class=\"dataframe\">\n",
       "  <thead>\n",
       "    <tr style=\"text-align: right;\">\n",
       "      <th></th>\n",
       "      <th>MoMInflation%</th>\n",
       "      <th>Date</th>\n",
       "      <th>DataReleaseDate</th>\n",
       "    </tr>\n",
       "  </thead>\n",
       "  <tbody>\n",
       "    <tr>\n",
       "      <th>0</th>\n",
       "      <td>1.65</td>\n",
       "      <td>2013-01-01</td>\n",
       "      <td>2013-02-03</td>\n",
       "    </tr>\n",
       "    <tr>\n",
       "      <th>1</th>\n",
       "      <td>1.95</td>\n",
       "      <td>2013-02-01</td>\n",
       "      <td>2013-03-10</td>\n",
       "    </tr>\n",
       "    <tr>\n",
       "      <th>2</th>\n",
       "      <td>2.63</td>\n",
       "      <td>2013-03-01</td>\n",
       "      <td>2013-04-07</td>\n",
       "    </tr>\n",
       "    <tr>\n",
       "      <th>3</th>\n",
       "      <td>3.06</td>\n",
       "      <td>2013-04-01</td>\n",
       "      <td>2013-05-05</td>\n",
       "    </tr>\n",
       "    <tr>\n",
       "      <th>4</th>\n",
       "      <td>3.21</td>\n",
       "      <td>2013-05-01</td>\n",
       "      <td>2013-06-02</td>\n",
       "    </tr>\n",
       "  </tbody>\n",
       "</table>\n",
       "</div>"
      ],
      "text/plain": [
       "   MoMInflation%       Date DataReleaseDate\n",
       "0           1.65 2013-01-01      2013-02-03\n",
       "1           1.95 2013-02-01      2013-03-10\n",
       "2           2.63 2013-03-01      2013-04-07\n",
       "3           3.06 2013-04-01      2013-05-05\n",
       "4           3.21 2013-05-01      2013-06-02"
      ]
     },
     "execution_count": 31,
     "metadata": {},
     "output_type": "execute_result"
    }
   ],
   "source": [
    "df.head()"
   ]
  },
  {
   "cell_type": "markdown",
   "metadata": {},
   "source": [
    "- Put these into a weekly df"
   ]
  },
  {
   "cell_type": "code",
   "execution_count": 32,
   "metadata": {
    "ExecuteTime": {
     "end_time": "2023-01-15T17:13:01.301943Z",
     "start_time": "2023-01-15T17:13:01.288745Z"
    }
   },
   "outputs": [],
   "source": [
    "df_dates = pd.date_range('2014-01-05', '2019-12-30', freq='1W').to_frame(name='Date').reset_index(drop=True)\n",
    "df_dates.columns = [\"Date\"]\n",
    "df_dates.sort_values(by=\"Date\",inplace=True)\n",
    "df_dates.reset_index(inplace=True,drop=True)"
   ]
  },
  {
   "attachments": {},
   "cell_type": "markdown",
   "metadata": {},
   "source": [
    "Again an inefficient loop to configure the data release dates"
   ]
  },
  {
   "cell_type": "code",
   "execution_count": 33,
   "metadata": {
    "ExecuteTime": {
     "end_time": "2023-01-15T17:13:03.164961Z",
     "start_time": "2023-01-15T17:13:01.530691Z"
    }
   },
   "outputs": [],
   "source": [
    "df_dates[\"MoMInflation%\"] = 0\n",
    "\n",
    "for i in range(len(df_dates)):\n",
    "    for k in range(len(df)-1):\n",
    "        if df_dates.loc[i,\"Date\"] > df.loc[k,\"DataReleaseDate\"] and df_dates.loc[i,\"Date\"] <= df.loc[k+1,\"DataReleaseDate\"]:\n",
    "            df_dates.loc[i,\"MoMInflation%\"] = df.loc[k,\"MoMInflation%\"]"
   ]
  },
  {
   "attachments": {},
   "cell_type": "markdown",
   "metadata": {},
   "source": [
    "Add one day so it matches with the training/test data (Sundays)"
   ]
  },
  {
   "cell_type": "code",
   "execution_count": 34,
   "metadata": {
    "ExecuteTime": {
     "end_time": "2023-01-15T17:13:03.180405Z",
     "start_time": "2023-01-15T17:13:03.167357Z"
    }
   },
   "outputs": [],
   "source": [
    "df_dates[\"Date\"] = df_dates[\"Date\"] + pd.to_timedelta(1,unit='d')"
   ]
  },
  {
   "cell_type": "code",
   "execution_count": 35,
   "metadata": {
    "ExecuteTime": {
     "end_time": "2023-01-15T17:13:51.776234Z",
     "start_time": "2023-01-15T17:13:51.761066Z"
    }
   },
   "outputs": [],
   "source": [
    "df_dates.columns = [\"DateDataAvailable\", \"InflationYTD\"]"
   ]
  },
  {
   "cell_type": "code",
   "execution_count": 36,
   "metadata": {
    "ExecuteTime": {
     "end_time": "2023-01-15T17:13:52.164902Z",
     "start_time": "2023-01-15T17:13:52.142572Z"
    }
   },
   "outputs": [
    {
     "data": {
      "text/html": [
       "<div>\n",
       "<style scoped>\n",
       "    .dataframe tbody tr th:only-of-type {\n",
       "        vertical-align: middle;\n",
       "    }\n",
       "\n",
       "    .dataframe tbody tr th {\n",
       "        vertical-align: top;\n",
       "    }\n",
       "\n",
       "    .dataframe thead th {\n",
       "        text-align: right;\n",
       "    }\n",
       "</style>\n",
       "<table border=\"1\" class=\"dataframe\">\n",
       "  <thead>\n",
       "    <tr style=\"text-align: right;\">\n",
       "      <th></th>\n",
       "      <th>DateDataAvailable</th>\n",
       "      <th>InflationYTD</th>\n",
       "    </tr>\n",
       "  </thead>\n",
       "  <tbody>\n",
       "    <tr>\n",
       "      <th>0</th>\n",
       "      <td>2014-01-06</td>\n",
       "      <td>6.91</td>\n",
       "    </tr>\n",
       "    <tr>\n",
       "      <th>1</th>\n",
       "      <td>2014-01-13</td>\n",
       "      <td>7.40</td>\n",
       "    </tr>\n",
       "    <tr>\n",
       "      <th>2</th>\n",
       "      <td>2014-01-20</td>\n",
       "      <td>7.40</td>\n",
       "    </tr>\n",
       "    <tr>\n",
       "      <th>3</th>\n",
       "      <td>2014-01-27</td>\n",
       "      <td>7.40</td>\n",
       "    </tr>\n",
       "    <tr>\n",
       "      <th>4</th>\n",
       "      <td>2014-02-03</td>\n",
       "      <td>7.40</td>\n",
       "    </tr>\n",
       "  </tbody>\n",
       "</table>\n",
       "</div>"
      ],
      "text/plain": [
       "  DateDataAvailable  InflationYTD\n",
       "0        2014-01-06          6.91\n",
       "1        2014-01-13          7.40\n",
       "2        2014-01-20          7.40\n",
       "3        2014-01-27          7.40\n",
       "4        2014-02-03          7.40"
      ]
     },
     "execution_count": 36,
     "metadata": {},
     "output_type": "execute_result"
    }
   ],
   "source": [
    "df_dates.head()"
   ]
  },
  {
   "cell_type": "code",
   "execution_count": 37,
   "metadata": {
    "ExecuteTime": {
     "end_time": "2023-01-15T17:13:03.426829Z",
     "start_time": "2023-01-15T17:13:03.407579Z"
    }
   },
   "outputs": [],
   "source": [
    "df_dates.reset_index(inplace=True,drop=True)\n",
    "df_dates.to_csv(\"ExternalDataFormatted\\InflationDataReady.csv\",index=False)"
   ]
  },
  {
   "cell_type": "markdown",
   "metadata": {},
   "source": [
    "# GDP Growth Data"
   ]
  },
  {
   "cell_type": "code",
   "execution_count": 38,
   "metadata": {
    "ExecuteTime": {
     "end_time": "2023-01-15T17:13:32.368398Z",
     "start_time": "2023-01-15T17:13:32.331914Z"
    }
   },
   "outputs": [
    {
     "data": {
      "text/html": [
       "<div>\n",
       "<style scoped>\n",
       "    .dataframe tbody tr th:only-of-type {\n",
       "        vertical-align: middle;\n",
       "    }\n",
       "\n",
       "    .dataframe tbody tr th {\n",
       "        vertical-align: top;\n",
       "    }\n",
       "\n",
       "    .dataframe thead th {\n",
       "        text-align: right;\n",
       "    }\n",
       "</style>\n",
       "<table border=\"1\" class=\"dataframe\">\n",
       "  <thead>\n",
       "    <tr style=\"text-align: right;\">\n",
       "      <th></th>\n",
       "      <th>DataReleaseDate</th>\n",
       "      <th>GDPGrowth%</th>\n",
       "    </tr>\n",
       "  </thead>\n",
       "  <tbody>\n",
       "    <tr>\n",
       "      <th>0</th>\n",
       "      <td>Dec 02, 2019</td>\n",
       "      <td>0.009</td>\n",
       "    </tr>\n",
       "    <tr>\n",
       "      <th>1</th>\n",
       "      <td>Sep 02, 2019</td>\n",
       "      <td>-0.015</td>\n",
       "    </tr>\n",
       "    <tr>\n",
       "      <th>2</th>\n",
       "      <td>May 31, 2019</td>\n",
       "      <td>-0.026</td>\n",
       "    </tr>\n",
       "    <tr>\n",
       "      <th>3</th>\n",
       "      <td>Mar 11, 2019</td>\n",
       "      <td>-0.030</td>\n",
       "    </tr>\n",
       "    <tr>\n",
       "      <th>4</th>\n",
       "      <td>Dec 10, 2018</td>\n",
       "      <td>0.016</td>\n",
       "    </tr>\n",
       "  </tbody>\n",
       "</table>\n",
       "</div>"
      ],
      "text/plain": [
       "  DataReleaseDate  GDPGrowth%\n",
       "0    Dec 02, 2019       0.009\n",
       "1    Sep 02, 2019      -0.015\n",
       "2    May 31, 2019      -0.026\n",
       "3    Mar 11, 2019      -0.030\n",
       "4    Dec 10, 2018       0.016"
      ]
     },
     "execution_count": 38,
     "metadata": {},
     "output_type": "execute_result"
    }
   ],
   "source": [
    "df = pd.read_excel(\"ExternalDataRaw\\GDPGrowth.xlsx\")\n",
    "df.columns = [\"DataReleaseDate\", \"GDPGrowth%\"]\n",
    "df.head()"
   ]
  },
  {
   "cell_type": "code",
   "execution_count": 39,
   "metadata": {
    "ExecuteTime": {
     "end_time": "2023-01-15T17:13:33.625481Z",
     "start_time": "2023-01-15T17:13:33.610356Z"
    }
   },
   "outputs": [
    {
     "data": {
      "text/html": [
       "<div>\n",
       "<style scoped>\n",
       "    .dataframe tbody tr th:only-of-type {\n",
       "        vertical-align: middle;\n",
       "    }\n",
       "\n",
       "    .dataframe tbody tr th {\n",
       "        vertical-align: top;\n",
       "    }\n",
       "\n",
       "    .dataframe thead th {\n",
       "        text-align: right;\n",
       "    }\n",
       "</style>\n",
       "<table border=\"1\" class=\"dataframe\">\n",
       "  <thead>\n",
       "    <tr style=\"text-align: right;\">\n",
       "      <th></th>\n",
       "      <th>DataReleaseDate</th>\n",
       "      <th>GDPGrowth%</th>\n",
       "    </tr>\n",
       "  </thead>\n",
       "  <tbody>\n",
       "    <tr>\n",
       "      <th>0</th>\n",
       "      <td>2013-12-10</td>\n",
       "      <td>0.044</td>\n",
       "    </tr>\n",
       "    <tr>\n",
       "      <th>1</th>\n",
       "      <td>2014-03-31</td>\n",
       "      <td>0.044</td>\n",
       "    </tr>\n",
       "    <tr>\n",
       "      <th>2</th>\n",
       "      <td>2014-06-10</td>\n",
       "      <td>0.043</td>\n",
       "    </tr>\n",
       "    <tr>\n",
       "      <th>3</th>\n",
       "      <td>2014-09-10</td>\n",
       "      <td>0.021</td>\n",
       "    </tr>\n",
       "    <tr>\n",
       "      <th>4</th>\n",
       "      <td>2014-12-10</td>\n",
       "      <td>0.017</td>\n",
       "    </tr>\n",
       "    <tr>\n",
       "      <th>5</th>\n",
       "      <td>2015-03-31</td>\n",
       "      <td>0.026</td>\n",
       "    </tr>\n",
       "    <tr>\n",
       "      <th>6</th>\n",
       "      <td>2015-06-10</td>\n",
       "      <td>0.023</td>\n",
       "    </tr>\n",
       "    <tr>\n",
       "      <th>7</th>\n",
       "      <td>2015-09-10</td>\n",
       "      <td>0.038</td>\n",
       "    </tr>\n",
       "    <tr>\n",
       "      <th>8</th>\n",
       "      <td>2015-12-10</td>\n",
       "      <td>0.040</td>\n",
       "    </tr>\n",
       "    <tr>\n",
       "      <th>9</th>\n",
       "      <td>2016-03-31</td>\n",
       "      <td>0.057</td>\n",
       "    </tr>\n",
       "    <tr>\n",
       "      <th>10</th>\n",
       "      <td>2016-06-10</td>\n",
       "      <td>0.048</td>\n",
       "    </tr>\n",
       "    <tr>\n",
       "      <th>11</th>\n",
       "      <td>2016-09-09</td>\n",
       "      <td>0.031</td>\n",
       "    </tr>\n",
       "    <tr>\n",
       "      <th>12</th>\n",
       "      <td>2016-12-12</td>\n",
       "      <td>-0.018</td>\n",
       "    </tr>\n",
       "    <tr>\n",
       "      <th>13</th>\n",
       "      <td>2017-03-31</td>\n",
       "      <td>0.035</td>\n",
       "    </tr>\n",
       "    <tr>\n",
       "      <th>14</th>\n",
       "      <td>2017-06-12</td>\n",
       "      <td>0.050</td>\n",
       "    </tr>\n",
       "    <tr>\n",
       "      <th>15</th>\n",
       "      <td>2017-09-11</td>\n",
       "      <td>0.051</td>\n",
       "    </tr>\n",
       "    <tr>\n",
       "      <th>16</th>\n",
       "      <td>2017-12-11</td>\n",
       "      <td>0.111</td>\n",
       "    </tr>\n",
       "    <tr>\n",
       "      <th>17</th>\n",
       "      <td>2018-03-29</td>\n",
       "      <td>0.073</td>\n",
       "    </tr>\n",
       "    <tr>\n",
       "      <th>18</th>\n",
       "      <td>2018-06-11</td>\n",
       "      <td>0.074</td>\n",
       "    </tr>\n",
       "    <tr>\n",
       "      <th>19</th>\n",
       "      <td>2018-09-10</td>\n",
       "      <td>0.052</td>\n",
       "    </tr>\n",
       "    <tr>\n",
       "      <th>20</th>\n",
       "      <td>2018-12-10</td>\n",
       "      <td>0.016</td>\n",
       "    </tr>\n",
       "    <tr>\n",
       "      <th>21</th>\n",
       "      <td>2019-03-11</td>\n",
       "      <td>-0.030</td>\n",
       "    </tr>\n",
       "    <tr>\n",
       "      <th>22</th>\n",
       "      <td>2019-05-31</td>\n",
       "      <td>-0.026</td>\n",
       "    </tr>\n",
       "    <tr>\n",
       "      <th>23</th>\n",
       "      <td>2019-09-02</td>\n",
       "      <td>-0.015</td>\n",
       "    </tr>\n",
       "  </tbody>\n",
       "</table>\n",
       "</div>"
      ],
      "text/plain": [
       "   DataReleaseDate  GDPGrowth%\n",
       "0       2013-12-10       0.044\n",
       "1       2014-03-31       0.044\n",
       "2       2014-06-10       0.043\n",
       "3       2014-09-10       0.021\n",
       "4       2014-12-10       0.017\n",
       "5       2015-03-31       0.026\n",
       "6       2015-06-10       0.023\n",
       "7       2015-09-10       0.038\n",
       "8       2015-12-10       0.040\n",
       "9       2016-03-31       0.057\n",
       "10      2016-06-10       0.048\n",
       "11      2016-09-09       0.031\n",
       "12      2016-12-12      -0.018\n",
       "13      2017-03-31       0.035\n",
       "14      2017-06-12       0.050\n",
       "15      2017-09-11       0.051\n",
       "16      2017-12-11       0.111\n",
       "17      2018-03-29       0.073\n",
       "18      2018-06-11       0.074\n",
       "19      2018-09-10       0.052\n",
       "20      2018-12-10       0.016\n",
       "21      2019-03-11      -0.030\n",
       "22      2019-05-31      -0.026\n",
       "23      2019-09-02      -0.015"
      ]
     },
     "execution_count": 39,
     "metadata": {},
     "output_type": "execute_result"
    }
   ],
   "source": [
    "df[\"DataReleaseDate\"] = pd.to_datetime(df['DataReleaseDate'])\n",
    "df.sort_values(by=\"DataReleaseDate\",inplace=True)\n",
    "df.reset_index(inplace=True,drop=True)\n",
    "df.head(-1)"
   ]
  },
  {
   "cell_type": "markdown",
   "metadata": {},
   "source": [
    "- Put these into a weekly df"
   ]
  },
  {
   "cell_type": "code",
   "execution_count": 40,
   "metadata": {
    "ExecuteTime": {
     "end_time": "2023-01-15T17:13:34.155549Z",
     "start_time": "2023-01-15T17:13:34.134562Z"
    }
   },
   "outputs": [],
   "source": [
    "df_dates = pd.date_range('2014-01-05', '2019-12-30', freq='1W').to_frame(name='Date').reset_index(drop=True)\n",
    "df_dates.columns = [\"Date\"]\n",
    "df_dates.sort_values(by=\"Date\",inplace=True)\n",
    "df_dates.reset_index(inplace=True,drop=True)"
   ]
  },
  {
   "attachments": {},
   "cell_type": "markdown",
   "metadata": {},
   "source": [
    "Again the ugly loop :/"
   ]
  },
  {
   "cell_type": "code",
   "execution_count": 41,
   "metadata": {
    "ExecuteTime": {
     "end_time": "2023-01-15T17:13:35.581596Z",
     "start_time": "2023-01-15T17:13:35.144869Z"
    }
   },
   "outputs": [],
   "source": [
    "df_dates[\"GDPGrowth%\"] = 0\n",
    "\n",
    "for i in range(len(df_dates)):\n",
    "    for k in range(len(df)-1):\n",
    "        if df_dates.loc[i,\"Date\"] > df.loc[k,\"DataReleaseDate\"] and df_dates.loc[i,\"Date\"] <= df.loc[k+1,\"DataReleaseDate\"]:\n",
    "            df_dates.loc[i,\"GDPGrowth%\"] = df.loc[k,\"GDPGrowth%\"]\n",
    "\n",
    "    # set last 4 entries manually\n",
    "    if i >= 309:\n",
    "        df_dates.loc[i,\"GDPGrowth%\"] = df.loc[len(df)-1,\"GDPGrowth%\"]"
   ]
  },
  {
   "cell_type": "markdown",
   "metadata": {},
   "source": [
    "Add one day so it matches with the training/test data"
   ]
  },
  {
   "cell_type": "code",
   "execution_count": 43,
   "metadata": {
    "ExecuteTime": {
     "end_time": "2023-01-15T17:13:35.597299Z",
     "start_time": "2023-01-15T17:13:35.583981Z"
    }
   },
   "outputs": [
    {
     "data": {
      "text/html": [
       "<div>\n",
       "<style scoped>\n",
       "    .dataframe tbody tr th:only-of-type {\n",
       "        vertical-align: middle;\n",
       "    }\n",
       "\n",
       "    .dataframe tbody tr th {\n",
       "        vertical-align: top;\n",
       "    }\n",
       "\n",
       "    .dataframe thead th {\n",
       "        text-align: right;\n",
       "    }\n",
       "</style>\n",
       "<table border=\"1\" class=\"dataframe\">\n",
       "  <thead>\n",
       "    <tr style=\"text-align: right;\">\n",
       "      <th></th>\n",
       "      <th>Date</th>\n",
       "      <th>GDPGrowth%</th>\n",
       "    </tr>\n",
       "  </thead>\n",
       "  <tbody>\n",
       "    <tr>\n",
       "      <th>0</th>\n",
       "      <td>2014-01-06</td>\n",
       "      <td>0.044</td>\n",
       "    </tr>\n",
       "    <tr>\n",
       "      <th>1</th>\n",
       "      <td>2014-01-13</td>\n",
       "      <td>0.044</td>\n",
       "    </tr>\n",
       "    <tr>\n",
       "      <th>2</th>\n",
       "      <td>2014-01-20</td>\n",
       "      <td>0.044</td>\n",
       "    </tr>\n",
       "    <tr>\n",
       "      <th>3</th>\n",
       "      <td>2014-01-27</td>\n",
       "      <td>0.044</td>\n",
       "    </tr>\n",
       "    <tr>\n",
       "      <th>4</th>\n",
       "      <td>2014-02-03</td>\n",
       "      <td>0.044</td>\n",
       "    </tr>\n",
       "    <tr>\n",
       "      <th>...</th>\n",
       "      <td>...</td>\n",
       "      <td>...</td>\n",
       "    </tr>\n",
       "    <tr>\n",
       "      <th>308</th>\n",
       "      <td>2019-12-02</td>\n",
       "      <td>-0.015</td>\n",
       "    </tr>\n",
       "    <tr>\n",
       "      <th>309</th>\n",
       "      <td>2019-12-09</td>\n",
       "      <td>0.009</td>\n",
       "    </tr>\n",
       "    <tr>\n",
       "      <th>310</th>\n",
       "      <td>2019-12-16</td>\n",
       "      <td>0.009</td>\n",
       "    </tr>\n",
       "    <tr>\n",
       "      <th>311</th>\n",
       "      <td>2019-12-23</td>\n",
       "      <td>0.009</td>\n",
       "    </tr>\n",
       "    <tr>\n",
       "      <th>312</th>\n",
       "      <td>2019-12-30</td>\n",
       "      <td>0.009</td>\n",
       "    </tr>\n",
       "  </tbody>\n",
       "</table>\n",
       "<p>313 rows × 2 columns</p>\n",
       "</div>"
      ],
      "text/plain": [
       "          Date  GDPGrowth%\n",
       "0   2014-01-06       0.044\n",
       "1   2014-01-13       0.044\n",
       "2   2014-01-20       0.044\n",
       "3   2014-01-27       0.044\n",
       "4   2014-02-03       0.044\n",
       "..         ...         ...\n",
       "308 2019-12-02      -0.015\n",
       "309 2019-12-09       0.009\n",
       "310 2019-12-16       0.009\n",
       "311 2019-12-23       0.009\n",
       "312 2019-12-30       0.009\n",
       "\n",
       "[313 rows x 2 columns]"
      ]
     },
     "execution_count": 43,
     "metadata": {},
     "output_type": "execute_result"
    }
   ],
   "source": [
    "df_dates[\"Date\"] = df_dates[\"Date\"] + pd.to_timedelta(1,unit='d')\n",
    "df_dates"
   ]
  },
  {
   "cell_type": "code",
   "execution_count": 44,
   "metadata": {
    "ExecuteTime": {
     "end_time": "2023-01-15T17:13:35.627614Z",
     "start_time": "2023-01-15T17:13:35.605600Z"
    }
   },
   "outputs": [],
   "source": [
    "df_dates.reset_index(inplace=True,drop=True)\n",
    "df_dates.to_csv(\"ExternalDataFormatted\\GDPDataReady.csv\",index=False)"
   ]
  },
  {
   "cell_type": "markdown",
   "metadata": {},
   "source": [
    "# USD TRY DATA"
   ]
  },
  {
   "cell_type": "code",
   "execution_count": 45,
   "metadata": {},
   "outputs": [
    {
     "data": {
      "text/html": [
       "<div>\n",
       "<style scoped>\n",
       "    .dataframe tbody tr th:only-of-type {\n",
       "        vertical-align: middle;\n",
       "    }\n",
       "\n",
       "    .dataframe tbody tr th {\n",
       "        vertical-align: top;\n",
       "    }\n",
       "\n",
       "    .dataframe thead th {\n",
       "        text-align: right;\n",
       "    }\n",
       "</style>\n",
       "<table border=\"1\" class=\"dataframe\">\n",
       "  <thead>\n",
       "    <tr style=\"text-align: right;\">\n",
       "      <th></th>\n",
       "      <th>Date</th>\n",
       "      <th>WoWChange%</th>\n",
       "    </tr>\n",
       "  </thead>\n",
       "  <tbody>\n",
       "    <tr>\n",
       "      <th>0</th>\n",
       "      <td>29.12.2019</td>\n",
       "      <td>0,37%</td>\n",
       "    </tr>\n",
       "    <tr>\n",
       "      <th>1</th>\n",
       "      <td>22.12.2019</td>\n",
       "      <td>0,23%</td>\n",
       "    </tr>\n",
       "    <tr>\n",
       "      <th>2</th>\n",
       "      <td>15.12.2019</td>\n",
       "      <td>2,21%</td>\n",
       "    </tr>\n",
       "    <tr>\n",
       "      <th>3</th>\n",
       "      <td>08.12.2019</td>\n",
       "      <td>0,55%</td>\n",
       "    </tr>\n",
       "    <tr>\n",
       "      <th>4</th>\n",
       "      <td>01.12.2019</td>\n",
       "      <td>0,52%</td>\n",
       "    </tr>\n",
       "  </tbody>\n",
       "</table>\n",
       "</div>"
      ],
      "text/plain": [
       "         Date WoWChange%\n",
       "0  29.12.2019      0,37%\n",
       "1  22.12.2019      0,23%\n",
       "2  15.12.2019      2,21%\n",
       "3  08.12.2019      0,55%\n",
       "4  01.12.2019      0,52%"
      ]
     },
     "execution_count": 45,
     "metadata": {},
     "output_type": "execute_result"
    }
   ],
   "source": [
    "df = pd.read_csv(r\"ExternalDataRaw\\USDTRYWeeklyChanges.csv\")\n",
    "df.head()"
   ]
  },
  {
   "cell_type": "code",
   "execution_count": 46,
   "metadata": {},
   "outputs": [
    {
     "data": {
      "text/html": [
       "<div>\n",
       "<style scoped>\n",
       "    .dataframe tbody tr th:only-of-type {\n",
       "        vertical-align: middle;\n",
       "    }\n",
       "\n",
       "    .dataframe tbody tr th {\n",
       "        vertical-align: top;\n",
       "    }\n",
       "\n",
       "    .dataframe thead th {\n",
       "        text-align: right;\n",
       "    }\n",
       "</style>\n",
       "<table border=\"1\" class=\"dataframe\">\n",
       "  <thead>\n",
       "    <tr style=\"text-align: right;\">\n",
       "      <th></th>\n",
       "      <th>Date</th>\n",
       "      <th>WoWChange%</th>\n",
       "    </tr>\n",
       "  </thead>\n",
       "  <tbody>\n",
       "    <tr>\n",
       "      <th>0</th>\n",
       "      <td>2014-01-06</td>\n",
       "      <td>-0.62%</td>\n",
       "    </tr>\n",
       "    <tr>\n",
       "      <th>1</th>\n",
       "      <td>2014-01-13</td>\n",
       "      <td>3.08%</td>\n",
       "    </tr>\n",
       "    <tr>\n",
       "      <th>2</th>\n",
       "      <td>2014-01-20</td>\n",
       "      <td>4.47%</td>\n",
       "    </tr>\n",
       "    <tr>\n",
       "      <th>3</th>\n",
       "      <td>2014-01-27</td>\n",
       "      <td>-3,04%</td>\n",
       "    </tr>\n",
       "    <tr>\n",
       "      <th>4</th>\n",
       "      <td>2014-02-03</td>\n",
       "      <td>-1,80%</td>\n",
       "    </tr>\n",
       "  </tbody>\n",
       "</table>\n",
       "</div>"
      ],
      "text/plain": [
       "        Date WoWChange%\n",
       "0 2014-01-06     -0.62%\n",
       "1 2014-01-13      3.08%\n",
       "2 2014-01-20      4.47%\n",
       "3 2014-01-27     -3,04%\n",
       "4 2014-02-03     -1,80%"
      ]
     },
     "execution_count": 46,
     "metadata": {},
     "output_type": "execute_result"
    }
   ],
   "source": [
    "df[\"Date\"] = pd.to_datetime(df['Date'],format=\"%d.%m.%Y\")\n",
    "df.sort_values(by=\"Date\",inplace=True)\n",
    "df.reset_index(inplace=True,drop=True)\n",
    "df[\"Date\"] = df[\"Date\"] +  pd.to_timedelta(1,unit='d')\n",
    "df.head()"
   ]
  },
  {
   "cell_type": "code",
   "execution_count": 47,
   "metadata": {},
   "outputs": [],
   "source": [
    "df.to_csv(r\"ExternalDataFormatted\\USDDataReady.csv\",index=False)"
   ]
  }
 ],
 "metadata": {
  "kernelspec": {
   "display_name": "Python 3 (ipykernel)",
   "language": "python",
   "name": "python3"
  },
  "language_info": {
   "codemirror_mode": {
    "name": "ipython",
    "version": 3
   },
   "file_extension": ".py",
   "mimetype": "text/x-python",
   "name": "python",
   "nbconvert_exporter": "python",
   "pygments_lexer": "ipython3",
   "version": "3.8.15"
  },
  "vscode": {
   "interpreter": {
    "hash": "ad2bdc8ecc057115af97d19610ffacc2b4e99fae6737bb82f5d7fb13d2f2c186"
   }
  }
 },
 "nbformat": 4,
 "nbformat_minor": 2
}
