{
 "cells": [
  {
   "cell_type": "code",
   "execution_count": null,
   "metadata": {},
   "outputs": [],
   "source": []
  },
  {
   "attachments": {},
   "cell_type": "markdown",
   "metadata": {},
   "source": [
    "#### Merge again after shifting price days by 1 day, to fill in only missing values"
   ]
  },
  {
   "cell_type": "code",
   "execution_count": null,
   "metadata": {},
   "outputs": [
    {
     "name": "stdout",
     "output_type": "stream",
     "text": [
      "NaN prices: True\n",
      "6858\n"
     ]
    }
   ],
   "source": [
    "## Add one more day so the saturday prices correspond to monday\n",
    "df_prices[\"Date\"] = df_prices[\"Date\"] + pd.to_timedelta(1, unit='d')\n",
    "df_merged = df_merged.merge(df_prices,how=\"left\")\n",
    "df_merged.rename(columns={\"CRP\":\"Price(t-2)\"}, inplace=True)\n",
    "print(\"NaN prices:\", df_merged[\"Price(t-2)\"].isna().any())\n",
    "print(df_merged[\"Price(t-2)\"].isna().sum())"
   ]
  },
  {
   "cell_type": "code",
   "execution_count": null,
   "metadata": {},
   "outputs": [
    {
     "name": "stdout",
     "output_type": "stream",
     "text": [
      "NaN prices: True\n",
      "6742\n"
     ]
    }
   ],
   "source": [
    "## Add one more day so the saturday prices correspond to monday\n",
    "df_prices[\"Date\"] = df_prices[\"Date\"] + pd.to_timedelta(1, unit='d')\n",
    "df_merged = df_merged.merge(df_prices,how=\"left\")\n",
    "df_merged.rename(columns={\"CRP\":\"Price(t-3)\"}, inplace=True)\n",
    "df_merged[\"Price(t-3)\"].isna().any()\n",
    "print(\"NaN prices:\", df_merged[\"Price(t-3)\"].isna().any())\n",
    "print(df_merged[\"Price(t-3)\"].isna().sum())"
   ]
  },
  {
   "cell_type": "code",
   "execution_count": null,
   "metadata": {},
   "outputs": [
    {
     "data": {
      "text/plain": [
       "True"
      ]
     },
     "metadata": {},
     "output_type": "display_data"
    }
   ],
   "source": [
    "## Add one more day so the saturday prices correspond to monday\n",
    "df_prices[\"Date\"] = df_prices[\"Date\"] + pd.to_timedelta(1, unit='d')\n",
    "df_merged = df_merged.merge(df_prices,how=\"left\")\n",
    "df_merged.rename(columns={\"CRP\":\"Price(t-4)\"}, inplace=True)\n",
    "df_merged[\"Price(t-4)\"].isna().any()"
   ]
  },
  {
   "cell_type": "code",
   "execution_count": null,
   "metadata": {},
   "outputs": [
    {
     "name": "stdout",
     "output_type": "stream",
     "text": [
      "NaN prices: True\n",
      "10083\n"
     ]
    }
   ],
   "source": [
    "print(\"NaN prices:\", df_merged[\"Price(t-4)\"].isna().any())\n",
    "print(df_merged[\"Price(t-4)\"].isna().sum())"
   ]
  },
  {
   "cell_type": "code",
   "execution_count": null,
   "metadata": {},
   "outputs": [
    {
     "name": "stdout",
     "output_type": "stream",
     "text": [
      "NaN prices: True\n",
      "10214\n"
     ]
    }
   ],
   "source": [
    "## Add one more day so the saturday prices correspond to monday\n",
    "df_prices[\"Date\"] = df_prices[\"Date\"] + pd.to_timedelta(1, unit='d')\n",
    "df_merged = df_merged.merge(df_prices,how=\"left\")\n",
    "df_merged.rename(columns={\"CRP\":\"Price(t-5)\"}, inplace=True)\n",
    "print(\"NaN prices:\", df_merged[\"Price(t-5)\"].isna().any())\n",
    "print(df_merged[\"Price(t-5)\"].isna().sum())"
   ]
  },
  {
   "cell_type": "code",
   "execution_count": null,
   "metadata": {},
   "outputs": [
    {
     "name": "stdout",
     "output_type": "stream",
     "text": [
      "NaN prices: True\n",
      "8596\n"
     ]
    }
   ],
   "source": [
    "## Add one more day so the saturday prices correspond to monday\n",
    "df_prices[\"Date\"] = df_prices[\"Date\"] + pd.to_timedelta(1, unit='d')\n",
    "df_merged = df_merged.merge(df_prices,how=\"left\")\n",
    "df_merged.rename(columns={\"CRP\":\"Price(t-6)\"}, inplace=True)\n",
    "print(\"NaN prices:\", df_merged[\"Price(t-6)\"].isna().any())\n",
    "print(df_merged[\"Price(t-6)\"].isna().sum())"
   ]
  },
  {
   "cell_type": "code",
   "execution_count": null,
   "metadata": {},
   "outputs": [
    {
     "name": "stdout",
     "output_type": "stream",
     "text": [
      "NaN prices: True\n",
      "11817\n"
     ]
    }
   ],
   "source": [
    "## Add one more day so the saturday prices correspond to monday\n",
    "df_prices[\"Date\"] = df_prices[\"Date\"] + pd.to_timedelta(1, unit='d')\n",
    "df_merged = df_merged.merge(df_prices,how=\"left\")\n",
    "df_merged.rename(columns={\"CRP\":\"Price(t-7)\"}, inplace=True)\n",
    "print(\"NaN prices:\", df_merged[\"Price(t-7)\"].isna().any())\n",
    "print(df_merged[\"Price(t-7)\"].isna().sum())"
   ]
  }
 ],
 "metadata": {
  "kernelspec": {
   "display_name": "Python 3",
   "language": "python",
   "name": "python3"
  },
  "language_info": {
   "name": "python",
   "version": "3.9.6 (tags/v3.9.6:db3ff76, Jun 28 2021, 15:26:21) [MSC v.1929 64 bit (AMD64)]"
  },
  "orig_nbformat": 4,
  "vscode": {
   "interpreter": {
    "hash": "88253bda05a853a3e2e108eae53f17c1fe54d0ccc1565ef6af417baa30d1e2de"
   }
  }
 },
 "nbformat": 4,
 "nbformat_minor": 2
}
