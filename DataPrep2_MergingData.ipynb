{
 "cells": [
  {
   "cell_type": "markdown",
   "metadata": {},
   "source": [
    "Imports"
   ]
  },
  {
   "cell_type": "code",
   "execution_count": 1,
   "metadata": {
    "ExecuteTime": {
     "end_time": "2023-01-15T17:17:16.129157Z",
     "start_time": "2023-01-15T17:17:15.376884Z"
    }
   },
   "outputs": [],
   "source": [
    "import pandas as pd\n",
    "import numpy as np"
   ]
  },
  {
   "attachments": {},
   "cell_type": "markdown",
   "metadata": {},
   "source": [
    "Fill missing weeks or not choose\n",
    "- If True, it will assume customers which do not have any order data for a given week have ordered nothing in that week"
   ]
  },
  {
   "cell_type": "code",
   "execution_count": 2,
   "metadata": {
    "ExecuteTime": {
     "end_time": "2023-01-15T17:17:16.144975Z",
     "start_time": "2023-01-15T17:17:16.134843Z"
    }
   },
   "outputs": [],
   "source": [
    "fill_missing_weeks = True"
   ]
  },
  {
   "cell_type": "markdown",
   "metadata": {},
   "source": [
    "### Read in price dataset and ready it for merge"
   ]
  },
  {
   "cell_type": "code",
   "execution_count": 3,
   "metadata": {
    "ExecuteTime": {
     "end_time": "2023-01-15T17:17:17.734677Z",
     "start_time": "2023-01-15T17:17:17.608006Z"
    }
   },
   "outputs": [
    {
     "data": {
      "text/html": [
       "<div>\n",
       "<style scoped>\n",
       "    .dataframe tbody tr th:only-of-type {\n",
       "        vertical-align: middle;\n",
       "    }\n",
       "\n",
       "    .dataframe tbody tr th {\n",
       "        vertical-align: top;\n",
       "    }\n",
       "\n",
       "    .dataframe thead th {\n",
       "        text-align: right;\n",
       "    }\n",
       "</style>\n",
       "<table border=\"1\" class=\"dataframe\">\n",
       "  <thead>\n",
       "    <tr style=\"text-align: right;\">\n",
       "      <th></th>\n",
       "      <th>City Code</th>\n",
       "      <th>Validfrom</th>\n",
       "      <th>Product</th>\n",
       "      <th>CRP</th>\n",
       "    </tr>\n",
       "  </thead>\n",
       "  <tbody>\n",
       "    <tr>\n",
       "      <th>0</th>\n",
       "      <td>116</td>\n",
       "      <td>2016-07-27</td>\n",
       "      <td>Benzin</td>\n",
       "      <td>4.46</td>\n",
       "    </tr>\n",
       "  </tbody>\n",
       "</table>\n",
       "</div>"
      ],
      "text/plain": [
       "   City Code   Validfrom Product   CRP\n",
       "0        116  2016-07-27  Benzin  4.46"
      ]
     },
     "execution_count": 3,
     "metadata": {},
     "output_type": "execute_result"
    }
   ],
   "source": [
    "df_prices = pd.read_csv(\"OriginalData\\price.csv\")\n",
    "df_prices.head(1)"
   ]
  },
  {
   "cell_type": "code",
   "execution_count": 4,
   "metadata": {
    "ExecuteTime": {
     "end_time": "2023-01-15T17:17:18.124971Z",
     "start_time": "2023-01-15T17:17:18.101104Z"
    }
   },
   "outputs": [],
   "source": [
    "df_prices.columns=[\"City\",\"Date\",\"Product\",\"CRP\"]\n",
    "df_prices.reset_index(inplace=True)\n",
    "df_prices.drop(labels=\"index\",axis=1,inplace=True)"
   ]
  },
  {
   "cell_type": "markdown",
   "metadata": {},
   "source": [
    "## Ready Price Dataset for merge"
   ]
  },
  {
   "attachments": {},
   "cell_type": "markdown",
   "metadata": {},
   "source": [
    "Convert string dates to datetime objects"
   ]
  },
  {
   "cell_type": "code",
   "execution_count": 5,
   "metadata": {
    "ExecuteTime": {
     "end_time": "2023-01-15T17:37:33.681184Z",
     "start_time": "2023-01-15T17:37:33.524655Z"
    }
   },
   "outputs": [],
   "source": [
    "df_prices['Date']= pd.to_datetime(df_prices['Date'])\n",
    "df_prices.sort_values(by=[\"Date\",\"City\"], inplace=True)\n",
    "df_prices.columns=[\"City\",\"Date\",\"Product\",\"CRP\"]\n",
    "df_prices.reset_index(inplace=True,drop=True)\n"
   ]
  },
  {
   "cell_type": "markdown",
   "metadata": {},
   "source": [
    "Add one day so we can merge "
   ]
  },
  {
   "cell_type": "code",
   "execution_count": 6,
   "metadata": {
    "ExecuteTime": {
     "end_time": "2023-01-15T17:37:33.821265Z",
     "start_time": "2023-01-15T17:37:33.805265Z"
    }
   },
   "outputs": [
    {
     "data": {
      "text/html": [
       "<div>\n",
       "<style scoped>\n",
       "    .dataframe tbody tr th:only-of-type {\n",
       "        vertical-align: middle;\n",
       "    }\n",
       "\n",
       "    .dataframe tbody tr th {\n",
       "        vertical-align: top;\n",
       "    }\n",
       "\n",
       "    .dataframe thead th {\n",
       "        text-align: right;\n",
       "    }\n",
       "</style>\n",
       "<table border=\"1\" class=\"dataframe\">\n",
       "  <thead>\n",
       "    <tr style=\"text-align: right;\">\n",
       "      <th></th>\n",
       "      <th>City</th>\n",
       "      <th>Date</th>\n",
       "      <th>Product</th>\n",
       "      <th>CRP</th>\n",
       "    </tr>\n",
       "  </thead>\n",
       "  <tbody>\n",
       "    <tr>\n",
       "      <th>0</th>\n",
       "      <td>125</td>\n",
       "      <td>2014-01-02</td>\n",
       "      <td>Benzin</td>\n",
       "      <td>4.95</td>\n",
       "    </tr>\n",
       "    <tr>\n",
       "      <th>1</th>\n",
       "      <td>125</td>\n",
       "      <td>2014-01-02</td>\n",
       "      <td>Motorin</td>\n",
       "      <td>4.57</td>\n",
       "    </tr>\n",
       "    <tr>\n",
       "      <th>2</th>\n",
       "      <td>126</td>\n",
       "      <td>2014-01-02</td>\n",
       "      <td>Benzin</td>\n",
       "      <td>4.95</td>\n",
       "    </tr>\n",
       "    <tr>\n",
       "      <th>3</th>\n",
       "      <td>126</td>\n",
       "      <td>2014-01-02</td>\n",
       "      <td>Motorin</td>\n",
       "      <td>4.56</td>\n",
       "    </tr>\n",
       "    <tr>\n",
       "      <th>4</th>\n",
       "      <td>172</td>\n",
       "      <td>2014-01-02</td>\n",
       "      <td>Benzin</td>\n",
       "      <td>5.03</td>\n",
       "    </tr>\n",
       "  </tbody>\n",
       "</table>\n",
       "</div>"
      ],
      "text/plain": [
       "   City       Date  Product   CRP\n",
       "0   125 2014-01-02   Benzin  4.95\n",
       "1   125 2014-01-02  Motorin  4.57\n",
       "2   126 2014-01-02   Benzin  4.95\n",
       "3   126 2014-01-02  Motorin  4.56\n",
       "4   172 2014-01-02   Benzin  5.03"
      ]
     },
     "execution_count": 6,
     "metadata": {},
     "output_type": "execute_result"
    }
   ],
   "source": [
    "df_prices[\"Date\"] = df_prices[\"Date\"] + pd.to_timedelta(1, unit='d')\n",
    "df_prices.head()"
   ]
  },
  {
   "attachments": {},
   "cell_type": "markdown",
   "metadata": {},
   "source": [
    "Add Percentage Price Change WoW"
   ]
  },
  {
   "cell_type": "code",
   "execution_count": 7,
   "metadata": {
    "ExecuteTime": {
     "end_time": "2023-01-15T17:37:42.741536Z",
     "start_time": "2023-01-15T17:37:38.081887Z"
    }
   },
   "outputs": [],
   "source": [
    "df_prices[\"Price%Change\"] = 0\n",
    "cities = df_prices[\"City\"].unique()\n",
    "for city in cities:\n",
    "    df_prices.loc[(df_prices[\"City\"]==city)& (df_prices.Product == \"Benzin\"),\"Price%Change\" ] = df_prices[(df_prices.City == city)& (df_prices.Product == \"Benzin\")][\"CRP\"].pct_change()\n",
    "    df_prices.loc[(df_prices[\"City\"]==city)& (df_prices.Product == \"Motorin\"),\"Price%Change\"] = df_prices[(df_prices.City == city)& (df_prices.Product == \"Motorin\")][\"CRP\"].pct_change()"
   ]
  },
  {
   "cell_type": "markdown",
   "metadata": {},
   "source": [
    "## Prep Train dataset"
   ]
  },
  {
   "cell_type": "code",
   "execution_count": 8,
   "metadata": {
    "ExecuteTime": {
     "end_time": "2023-01-15T17:37:43.770281Z",
     "start_time": "2023-01-15T17:37:42.743540Z"
    }
   },
   "outputs": [
    {
     "data": {
      "text/html": [
       "<div>\n",
       "<style scoped>\n",
       "    .dataframe tbody tr th:only-of-type {\n",
       "        vertical-align: middle;\n",
       "    }\n",
       "\n",
       "    .dataframe tbody tr th {\n",
       "        vertical-align: top;\n",
       "    }\n",
       "\n",
       "    .dataframe thead th {\n",
       "        text-align: right;\n",
       "    }\n",
       "</style>\n",
       "<table border=\"1\" class=\"dataframe\">\n",
       "  <thead>\n",
       "    <tr style=\"text-align: right;\">\n",
       "      <th></th>\n",
       "      <th>Customer</th>\n",
       "      <th>Area</th>\n",
       "      <th>City Code</th>\n",
       "      <th>Billing Date</th>\n",
       "      <th>Product</th>\n",
       "      <th>Plant</th>\n",
       "      <th>Litres</th>\n",
       "    </tr>\n",
       "  </thead>\n",
       "  <tbody>\n",
       "    <tr>\n",
       "      <th>0</th>\n",
       "      <td>10048261</td>\n",
       "      <td>Karadeniz Bölgesi</td>\n",
       "      <td>883</td>\n",
       "      <td>2014-01-01</td>\n",
       "      <td>Benzin</td>\n",
       "      <td>T102</td>\n",
       "      <td>0.0</td>\n",
       "    </tr>\n",
       "    <tr>\n",
       "      <th>1</th>\n",
       "      <td>10048261</td>\n",
       "      <td>Karadeniz Bölgesi</td>\n",
       "      <td>883</td>\n",
       "      <td>2014-01-01</td>\n",
       "      <td>Benzin</td>\n",
       "      <td>T155</td>\n",
       "      <td>0.0</td>\n",
       "    </tr>\n",
       "    <tr>\n",
       "      <th>2</th>\n",
       "      <td>10048261</td>\n",
       "      <td>Karadeniz Bölgesi</td>\n",
       "      <td>883</td>\n",
       "      <td>2014-01-01</td>\n",
       "      <td>Motorin</td>\n",
       "      <td>T102</td>\n",
       "      <td>0.0</td>\n",
       "    </tr>\n",
       "    <tr>\n",
       "      <th>3</th>\n",
       "      <td>10048261</td>\n",
       "      <td>Karadeniz Bölgesi</td>\n",
       "      <td>883</td>\n",
       "      <td>2014-01-01</td>\n",
       "      <td>Motorin</td>\n",
       "      <td>T155</td>\n",
       "      <td>0.0</td>\n",
       "    </tr>\n",
       "    <tr>\n",
       "      <th>4</th>\n",
       "      <td>10048261</td>\n",
       "      <td>Karadeniz Bölgesi</td>\n",
       "      <td>883</td>\n",
       "      <td>2014-01-02</td>\n",
       "      <td>Motorin</td>\n",
       "      <td>T155</td>\n",
       "      <td>16685.0</td>\n",
       "    </tr>\n",
       "  </tbody>\n",
       "</table>\n",
       "</div>"
      ],
      "text/plain": [
       "   Customer               Area  City Code Billing Date  Product Plant   Litres\n",
       "0  10048261  Karadeniz Bölgesi        883   2014-01-01   Benzin  T102      0.0\n",
       "1  10048261  Karadeniz Bölgesi        883   2014-01-01   Benzin  T155      0.0\n",
       "2  10048261  Karadeniz Bölgesi        883   2014-01-01  Motorin  T102      0.0\n",
       "3  10048261  Karadeniz Bölgesi        883   2014-01-01  Motorin  T155      0.0\n",
       "4  10048261  Karadeniz Bölgesi        883   2014-01-02  Motorin  T155  16685.0"
      ]
     },
     "execution_count": 8,
     "metadata": {},
     "output_type": "execute_result"
    }
   ],
   "source": [
    "df_train = pd.read_csv(r\"OriginalData\\train.csv\")\n",
    "df_train.head()"
   ]
  },
  {
   "attachments": {},
   "cell_type": "markdown",
   "metadata": {},
   "source": [
    "Sum up all orders for a week:\n",
    "- I want to have a single entry summing up the orders placed for each week so will sum up orders for the same fuel across different plants"
   ]
  },
  {
   "cell_type": "code",
   "execution_count": 9,
   "metadata": {
    "ExecuteTime": {
     "end_time": "2023-01-15T17:37:44.467908Z",
     "start_time": "2023-01-15T17:37:43.806519Z"
    }
   },
   "outputs": [],
   "source": [
    "# rename columns for ease\n",
    "df_train.columns=[\"Customer\", \"Area\", \"City\", \"Date\", \"Product\", \"Plant\", \"Litres\"]\n",
    "\n",
    "# convert to datetime, subtract 7 days so we can get the total for the following week\n",
    "df_train['Date'] = pd.to_datetime(df_train['Date']) - pd.to_timedelta(7, unit='d')\n",
    "# Sort\n",
    "df_train.sort_values(by=[\"Date\", \"Customer\", \"Product\"], inplace=True)"
   ]
  },
  {
   "cell_type": "code",
   "execution_count": 10,
   "metadata": {
    "ExecuteTime": {
     "end_time": "2023-01-15T17:37:44.483907Z",
     "start_time": "2023-01-15T17:37:44.469906Z"
    }
   },
   "outputs": [
    {
     "data": {
      "text/html": [
       "<div>\n",
       "<style scoped>\n",
       "    .dataframe tbody tr th:only-of-type {\n",
       "        vertical-align: middle;\n",
       "    }\n",
       "\n",
       "    .dataframe tbody tr th {\n",
       "        vertical-align: top;\n",
       "    }\n",
       "\n",
       "    .dataframe thead th {\n",
       "        text-align: right;\n",
       "    }\n",
       "</style>\n",
       "<table border=\"1\" class=\"dataframe\">\n",
       "  <thead>\n",
       "    <tr style=\"text-align: right;\">\n",
       "      <th></th>\n",
       "      <th>Customer</th>\n",
       "      <th>Area</th>\n",
       "      <th>City</th>\n",
       "      <th>Date</th>\n",
       "      <th>Product</th>\n",
       "      <th>Plant</th>\n",
       "      <th>Litres</th>\n",
       "    </tr>\n",
       "  </thead>\n",
       "  <tbody>\n",
       "    <tr>\n",
       "      <th>0</th>\n",
       "      <td>10048261</td>\n",
       "      <td>Karadeniz Bölgesi</td>\n",
       "      <td>883</td>\n",
       "      <td>2013-12-25</td>\n",
       "      <td>Benzin</td>\n",
       "      <td>T102</td>\n",
       "      <td>0.0</td>\n",
       "    </tr>\n",
       "    <tr>\n",
       "      <th>1</th>\n",
       "      <td>10048261</td>\n",
       "      <td>Karadeniz Bölgesi</td>\n",
       "      <td>883</td>\n",
       "      <td>2013-12-25</td>\n",
       "      <td>Benzin</td>\n",
       "      <td>T155</td>\n",
       "      <td>0.0</td>\n",
       "    </tr>\n",
       "    <tr>\n",
       "      <th>2</th>\n",
       "      <td>10048261</td>\n",
       "      <td>Karadeniz Bölgesi</td>\n",
       "      <td>883</td>\n",
       "      <td>2013-12-25</td>\n",
       "      <td>Motorin</td>\n",
       "      <td>T102</td>\n",
       "      <td>0.0</td>\n",
       "    </tr>\n",
       "    <tr>\n",
       "      <th>3</th>\n",
       "      <td>10048261</td>\n",
       "      <td>Karadeniz Bölgesi</td>\n",
       "      <td>883</td>\n",
       "      <td>2013-12-25</td>\n",
       "      <td>Motorin</td>\n",
       "      <td>T155</td>\n",
       "      <td>0.0</td>\n",
       "    </tr>\n",
       "    <tr>\n",
       "      <th>2283</th>\n",
       "      <td>10048264</td>\n",
       "      <td>Karadeniz Bölgesi</td>\n",
       "      <td>883</td>\n",
       "      <td>2013-12-25</td>\n",
       "      <td>Motorin</td>\n",
       "      <td>T105</td>\n",
       "      <td>0.0</td>\n",
       "    </tr>\n",
       "  </tbody>\n",
       "</table>\n",
       "</div>"
      ],
      "text/plain": [
       "      Customer               Area  City       Date  Product Plant  Litres\n",
       "0     10048261  Karadeniz Bölgesi   883 2013-12-25   Benzin  T102     0.0\n",
       "1     10048261  Karadeniz Bölgesi   883 2013-12-25   Benzin  T155     0.0\n",
       "2     10048261  Karadeniz Bölgesi   883 2013-12-25  Motorin  T102     0.0\n",
       "3     10048261  Karadeniz Bölgesi   883 2013-12-25  Motorin  T155     0.0\n",
       "2283  10048264  Karadeniz Bölgesi   883 2013-12-25  Motorin  T105     0.0"
      ]
     },
     "execution_count": 10,
     "metadata": {},
     "output_type": "execute_result"
    }
   ],
   "source": [
    "df_train.head()"
   ]
  },
  {
   "cell_type": "markdown",
   "metadata": {},
   "source": [
    "- Below I sum up orders across week, and drop the plant code"
   ]
  },
  {
   "cell_type": "code",
   "execution_count": 11,
   "metadata": {
    "ExecuteTime": {
     "end_time": "2023-01-15T17:37:45.155617Z",
     "start_time": "2023-01-15T17:37:44.485907Z"
    }
   },
   "outputs": [],
   "source": [
    "df_t = df_train.groupby(['Customer', \"Area\",\"City\",\"Product\", pd.Grouper(key='Date', freq='W-MON')])['Litres'].sum().reset_index().sort_values('Date')\n",
    "#sort values to inspect\n",
    "df_t.sort_values(by=[\"Date\",\"Customer\", \"Product\"], inplace=True)"
   ]
  },
  {
   "cell_type": "code",
   "execution_count": 12,
   "metadata": {
    "ExecuteTime": {
     "end_time": "2023-01-15T17:37:45.360681Z",
     "start_time": "2023-01-15T17:37:45.346680Z"
    }
   },
   "outputs": [
    {
     "data": {
      "text/html": [
       "<div>\n",
       "<style scoped>\n",
       "    .dataframe tbody tr th:only-of-type {\n",
       "        vertical-align: middle;\n",
       "    }\n",
       "\n",
       "    .dataframe tbody tr th {\n",
       "        vertical-align: top;\n",
       "    }\n",
       "\n",
       "    .dataframe thead th {\n",
       "        text-align: right;\n",
       "    }\n",
       "</style>\n",
       "<table border=\"1\" class=\"dataframe\">\n",
       "  <thead>\n",
       "    <tr style=\"text-align: right;\">\n",
       "      <th></th>\n",
       "      <th>Customer</th>\n",
       "      <th>Area</th>\n",
       "      <th>City</th>\n",
       "      <th>Product</th>\n",
       "      <th>Date</th>\n",
       "      <th>Litres</th>\n",
       "    </tr>\n",
       "  </thead>\n",
       "  <tbody>\n",
       "    <tr>\n",
       "      <th>0</th>\n",
       "      <td>10048261</td>\n",
       "      <td>Karadeniz Bölgesi</td>\n",
       "      <td>883</td>\n",
       "      <td>Benzin</td>\n",
       "      <td>2013-12-30</td>\n",
       "      <td>5040.0</td>\n",
       "    </tr>\n",
       "    <tr>\n",
       "      <th>256</th>\n",
       "      <td>10048261</td>\n",
       "      <td>Karadeniz Bölgesi</td>\n",
       "      <td>883</td>\n",
       "      <td>Motorin</td>\n",
       "      <td>2013-12-30</td>\n",
       "      <td>28712.0</td>\n",
       "    </tr>\n",
       "    <tr>\n",
       "      <th>685</th>\n",
       "      <td>10048263</td>\n",
       "      <td>Karadeniz Bölgesi</td>\n",
       "      <td>966</td>\n",
       "      <td>Motorin</td>\n",
       "      <td>2013-12-30</td>\n",
       "      <td>34082.0</td>\n",
       "    </tr>\n",
       "    <tr>\n",
       "      <th>899</th>\n",
       "      <td>10048264</td>\n",
       "      <td>Karadeniz Bölgesi</td>\n",
       "      <td>883</td>\n",
       "      <td>Benzin</td>\n",
       "      <td>2013-12-30</td>\n",
       "      <td>3608.0</td>\n",
       "    </tr>\n",
       "    <tr>\n",
       "      <th>1069</th>\n",
       "      <td>10048264</td>\n",
       "      <td>Karadeniz Bölgesi</td>\n",
       "      <td>883</td>\n",
       "      <td>Motorin</td>\n",
       "      <td>2013-12-30</td>\n",
       "      <td>21325.0</td>\n",
       "    </tr>\n",
       "  </tbody>\n",
       "</table>\n",
       "</div>"
      ],
      "text/plain": [
       "      Customer               Area  City  Product       Date   Litres\n",
       "0     10048261  Karadeniz Bölgesi   883   Benzin 2013-12-30   5040.0\n",
       "256   10048261  Karadeniz Bölgesi   883  Motorin 2013-12-30  28712.0\n",
       "685   10048263  Karadeniz Bölgesi   966  Motorin 2013-12-30  34082.0\n",
       "899   10048264  Karadeniz Bölgesi   883   Benzin 2013-12-30   3608.0\n",
       "1069  10048264  Karadeniz Bölgesi   883  Motorin 2013-12-30  21325.0"
      ]
     },
     "execution_count": 12,
     "metadata": {},
     "output_type": "execute_result"
    }
   ],
   "source": [
    "df_t.head(5)"
   ]
  },
  {
   "cell_type": "code",
   "execution_count": 13,
   "metadata": {
    "ExecuteTime": {
     "end_time": "2023-01-15T17:37:45.408216Z",
     "start_time": "2023-01-15T17:37:45.362683Z"
    }
   },
   "outputs": [],
   "source": [
    "# Remove first week because the data for it is incomplete\n",
    "df_t = df_t[df_t[\"Date\"] != \"2013-12-30\" ]\n",
    "# reassign to original df\n",
    "df_train = df_t.copy()"
   ]
  },
  {
   "cell_type": "markdown",
   "metadata": {},
   "source": [
    "## Fill in missing weeks in datasets"
   ]
  },
  {
   "cell_type": "code",
   "execution_count": 14,
   "metadata": {
    "ExecuteTime": {
     "end_time": "2023-01-15T17:37:45.455214Z",
     "start_time": "2023-01-15T17:37:45.441216Z"
    }
   },
   "outputs": [],
   "source": [
    "if fill_missing_weeks == True:\n",
    "    idx = pd.date_range('2014-01-06', '2018-12-24',freq='W-MON')\n",
    "    dates = (\n",
    "        df_train.groupby([\"Customer\", \"Product\",\"City\",\"Area\"])[\"Date\"]\n",
    "        .apply(lambda s: pd.date_range('2014-01-06', '2018-12-24',freq='W-MON'))\n",
    "        .explode()\n",
    "        .reset_index()\n",
    "    )\n",
    "    df_train = df_train.merge(dates,how=\"outer\").fillna(0)"
   ]
  },
  {
   "cell_type": "markdown",
   "metadata": {},
   "source": [
    "### Get Test Dataset"
   ]
  },
  {
   "attachments": {},
   "cell_type": "markdown",
   "metadata": {},
   "source": [
    "For now I will merge the test and training dataset, so I can combine them with the external data. Then I will split and save them. No added features/columns will cause data leakage from the test to the training set"
   ]
  },
  {
   "cell_type": "code",
   "execution_count": 18,
   "metadata": {
    "ExecuteTime": {
     "end_time": "2023-01-15T17:38:14.897443Z",
     "start_time": "2023-01-15T17:38:14.786930Z"
    }
   },
   "outputs": [
    {
     "data": {
      "text/html": [
       "<div>\n",
       "<style scoped>\n",
       "    .dataframe tbody tr th:only-of-type {\n",
       "        vertical-align: middle;\n",
       "    }\n",
       "\n",
       "    .dataframe tbody tr th {\n",
       "        vertical-align: top;\n",
       "    }\n",
       "\n",
       "    .dataframe thead th {\n",
       "        text-align: right;\n",
       "    }\n",
       "</style>\n",
       "<table border=\"1\" class=\"dataframe\">\n",
       "  <thead>\n",
       "    <tr style=\"text-align: right;\">\n",
       "      <th></th>\n",
       "      <th>Customer</th>\n",
       "      <th>Area</th>\n",
       "      <th>City</th>\n",
       "      <th>Product</th>\n",
       "      <th>Date</th>\n",
       "    </tr>\n",
       "  </thead>\n",
       "  <tbody>\n",
       "    <tr>\n",
       "      <th>0</th>\n",
       "      <td>10048261</td>\n",
       "      <td>Karadeniz Bölgesi</td>\n",
       "      <td>883</td>\n",
       "      <td>Motorin</td>\n",
       "      <td>2019-01-07</td>\n",
       "    </tr>\n",
       "    <tr>\n",
       "      <th>1</th>\n",
       "      <td>10048261</td>\n",
       "      <td>Karadeniz Bölgesi</td>\n",
       "      <td>883</td>\n",
       "      <td>Motorin</td>\n",
       "      <td>2019-01-14</td>\n",
       "    </tr>\n",
       "    <tr>\n",
       "      <th>2</th>\n",
       "      <td>10048261</td>\n",
       "      <td>Karadeniz Bölgesi</td>\n",
       "      <td>883</td>\n",
       "      <td>Motorin</td>\n",
       "      <td>2019-01-21</td>\n",
       "    </tr>\n",
       "    <tr>\n",
       "      <th>3</th>\n",
       "      <td>10048261</td>\n",
       "      <td>Karadeniz Bölgesi</td>\n",
       "      <td>883</td>\n",
       "      <td>Motorin</td>\n",
       "      <td>2019-01-28</td>\n",
       "    </tr>\n",
       "    <tr>\n",
       "      <th>4</th>\n",
       "      <td>10048261</td>\n",
       "      <td>Karadeniz Bölgesi</td>\n",
       "      <td>883</td>\n",
       "      <td>Motorin</td>\n",
       "      <td>2019-02-04</td>\n",
       "    </tr>\n",
       "  </tbody>\n",
       "</table>\n",
       "</div>"
      ],
      "text/plain": [
       "   Customer               Area  City  Product        Date\n",
       "0  10048261  Karadeniz Bölgesi   883  Motorin  2019-01-07\n",
       "1  10048261  Karadeniz Bölgesi   883  Motorin  2019-01-14\n",
       "2  10048261  Karadeniz Bölgesi   883  Motorin  2019-01-21\n",
       "3  10048261  Karadeniz Bölgesi   883  Motorin  2019-01-28\n",
       "4  10048261  Karadeniz Bölgesi   883  Motorin  2019-02-04"
      ]
     },
     "execution_count": 18,
     "metadata": {},
     "output_type": "execute_result"
    }
   ],
   "source": [
    "df_test = pd.read_csv(r\"OriginalData\\test.csv\")\n",
    "df_test[\"Date\"] = pd.to_datetime(df_test['Week Start Date']) \n",
    "df_test.drop(labels=[\"index\",\"Date\"],axis=1,inplace=True)\n",
    "df_test.columns = [\"Customer\", \"Area\", \"City\",\"Product\",\"Date\"]\n",
    "df_test.head()"
   ]
  },
  {
   "cell_type": "code",
   "execution_count": 19,
   "metadata": {
    "ExecuteTime": {
     "end_time": "2023-01-15T17:38:16.374543Z",
     "start_time": "2023-01-15T17:38:15.177964Z"
    }
   },
   "outputs": [
    {
     "data": {
      "text/html": [
       "<div>\n",
       "<style scoped>\n",
       "    .dataframe tbody tr th:only-of-type {\n",
       "        vertical-align: middle;\n",
       "    }\n",
       "\n",
       "    .dataframe tbody tr th {\n",
       "        vertical-align: top;\n",
       "    }\n",
       "\n",
       "    .dataframe thead th {\n",
       "        text-align: right;\n",
       "    }\n",
       "</style>\n",
       "<table border=\"1\" class=\"dataframe\">\n",
       "  <thead>\n",
       "    <tr style=\"text-align: right;\">\n",
       "      <th></th>\n",
       "      <th>Customer</th>\n",
       "      <th>Area</th>\n",
       "      <th>City</th>\n",
       "      <th>Product</th>\n",
       "      <th>Date</th>\n",
       "      <th>Litres</th>\n",
       "    </tr>\n",
       "  </thead>\n",
       "  <tbody>\n",
       "    <tr>\n",
       "      <th>0</th>\n",
       "      <td>10048261</td>\n",
       "      <td>Karadeniz Bölgesi</td>\n",
       "      <td>883</td>\n",
       "      <td>Benzin</td>\n",
       "      <td>2014-01-06</td>\n",
       "      <td>4242.0</td>\n",
       "    </tr>\n",
       "    <tr>\n",
       "      <th>1</th>\n",
       "      <td>10048261</td>\n",
       "      <td>Karadeniz Bölgesi</td>\n",
       "      <td>883</td>\n",
       "      <td>Motorin</td>\n",
       "      <td>2014-01-06</td>\n",
       "      <td>29017.0</td>\n",
       "    </tr>\n",
       "    <tr>\n",
       "      <th>2</th>\n",
       "      <td>10048263</td>\n",
       "      <td>Karadeniz Bölgesi</td>\n",
       "      <td>966</td>\n",
       "      <td>Benzin</td>\n",
       "      <td>2014-01-06</td>\n",
       "      <td>4572.0</td>\n",
       "    </tr>\n",
       "    <tr>\n",
       "      <th>3</th>\n",
       "      <td>10048263</td>\n",
       "      <td>Karadeniz Bölgesi</td>\n",
       "      <td>966</td>\n",
       "      <td>Motorin</td>\n",
       "      <td>2014-01-06</td>\n",
       "      <td>30681.0</td>\n",
       "    </tr>\n",
       "    <tr>\n",
       "      <th>4</th>\n",
       "      <td>10048264</td>\n",
       "      <td>Karadeniz Bölgesi</td>\n",
       "      <td>883</td>\n",
       "      <td>Motorin</td>\n",
       "      <td>2014-01-06</td>\n",
       "      <td>25009.0</td>\n",
       "    </tr>\n",
       "  </tbody>\n",
       "</table>\n",
       "</div>"
      ],
      "text/plain": [
       "   Customer               Area  City  Product       Date   Litres\n",
       "0  10048261  Karadeniz Bölgesi   883   Benzin 2014-01-06   4242.0\n",
       "1  10048261  Karadeniz Bölgesi   883  Motorin 2014-01-06  29017.0\n",
       "2  10048263  Karadeniz Bölgesi   966   Benzin 2014-01-06   4572.0\n",
       "3  10048263  Karadeniz Bölgesi   966  Motorin 2014-01-06  30681.0\n",
       "4  10048264  Karadeniz Bölgesi   883  Motorin 2014-01-06  25009.0"
      ]
     },
     "execution_count": 19,
     "metadata": {},
     "output_type": "execute_result"
    }
   ],
   "source": [
    "df = pd.concat([df_train,df_test])\n",
    "df.reset_index(inplace=True,drop=True)\n",
    "df[\"Date\"] = pd.to_datetime(df['Date']) \n",
    "df.head()"
   ]
  },
  {
   "cell_type": "markdown",
   "metadata": {},
   "source": [
    "## Combine price and training datasets\n",
    " - For the week starting on 2014-01-06(Monday), the price data will be the price on 2014-01-05(Sunday)"
   ]
  },
  {
   "cell_type": "code",
   "execution_count": 20,
   "metadata": {
    "ExecuteTime": {
     "end_time": "2023-01-15T17:38:16.628641Z",
     "start_time": "2023-01-15T17:38:16.423074Z"
    }
   },
   "outputs": [
    {
     "data": {
      "text/html": [
       "<div>\n",
       "<style scoped>\n",
       "    .dataframe tbody tr th:only-of-type {\n",
       "        vertical-align: middle;\n",
       "    }\n",
       "\n",
       "    .dataframe tbody tr th {\n",
       "        vertical-align: top;\n",
       "    }\n",
       "\n",
       "    .dataframe thead th {\n",
       "        text-align: right;\n",
       "    }\n",
       "</style>\n",
       "<table border=\"1\" class=\"dataframe\">\n",
       "  <thead>\n",
       "    <tr style=\"text-align: right;\">\n",
       "      <th></th>\n",
       "      <th>Customer</th>\n",
       "      <th>Area</th>\n",
       "      <th>City</th>\n",
       "      <th>Product</th>\n",
       "      <th>Date</th>\n",
       "      <th>Litres</th>\n",
       "      <th>Price(t-1)</th>\n",
       "      <th>Price%Change</th>\n",
       "    </tr>\n",
       "  </thead>\n",
       "  <tbody>\n",
       "    <tr>\n",
       "      <th>0</th>\n",
       "      <td>10048261</td>\n",
       "      <td>Karadeniz Bölgesi</td>\n",
       "      <td>883</td>\n",
       "      <td>Benzin</td>\n",
       "      <td>2014-01-06</td>\n",
       "      <td>4242.0</td>\n",
       "      <td>5.07</td>\n",
       "      <td>-0.005882</td>\n",
       "    </tr>\n",
       "    <tr>\n",
       "      <th>1</th>\n",
       "      <td>10048261</td>\n",
       "      <td>Karadeniz Bölgesi</td>\n",
       "      <td>883</td>\n",
       "      <td>Motorin</td>\n",
       "      <td>2014-01-06</td>\n",
       "      <td>29017.0</td>\n",
       "      <td>4.40</td>\n",
       "      <td>-0.011236</td>\n",
       "    </tr>\n",
       "    <tr>\n",
       "      <th>2</th>\n",
       "      <td>10048263</td>\n",
       "      <td>Karadeniz Bölgesi</td>\n",
       "      <td>966</td>\n",
       "      <td>Benzin</td>\n",
       "      <td>2014-01-06</td>\n",
       "      <td>4572.0</td>\n",
       "      <td>5.04</td>\n",
       "      <td>-0.005917</td>\n",
       "    </tr>\n",
       "    <tr>\n",
       "      <th>3</th>\n",
       "      <td>10048263</td>\n",
       "      <td>Karadeniz Bölgesi</td>\n",
       "      <td>966</td>\n",
       "      <td>Motorin</td>\n",
       "      <td>2014-01-06</td>\n",
       "      <td>30681.0</td>\n",
       "      <td>4.34</td>\n",
       "      <td>-0.011390</td>\n",
       "    </tr>\n",
       "    <tr>\n",
       "      <th>4</th>\n",
       "      <td>10048264</td>\n",
       "      <td>Karadeniz Bölgesi</td>\n",
       "      <td>883</td>\n",
       "      <td>Motorin</td>\n",
       "      <td>2014-01-06</td>\n",
       "      <td>25009.0</td>\n",
       "      <td>4.40</td>\n",
       "      <td>-0.011236</td>\n",
       "    </tr>\n",
       "  </tbody>\n",
       "</table>\n",
       "</div>"
      ],
      "text/plain": [
       "   Customer               Area  City  Product       Date   Litres  Price(t-1)  \\\n",
       "0  10048261  Karadeniz Bölgesi   883   Benzin 2014-01-06   4242.0        5.07   \n",
       "1  10048261  Karadeniz Bölgesi   883  Motorin 2014-01-06  29017.0        4.40   \n",
       "2  10048263  Karadeniz Bölgesi   966   Benzin 2014-01-06   4572.0        5.04   \n",
       "3  10048263  Karadeniz Bölgesi   966  Motorin 2014-01-06  30681.0        4.34   \n",
       "4  10048264  Karadeniz Bölgesi   883  Motorin 2014-01-06  25009.0        4.40   \n",
       "\n",
       "   Price%Change  \n",
       "0     -0.005882  \n",
       "1     -0.011236  \n",
       "2     -0.005917  \n",
       "3     -0.011390  \n",
       "4     -0.011236  "
      ]
     },
     "execution_count": 20,
     "metadata": {},
     "output_type": "execute_result"
    }
   ],
   "source": [
    "# Merge datasets\n",
    "df_merged = df.merge(df_prices,how=\"left\")\n",
    "# Rename column names for clarity\n",
    "df_merged.rename(columns={\"CRP\":\"Price(t-1)\"}, inplace=True)\n",
    "df_merged.head()\n"
   ]
  },
  {
   "cell_type": "code",
   "execution_count": 21,
   "metadata": {
    "ExecuteTime": {
     "end_time": "2023-01-15T17:38:34.462821Z",
     "start_time": "2023-01-15T17:38:34.448822Z"
    }
   },
   "outputs": [
    {
     "data": {
      "text/plain": [
       "True"
      ]
     },
     "execution_count": 21,
     "metadata": {},
     "output_type": "execute_result"
    }
   ],
   "source": [
    "# Check for nan values\n",
    "df_merged[\"Price(t-1)\"].isna().any()"
   ]
  },
  {
   "cell_type": "code",
   "execution_count": 22,
   "metadata": {
    "ExecuteTime": {
     "end_time": "2023-01-15T17:38:34.932302Z",
     "start_time": "2023-01-15T17:38:34.924939Z"
    }
   },
   "outputs": [
    {
     "data": {
      "text/plain": [
       "13966"
      ]
     },
     "execution_count": 22,
     "metadata": {},
     "output_type": "execute_result"
    }
   ],
   "source": [
    "df_merged[\"Price(t-1)\"].isna().sum()"
   ]
  },
  {
   "cell_type": "markdown",
   "metadata": {},
   "source": [
    "#### Fill in the Nan values in Price t-1 with the mean of that date"
   ]
  },
  {
   "cell_type": "code",
   "execution_count": 23,
   "metadata": {
    "ExecuteTime": {
     "end_time": "2023-01-15T17:39:00.655742Z",
     "start_time": "2023-01-15T17:39:00.404186Z"
    }
   },
   "outputs": [],
   "source": [
    "temp = df_merged.groupby(['Date', 'Product'])[['Price(t-1)']].mean().reset_index()\n",
    "temp.rename(columns={'Price(t-1)': 'Price(t-1)_mean'}, inplace=True)\n",
    "df_temp = pd.merge(df_merged, temp, how='left', on=['Date', 'Product'])\n",
    "df_temp.loc[df_temp['Price(t-1)'].isna(),'Price(t-1)'] = df_temp['Price(t-1)_mean']"
   ]
  },
  {
   "cell_type": "code",
   "execution_count": 24,
   "metadata": {
    "ExecuteTime": {
     "end_time": "2023-01-15T17:39:00.795546Z",
     "start_time": "2023-01-15T17:39:00.773248Z"
    }
   },
   "outputs": [
    {
     "data": {
      "text/html": [
       "<div>\n",
       "<style scoped>\n",
       "    .dataframe tbody tr th:only-of-type {\n",
       "        vertical-align: middle;\n",
       "    }\n",
       "\n",
       "    .dataframe tbody tr th {\n",
       "        vertical-align: top;\n",
       "    }\n",
       "\n",
       "    .dataframe thead th {\n",
       "        text-align: right;\n",
       "    }\n",
       "</style>\n",
       "<table border=\"1\" class=\"dataframe\">\n",
       "  <thead>\n",
       "    <tr style=\"text-align: right;\">\n",
       "      <th></th>\n",
       "      <th>Customer</th>\n",
       "      <th>Area</th>\n",
       "      <th>City</th>\n",
       "      <th>Product</th>\n",
       "      <th>Date</th>\n",
       "      <th>Litres</th>\n",
       "      <th>Price(t-1)</th>\n",
       "      <th>Price%Change</th>\n",
       "      <th>Price(t-1)_mean</th>\n",
       "    </tr>\n",
       "  </thead>\n",
       "  <tbody>\n",
       "    <tr>\n",
       "      <th>0</th>\n",
       "      <td>10048261</td>\n",
       "      <td>Karadeniz Bölgesi</td>\n",
       "      <td>883</td>\n",
       "      <td>Benzin</td>\n",
       "      <td>2014-01-06</td>\n",
       "      <td>4242.0</td>\n",
       "      <td>5.07</td>\n",
       "      <td>-0.005882</td>\n",
       "      <td>5.042535</td>\n",
       "    </tr>\n",
       "    <tr>\n",
       "      <th>1</th>\n",
       "      <td>10048261</td>\n",
       "      <td>Karadeniz Bölgesi</td>\n",
       "      <td>883</td>\n",
       "      <td>Motorin</td>\n",
       "      <td>2014-01-06</td>\n",
       "      <td>29017.0</td>\n",
       "      <td>4.40</td>\n",
       "      <td>-0.011236</td>\n",
       "      <td>4.347860</td>\n",
       "    </tr>\n",
       "    <tr>\n",
       "      <th>2</th>\n",
       "      <td>10048263</td>\n",
       "      <td>Karadeniz Bölgesi</td>\n",
       "      <td>966</td>\n",
       "      <td>Benzin</td>\n",
       "      <td>2014-01-06</td>\n",
       "      <td>4572.0</td>\n",
       "      <td>5.04</td>\n",
       "      <td>-0.005917</td>\n",
       "      <td>5.042535</td>\n",
       "    </tr>\n",
       "    <tr>\n",
       "      <th>3</th>\n",
       "      <td>10048263</td>\n",
       "      <td>Karadeniz Bölgesi</td>\n",
       "      <td>966</td>\n",
       "      <td>Motorin</td>\n",
       "      <td>2014-01-06</td>\n",
       "      <td>30681.0</td>\n",
       "      <td>4.34</td>\n",
       "      <td>-0.011390</td>\n",
       "      <td>4.347860</td>\n",
       "    </tr>\n",
       "    <tr>\n",
       "      <th>4</th>\n",
       "      <td>10048264</td>\n",
       "      <td>Karadeniz Bölgesi</td>\n",
       "      <td>883</td>\n",
       "      <td>Motorin</td>\n",
       "      <td>2014-01-06</td>\n",
       "      <td>25009.0</td>\n",
       "      <td>4.40</td>\n",
       "      <td>-0.011236</td>\n",
       "      <td>4.347860</td>\n",
       "    </tr>\n",
       "  </tbody>\n",
       "</table>\n",
       "</div>"
      ],
      "text/plain": [
       "   Customer               Area  City  Product       Date   Litres  Price(t-1)  \\\n",
       "0  10048261  Karadeniz Bölgesi   883   Benzin 2014-01-06   4242.0        5.07   \n",
       "1  10048261  Karadeniz Bölgesi   883  Motorin 2014-01-06  29017.0        4.40   \n",
       "2  10048263  Karadeniz Bölgesi   966   Benzin 2014-01-06   4572.0        5.04   \n",
       "3  10048263  Karadeniz Bölgesi   966  Motorin 2014-01-06  30681.0        4.34   \n",
       "4  10048264  Karadeniz Bölgesi   883  Motorin 2014-01-06  25009.0        4.40   \n",
       "\n",
       "   Price%Change  Price(t-1)_mean  \n",
       "0     -0.005882         5.042535  \n",
       "1     -0.011236         4.347860  \n",
       "2     -0.005917         5.042535  \n",
       "3     -0.011390         4.347860  \n",
       "4     -0.011236         4.347860  "
      ]
     },
     "execution_count": 24,
     "metadata": {},
     "output_type": "execute_result"
    }
   ],
   "source": [
    "df_temp.head()"
   ]
  },
  {
   "cell_type": "code",
   "execution_count": 30,
   "metadata": {
    "ExecuteTime": {
     "end_time": "2023-01-15T17:39:01.604956Z",
     "start_time": "2023-01-15T17:39:01.420009Z"
    }
   },
   "outputs": [
    {
     "data": {
      "text/html": [
       "<div>\n",
       "<style scoped>\n",
       "    .dataframe tbody tr th:only-of-type {\n",
       "        vertical-align: middle;\n",
       "    }\n",
       "\n",
       "    .dataframe tbody tr th {\n",
       "        vertical-align: top;\n",
       "    }\n",
       "\n",
       "    .dataframe thead th {\n",
       "        text-align: right;\n",
       "    }\n",
       "</style>\n",
       "<table border=\"1\" class=\"dataframe\">\n",
       "  <thead>\n",
       "    <tr style=\"text-align: right;\">\n",
       "      <th></th>\n",
       "      <th>Customer</th>\n",
       "      <th>Area</th>\n",
       "      <th>City</th>\n",
       "      <th>Product</th>\n",
       "      <th>Date</th>\n",
       "      <th>Litres</th>\n",
       "      <th>Price(t-1)</th>\n",
       "      <th>Price%Change</th>\n",
       "      <th>Price(t-1)_mean</th>\n",
       "    </tr>\n",
       "  </thead>\n",
       "  <tbody>\n",
       "    <tr>\n",
       "      <th>1006</th>\n",
       "      <td>10050046</td>\n",
       "      <td>Karadeniz Bölgesi</td>\n",
       "      <td>947</td>\n",
       "      <td>Benzin</td>\n",
       "      <td>2014-01-06</td>\n",
       "      <td>8340.0</td>\n",
       "      <td>5.039854</td>\n",
       "      <td>NaN</td>\n",
       "      <td>5.039854</td>\n",
       "    </tr>\n",
       "    <tr>\n",
       "      <th>1007</th>\n",
       "      <td>10050046</td>\n",
       "      <td>Karadeniz Bölgesi</td>\n",
       "      <td>947</td>\n",
       "      <td>Motorin</td>\n",
       "      <td>2014-01-06</td>\n",
       "      <td>16382.0</td>\n",
       "      <td>4.346342</td>\n",
       "      <td>NaN</td>\n",
       "      <td>4.346342</td>\n",
       "    </tr>\n",
       "    <tr>\n",
       "      <th>1453</th>\n",
       "      <td>12122988</td>\n",
       "      <td>Doğu Anadolu Bölgesi</td>\n",
       "      <td>116</td>\n",
       "      <td>Motorin</td>\n",
       "      <td>2014-01-06</td>\n",
       "      <td>23142.0</td>\n",
       "      <td>4.346342</td>\n",
       "      <td>NaN</td>\n",
       "      <td>4.346342</td>\n",
       "    </tr>\n",
       "    <tr>\n",
       "      <th>3114</th>\n",
       "      <td>12122988</td>\n",
       "      <td>Doğu Anadolu Bölgesi</td>\n",
       "      <td>116</td>\n",
       "      <td>Benzin</td>\n",
       "      <td>2014-01-13</td>\n",
       "      <td>4836.0</td>\n",
       "      <td>4.469550</td>\n",
       "      <td>NaN</td>\n",
       "      <td>4.469550</td>\n",
       "    </tr>\n",
       "    <tr>\n",
       "      <th>3115</th>\n",
       "      <td>12122988</td>\n",
       "      <td>Doğu Anadolu Bölgesi</td>\n",
       "      <td>116</td>\n",
       "      <td>Motorin</td>\n",
       "      <td>2014-01-13</td>\n",
       "      <td>26544.0</td>\n",
       "      <td>3.940996</td>\n",
       "      <td>NaN</td>\n",
       "      <td>3.940996</td>\n",
       "    </tr>\n",
       "    <tr>\n",
       "      <th>...</th>\n",
       "      <td>...</td>\n",
       "      <td>...</td>\n",
       "      <td>...</td>\n",
       "      <td>...</td>\n",
       "      <td>...</td>\n",
       "      <td>...</td>\n",
       "      <td>...</td>\n",
       "      <td>...</td>\n",
       "      <td>...</td>\n",
       "    </tr>\n",
       "    <tr>\n",
       "      <th>587421</th>\n",
       "      <td>12739737</td>\n",
       "      <td>Doğu Anadolu Bölgesi</td>\n",
       "      <td>194</td>\n",
       "      <td>Benzin</td>\n",
       "      <td>2019-12-02</td>\n",
       "      <td>NaN</td>\n",
       "      <td>7.140000</td>\n",
       "      <td>0.0</td>\n",
       "      <td>6.963877</td>\n",
       "    </tr>\n",
       "    <tr>\n",
       "      <th>587422</th>\n",
       "      <td>12739737</td>\n",
       "      <td>Doğu Anadolu Bölgesi</td>\n",
       "      <td>194</td>\n",
       "      <td>Benzin</td>\n",
       "      <td>2019-12-09</td>\n",
       "      <td>NaN</td>\n",
       "      <td>7.140000</td>\n",
       "      <td>0.0</td>\n",
       "      <td>6.963877</td>\n",
       "    </tr>\n",
       "    <tr>\n",
       "      <th>587423</th>\n",
       "      <td>12739737</td>\n",
       "      <td>Doğu Anadolu Bölgesi</td>\n",
       "      <td>194</td>\n",
       "      <td>Benzin</td>\n",
       "      <td>2019-12-16</td>\n",
       "      <td>NaN</td>\n",
       "      <td>7.140000</td>\n",
       "      <td>0.0</td>\n",
       "      <td>6.963877</td>\n",
       "    </tr>\n",
       "    <tr>\n",
       "      <th>587424</th>\n",
       "      <td>12739737</td>\n",
       "      <td>Doğu Anadolu Bölgesi</td>\n",
       "      <td>194</td>\n",
       "      <td>Benzin</td>\n",
       "      <td>2019-12-23</td>\n",
       "      <td>NaN</td>\n",
       "      <td>7.140000</td>\n",
       "      <td>0.0</td>\n",
       "      <td>6.965134</td>\n",
       "    </tr>\n",
       "    <tr>\n",
       "      <th>587425</th>\n",
       "      <td>12739737</td>\n",
       "      <td>Doğu Anadolu Bölgesi</td>\n",
       "      <td>194</td>\n",
       "      <td>Benzin</td>\n",
       "      <td>2019-12-30</td>\n",
       "      <td>NaN</td>\n",
       "      <td>7.300000</td>\n",
       "      <td>0.0</td>\n",
       "      <td>7.133772</td>\n",
       "    </tr>\n",
       "  </tbody>\n",
       "</table>\n",
       "<p>117089 rows × 9 columns</p>\n",
       "</div>"
      ],
      "text/plain": [
       "        Customer                  Area  City  Product       Date   Litres  \\\n",
       "1006    10050046     Karadeniz Bölgesi   947   Benzin 2014-01-06   8340.0   \n",
       "1007    10050046     Karadeniz Bölgesi   947  Motorin 2014-01-06  16382.0   \n",
       "1453    12122988  Doğu Anadolu Bölgesi   116  Motorin 2014-01-06  23142.0   \n",
       "3114    12122988  Doğu Anadolu Bölgesi   116   Benzin 2014-01-13   4836.0   \n",
       "3115    12122988  Doğu Anadolu Bölgesi   116  Motorin 2014-01-13  26544.0   \n",
       "...          ...                   ...   ...      ...        ...      ...   \n",
       "587421  12739737  Doğu Anadolu Bölgesi   194   Benzin 2019-12-02      NaN   \n",
       "587422  12739737  Doğu Anadolu Bölgesi   194   Benzin 2019-12-09      NaN   \n",
       "587423  12739737  Doğu Anadolu Bölgesi   194   Benzin 2019-12-16      NaN   \n",
       "587424  12739737  Doğu Anadolu Bölgesi   194   Benzin 2019-12-23      NaN   \n",
       "587425  12739737  Doğu Anadolu Bölgesi   194   Benzin 2019-12-30      NaN   \n",
       "\n",
       "        Price(t-1)  Price%Change  Price(t-1)_mean  \n",
       "1006      5.039854           NaN         5.039854  \n",
       "1007      4.346342           NaN         4.346342  \n",
       "1453      4.346342           NaN         4.346342  \n",
       "3114      4.469550           NaN         4.469550  \n",
       "3115      3.940996           NaN         3.940996  \n",
       "...            ...           ...              ...  \n",
       "587421    7.140000           0.0         6.963877  \n",
       "587422    7.140000           0.0         6.963877  \n",
       "587423    7.140000           0.0         6.963877  \n",
       "587424    7.140000           0.0         6.965134  \n",
       "587425    7.300000           0.0         7.133772  \n",
       "\n",
       "[117089 rows x 9 columns]"
      ]
     },
     "execution_count": 30,
     "metadata": {},
     "output_type": "execute_result"
    }
   ],
   "source": [
    "# show none values\n",
    "df_temp[df_temp.isna().any(axis=1)]"
   ]
  },
  {
   "attachments": {},
   "cell_type": "markdown",
   "metadata": {},
   "source": [
    "There are 4 weeks which don't have any price data at all"
   ]
  },
  {
   "cell_type": "code",
   "execution_count": 25,
   "metadata": {
    "ExecuteTime": {
     "end_time": "2023-01-15T17:39:02.258584Z",
     "start_time": "2023-01-15T17:39:02.232250Z"
    }
   },
   "outputs": [
    {
     "data": {
      "text/plain": [
       "array(['2015-01-05T00:00:00.000000000', '2015-01-12T00:00:00.000000000',\n",
       "       '2015-02-09T00:00:00.000000000', '2015-03-09T00:00:00.000000000'],\n",
       "      dtype='datetime64[ns]')"
      ]
     },
     "execution_count": 25,
     "metadata": {},
     "output_type": "execute_result"
    }
   ],
   "source": [
    "df_temp[df_temp['Price(t-1)'].isna()].Date.unique()"
   ]
  },
  {
   "cell_type": "markdown",
   "metadata": {},
   "source": [
    "Manually impute prices from the preceeding and next week for these 4 weird dates"
   ]
  },
  {
   "cell_type": "code",
   "execution_count": 26,
   "metadata": {
    "ExecuteTime": {
     "end_time": "2023-01-15T17:39:08.733023Z",
     "start_time": "2023-01-15T17:39:08.277888Z"
    }
   },
   "outputs": [
    {
     "name": "stdout",
     "output_type": "stream",
     "text": [
      "4.281553556827374 4.086721177432621 4.281553556827374 4.391218315617234 4.1927064595256756 4.479493049877403\n",
      "3.793441822619967 3.5537672904801245 3.793441822619967 3.916118795768871 3.7118958502847637 3.857461350691659\n"
     ]
    }
   ],
   "source": [
    "# Petrol\n",
    "b1 = df_temp[(df_temp[\"Date\"] == \"2014-12-29\") & (df_temp[\"Product\"] == \"Benzin\")][\"Price(t-1)_mean\"].mean()\n",
    "b2= df_temp[(df_temp[\"Date\"] == \"2015-01-19\") & (df_temp[\"Product\"] == \"Benzin\")][\"Price(t-1)_mean\"].mean()\n",
    "\n",
    "b3= df_temp[(df_temp[\"Date\"] == \"2015-02-02\") & (df_temp[\"Product\"] == \"Benzin\")][\"Price(t-1)_mean\"].mean()\n",
    "b4= df_temp[(df_temp[\"Date\"] == \"2015-02-16\") & (df_temp[\"Product\"] == \"Benzin\")][\"Price(t-1)_mean\"].mean()\n",
    "\n",
    "b5= df_temp[(df_temp[\"Date\"] == \"2015-03-02\") & (df_temp[\"Product\"] == \"Benzin\")][\"Price(t-1)_mean\"].mean()\n",
    "b6= df_temp[(df_temp[\"Date\"] == \"2015-03-16\") & (df_temp[\"Product\"] == \"Benzin\")][\"Price(t-1)_mean\"].mean()\n",
    "\n",
    "print(b1,b2,b3,b4,b5,b6)\n",
    "# Diesel\n",
    "d1 = df_temp[(df_temp[\"Date\"] == \"2014-12-29\") & (df_temp[\"Product\"] == \"Motorin\")][\"Price(t-1)_mean\"].mean()\n",
    "d2= df_temp[(df_temp[\"Date\"] == \"2015-01-19\") & (df_temp[\"Product\"] == \"Motorin\")][\"Price(t-1)_mean\"].mean()\n",
    "\n",
    "d3 = df_temp[(df_temp[\"Date\"] == \"2015-02-02\") & (df_temp[\"Product\"] == \"Motorin\")][\"Price(t-1)_mean\"].mean()\n",
    "d4 = df_temp[(df_temp[\"Date\"] == \"2015-02-16\") & (df_temp[\"Product\"] == \"Motorin\")][\"Price(t-1)_mean\"].mean()\n",
    "\n",
    "d5= df_temp[(df_temp[\"Date\"] == \"2015-03-02\") & (df_temp[\"Product\"] == \"Motorin\")][\"Price(t-1)_mean\"].mean()\n",
    "d6= df_temp[(df_temp[\"Date\"] == \"2015-03-16\") & (df_temp[\"Product\"] == \"Motorin\")][\"Price(t-1)_mean\"].mean()\n",
    "\n",
    "print(d1,d2,d3,d4,d5,d6)"
   ]
  },
  {
   "cell_type": "code",
   "execution_count": 27,
   "metadata": {
    "ExecuteTime": {
     "end_time": "2023-01-15T17:39:09.078110Z",
     "start_time": "2023-01-15T17:39:08.760021Z"
    }
   },
   "outputs": [],
   "source": [
    "df_temp.loc[(df_temp[\"Date\"] == \"2015-01-05\") & (df_temp[\"Product\"] == \"Benzin\"), \"Price(t-1)\"] = (b1 + b2) /2\n",
    "df_temp.loc[(df_temp[\"Date\"] == \"2015-01-12\") & (df_temp[\"Product\"] == \"Benzin\"), \"Price(t-1)\"] = (b1 + b2) /2\n",
    "\n",
    "df_temp.loc[(df_temp[\"Date\"] == \"2015-02-09\") & (df_temp[\"Product\"] == \"Benzin\"), \"Price(t-1)\"] = (b3 + b4) /2\n",
    "df_temp.loc[(df_temp[\"Date\"] == \"2015-03-09\") & (df_temp[\"Product\"] == \"Benzin\"), \"Price(t-1)\"] = (b5 + b6) /2\n",
    "\n",
    "#diesels\n",
    "df_temp.loc[(df_temp[\"Date\"] == \"2015-01-05\") & (df_temp[\"Product\"] == \"Motorin\"), \"Price(t-1)\"] = (d1 + d2) /2\n",
    "df_temp.loc[(df_temp[\"Date\"] == \"2015-01-12\") & (df_temp[\"Product\"] == \"Motorin\"), \"Price(t-1)\"] = (d1 + d2) /2\n",
    "\n",
    "df_temp.loc[(df_temp[\"Date\"] == \"2015-02-09\") & (df_temp[\"Product\"] == \"Motorin\"), \"Price(t-1)\"] = (d3 + d4) /2\n",
    "df_temp.loc[(df_temp[\"Date\"] == \"2015-03-09\") & (df_temp[\"Product\"] == \"Motorin\"), \"Price(t-1)\"] = (d5 + d6) /2\n"
   ]
  },
  {
   "cell_type": "markdown",
   "metadata": {},
   "source": [
    "### Check how successfull the filling of data was"
   ]
  },
  {
   "cell_type": "code",
   "execution_count": 28,
   "metadata": {
    "ExecuteTime": {
     "end_time": "2023-01-15T17:39:10.170450Z",
     "start_time": "2023-01-15T17:39:10.042687Z"
    }
   },
   "outputs": [
    {
     "data": {
      "text/plain": [
       "Customer           False\n",
       "Area               False\n",
       "City               False\n",
       "Product            False\n",
       "Date               False\n",
       "Litres              True\n",
       "Price(t-1)         False\n",
       "Price%Change        True\n",
       "Price(t-1)_mean     True\n",
       "dtype: bool"
      ]
     },
     "execution_count": 28,
     "metadata": {},
     "output_type": "execute_result"
    }
   ],
   "source": [
    "df_temp.isna().any()"
   ]
  },
  {
   "attachments": {},
   "cell_type": "markdown",
   "metadata": {},
   "source": [
    "Price(t-1) has no Nans so we have succeeded (we expect litres (label) to be nan for 2019 data)"
   ]
  },
  {
   "cell_type": "code",
   "execution_count": 29,
   "metadata": {
    "ExecuteTime": {
     "end_time": "2023-01-15T17:39:10.762390Z",
     "start_time": "2023-01-15T17:39:10.709273Z"
    }
   },
   "outputs": [],
   "source": [
    "df = df_temp.copy()\n",
    "df.drop(labels=\"Price(t-1)_mean\",axis=1,inplace=True)\n",
    "df[\"Price%Change\"] = df[\"Price%Change\"].fillna(0)"
   ]
  },
  {
   "cell_type": "code",
   "execution_count": 31,
   "metadata": {
    "ExecuteTime": {
     "end_time": "2023-01-15T17:39:15.027241Z",
     "start_time": "2023-01-15T17:39:15.015928Z"
    }
   },
   "outputs": [],
   "source": [
    "# Rename Column for clarity\n",
    "df.rename(columns={\"Date\":\"WeekStarting\"},inplace=True)"
   ]
  },
  {
   "attachments": {},
   "cell_type": "markdown",
   "metadata": {},
   "source": [
    "# Add in external data one by one and merge"
   ]
  },
  {
   "cell_type": "markdown",
   "metadata": {},
   "source": [
    "### Car data"
   ]
  },
  {
   "cell_type": "code",
   "execution_count": 32,
   "metadata": {
    "ExecuteTime": {
     "end_time": "2023-01-15T17:40:08.666364Z",
     "start_time": "2023-01-15T17:40:08.656487Z"
    }
   },
   "outputs": [
    {
     "data": {
      "text/html": [
       "<div>\n",
       "<style scoped>\n",
       "    .dataframe tbody tr th:only-of-type {\n",
       "        vertical-align: middle;\n",
       "    }\n",
       "\n",
       "    .dataframe tbody tr th {\n",
       "        vertical-align: top;\n",
       "    }\n",
       "\n",
       "    .dataframe thead th {\n",
       "        text-align: right;\n",
       "    }\n",
       "</style>\n",
       "<table border=\"1\" class=\"dataframe\">\n",
       "  <thead>\n",
       "    <tr style=\"text-align: right;\">\n",
       "      <th></th>\n",
       "      <th>WeekStarting</th>\n",
       "      <th>Area</th>\n",
       "      <th>NewCars</th>\n",
       "    </tr>\n",
       "  </thead>\n",
       "  <tbody>\n",
       "    <tr>\n",
       "      <th>0</th>\n",
       "      <td>2014-01-06</td>\n",
       "      <td>Akdeniz Bölgesi</td>\n",
       "      <td>NaN</td>\n",
       "    </tr>\n",
       "    <tr>\n",
       "      <th>1</th>\n",
       "      <td>2014-01-13</td>\n",
       "      <td>Akdeniz Bölgesi</td>\n",
       "      <td>NaN</td>\n",
       "    </tr>\n",
       "    <tr>\n",
       "      <th>2</th>\n",
       "      <td>2014-01-20</td>\n",
       "      <td>Akdeniz Bölgesi</td>\n",
       "      <td>NaN</td>\n",
       "    </tr>\n",
       "    <tr>\n",
       "      <th>3</th>\n",
       "      <td>2014-01-27</td>\n",
       "      <td>Akdeniz Bölgesi</td>\n",
       "      <td>NaN</td>\n",
       "    </tr>\n",
       "    <tr>\n",
       "      <th>4</th>\n",
       "      <td>2014-02-03</td>\n",
       "      <td>Akdeniz Bölgesi</td>\n",
       "      <td>NaN</td>\n",
       "    </tr>\n",
       "  </tbody>\n",
       "</table>\n",
       "</div>"
      ],
      "text/plain": [
       "  WeekStarting             Area  NewCars\n",
       "0   2014-01-06  Akdeniz Bölgesi      NaN\n",
       "1   2014-01-13  Akdeniz Bölgesi      NaN\n",
       "2   2014-01-20  Akdeniz Bölgesi      NaN\n",
       "3   2014-01-27  Akdeniz Bölgesi      NaN\n",
       "4   2014-02-03  Akdeniz Bölgesi      NaN"
      ]
     },
     "execution_count": 32,
     "metadata": {},
     "output_type": "execute_result"
    }
   ],
   "source": [
    "df_cars = pd.read_csv(\"ExternalDataFormatted/CarRegistrationDataReady.csv\")\n",
    "df_cars.columns = [\"WeekStarting\", \"Area\",\"NewCars\"]\n",
    "df_cars[\"WeekStarting\"]  = pd.to_datetime(df_cars['WeekStarting'])\n",
    "df_cars.fillna(0)\n",
    "df_cars.head()"
   ]
  },
  {
   "cell_type": "code",
   "execution_count": 33,
   "metadata": {
    "ExecuteTime": {
     "end_time": "2023-01-15T17:40:09.756491Z",
     "start_time": "2023-01-15T17:40:09.524503Z"
    }
   },
   "outputs": [
    {
     "data": {
      "text/html": [
       "<div>\n",
       "<style scoped>\n",
       "    .dataframe tbody tr th:only-of-type {\n",
       "        vertical-align: middle;\n",
       "    }\n",
       "\n",
       "    .dataframe tbody tr th {\n",
       "        vertical-align: top;\n",
       "    }\n",
       "\n",
       "    .dataframe thead th {\n",
       "        text-align: right;\n",
       "    }\n",
       "</style>\n",
       "<table border=\"1\" class=\"dataframe\">\n",
       "  <thead>\n",
       "    <tr style=\"text-align: right;\">\n",
       "      <th></th>\n",
       "      <th>Customer</th>\n",
       "      <th>Area</th>\n",
       "      <th>City</th>\n",
       "      <th>Product</th>\n",
       "      <th>WeekStarting</th>\n",
       "      <th>Litres</th>\n",
       "      <th>Price(t-1)</th>\n",
       "      <th>Price%Change</th>\n",
       "      <th>NewCars</th>\n",
       "    </tr>\n",
       "  </thead>\n",
       "  <tbody>\n",
       "    <tr>\n",
       "      <th>0</th>\n",
       "      <td>10048261</td>\n",
       "      <td>Karadeniz Bölgesi</td>\n",
       "      <td>883</td>\n",
       "      <td>Benzin</td>\n",
       "      <td>2014-01-06</td>\n",
       "      <td>4242.0</td>\n",
       "      <td>5.07</td>\n",
       "      <td>-0.005882</td>\n",
       "      <td>NaN</td>\n",
       "    </tr>\n",
       "    <tr>\n",
       "      <th>1</th>\n",
       "      <td>10048261</td>\n",
       "      <td>Karadeniz Bölgesi</td>\n",
       "      <td>883</td>\n",
       "      <td>Motorin</td>\n",
       "      <td>2014-01-06</td>\n",
       "      <td>29017.0</td>\n",
       "      <td>4.40</td>\n",
       "      <td>-0.011236</td>\n",
       "      <td>NaN</td>\n",
       "    </tr>\n",
       "    <tr>\n",
       "      <th>2</th>\n",
       "      <td>10048263</td>\n",
       "      <td>Karadeniz Bölgesi</td>\n",
       "      <td>966</td>\n",
       "      <td>Benzin</td>\n",
       "      <td>2014-01-06</td>\n",
       "      <td>4572.0</td>\n",
       "      <td>5.04</td>\n",
       "      <td>-0.005917</td>\n",
       "      <td>NaN</td>\n",
       "    </tr>\n",
       "    <tr>\n",
       "      <th>3</th>\n",
       "      <td>10048263</td>\n",
       "      <td>Karadeniz Bölgesi</td>\n",
       "      <td>966</td>\n",
       "      <td>Motorin</td>\n",
       "      <td>2014-01-06</td>\n",
       "      <td>30681.0</td>\n",
       "      <td>4.34</td>\n",
       "      <td>-0.011390</td>\n",
       "      <td>NaN</td>\n",
       "    </tr>\n",
       "    <tr>\n",
       "      <th>4</th>\n",
       "      <td>10048264</td>\n",
       "      <td>Karadeniz Bölgesi</td>\n",
       "      <td>883</td>\n",
       "      <td>Motorin</td>\n",
       "      <td>2014-01-06</td>\n",
       "      <td>25009.0</td>\n",
       "      <td>4.40</td>\n",
       "      <td>-0.011236</td>\n",
       "      <td>NaN</td>\n",
       "    </tr>\n",
       "    <tr>\n",
       "      <th>...</th>\n",
       "      <td>...</td>\n",
       "      <td>...</td>\n",
       "      <td>...</td>\n",
       "      <td>...</td>\n",
       "      <td>...</td>\n",
       "      <td>...</td>\n",
       "      <td>...</td>\n",
       "      <td>...</td>\n",
       "      <td>...</td>\n",
       "    </tr>\n",
       "    <tr>\n",
       "      <th>749315</th>\n",
       "      <td>12690825</td>\n",
       "      <td>Karadeniz Bölgesi</td>\n",
       "      <td>966</td>\n",
       "      <td>Benzin</td>\n",
       "      <td>2019-12-02</td>\n",
       "      <td>NaN</td>\n",
       "      <td>7.00</td>\n",
       "      <td>0.000000</td>\n",
       "      <td>34697.0</td>\n",
       "    </tr>\n",
       "    <tr>\n",
       "      <th>749316</th>\n",
       "      <td>12690825</td>\n",
       "      <td>Karadeniz Bölgesi</td>\n",
       "      <td>966</td>\n",
       "      <td>Benzin</td>\n",
       "      <td>2019-12-09</td>\n",
       "      <td>NaN</td>\n",
       "      <td>7.00</td>\n",
       "      <td>0.000000</td>\n",
       "      <td>34697.0</td>\n",
       "    </tr>\n",
       "    <tr>\n",
       "      <th>749317</th>\n",
       "      <td>12690825</td>\n",
       "      <td>Karadeniz Bölgesi</td>\n",
       "      <td>966</td>\n",
       "      <td>Benzin</td>\n",
       "      <td>2019-12-16</td>\n",
       "      <td>NaN</td>\n",
       "      <td>7.00</td>\n",
       "      <td>0.000000</td>\n",
       "      <td>34697.0</td>\n",
       "    </tr>\n",
       "    <tr>\n",
       "      <th>749318</th>\n",
       "      <td>12690825</td>\n",
       "      <td>Karadeniz Bölgesi</td>\n",
       "      <td>966</td>\n",
       "      <td>Benzin</td>\n",
       "      <td>2019-12-23</td>\n",
       "      <td>NaN</td>\n",
       "      <td>7.00</td>\n",
       "      <td>0.000000</td>\n",
       "      <td>34697.0</td>\n",
       "    </tr>\n",
       "    <tr>\n",
       "      <th>749319</th>\n",
       "      <td>12690825</td>\n",
       "      <td>Karadeniz Bölgesi</td>\n",
       "      <td>966</td>\n",
       "      <td>Benzin</td>\n",
       "      <td>2019-12-30</td>\n",
       "      <td>NaN</td>\n",
       "      <td>7.17</td>\n",
       "      <td>0.000000</td>\n",
       "      <td>34532.0</td>\n",
       "    </tr>\n",
       "  </tbody>\n",
       "</table>\n",
       "<p>71084 rows × 9 columns</p>\n",
       "</div>"
      ],
      "text/plain": [
       "        Customer               Area  City  Product WeekStarting   Litres  \\\n",
       "0       10048261  Karadeniz Bölgesi   883   Benzin   2014-01-06   4242.0   \n",
       "1       10048261  Karadeniz Bölgesi   883  Motorin   2014-01-06  29017.0   \n",
       "2       10048263  Karadeniz Bölgesi   966   Benzin   2014-01-06   4572.0   \n",
       "3       10048263  Karadeniz Bölgesi   966  Motorin   2014-01-06  30681.0   \n",
       "4       10048264  Karadeniz Bölgesi   883  Motorin   2014-01-06  25009.0   \n",
       "...          ...                ...   ...      ...          ...      ...   \n",
       "749315  12690825  Karadeniz Bölgesi   966   Benzin   2019-12-02      NaN   \n",
       "749316  12690825  Karadeniz Bölgesi   966   Benzin   2019-12-09      NaN   \n",
       "749317  12690825  Karadeniz Bölgesi   966   Benzin   2019-12-16      NaN   \n",
       "749318  12690825  Karadeniz Bölgesi   966   Benzin   2019-12-23      NaN   \n",
       "749319  12690825  Karadeniz Bölgesi   966   Benzin   2019-12-30      NaN   \n",
       "\n",
       "        Price(t-1)  Price%Change  NewCars  \n",
       "0             5.07     -0.005882      NaN  \n",
       "1             4.40     -0.011236      NaN  \n",
       "2             5.04     -0.005917      NaN  \n",
       "3             4.34     -0.011390      NaN  \n",
       "4             4.40     -0.011236      NaN  \n",
       "...            ...           ...      ...  \n",
       "749315        7.00      0.000000  34697.0  \n",
       "749316        7.00      0.000000  34697.0  \n",
       "749317        7.00      0.000000  34697.0  \n",
       "749318        7.00      0.000000  34697.0  \n",
       "749319        7.17      0.000000  34532.0  \n",
       "\n",
       "[71084 rows x 9 columns]"
      ]
     },
     "execution_count": 33,
     "metadata": {},
     "output_type": "execute_result"
    }
   ],
   "source": [
    "# Merge\n",
    "df_merged = df.merge(df_cars,how=\"left\")\n",
    "# Check one area\n",
    "df_merged[df_merged[\"Area\"]==\"Karadeniz Bölgesi\"]"
   ]
  },
  {
   "cell_type": "code",
   "execution_count": 34,
   "metadata": {
    "ExecuteTime": {
     "end_time": "2023-01-15T17:40:10.101678Z",
     "start_time": "2023-01-15T17:40:10.065293Z"
    }
   },
   "outputs": [],
   "source": [
    "df = df_merged.copy()"
   ]
  },
  {
   "cell_type": "markdown",
   "metadata": {},
   "source": [
    "### Holiday Data"
   ]
  },
  {
   "cell_type": "code",
   "execution_count": 35,
   "metadata": {
    "ExecuteTime": {
     "end_time": "2023-01-15T17:40:12.336404Z",
     "start_time": "2023-01-15T17:40:12.311841Z"
    }
   },
   "outputs": [
    {
     "data": {
      "text/html": [
       "<div>\n",
       "<style scoped>\n",
       "    .dataframe tbody tr th:only-of-type {\n",
       "        vertical-align: middle;\n",
       "    }\n",
       "\n",
       "    .dataframe tbody tr th {\n",
       "        vertical-align: top;\n",
       "    }\n",
       "\n",
       "    .dataframe thead th {\n",
       "        text-align: right;\n",
       "    }\n",
       "</style>\n",
       "<table border=\"1\" class=\"dataframe\">\n",
       "  <thead>\n",
       "    <tr style=\"text-align: right;\">\n",
       "      <th></th>\n",
       "      <th>WeekStarting</th>\n",
       "      <th>WeekendHolidays</th>\n",
       "      <th>WeekdayHolidays</th>\n",
       "    </tr>\n",
       "  </thead>\n",
       "  <tbody>\n",
       "    <tr>\n",
       "      <th>0</th>\n",
       "      <td>2013-12-30</td>\n",
       "      <td>0</td>\n",
       "      <td>1</td>\n",
       "    </tr>\n",
       "    <tr>\n",
       "      <th>1</th>\n",
       "      <td>2014-04-21</td>\n",
       "      <td>0</td>\n",
       "      <td>1</td>\n",
       "    </tr>\n",
       "    <tr>\n",
       "      <th>2</th>\n",
       "      <td>2014-04-28</td>\n",
       "      <td>0</td>\n",
       "      <td>1</td>\n",
       "    </tr>\n",
       "    <tr>\n",
       "      <th>3</th>\n",
       "      <td>2014-05-19</td>\n",
       "      <td>0</td>\n",
       "      <td>1</td>\n",
       "    </tr>\n",
       "    <tr>\n",
       "      <th>4</th>\n",
       "      <td>2014-07-21</td>\n",
       "      <td>1</td>\n",
       "      <td>0</td>\n",
       "    </tr>\n",
       "  </tbody>\n",
       "</table>\n",
       "</div>"
      ],
      "text/plain": [
       "  WeekStarting  WeekendHolidays  WeekdayHolidays\n",
       "0   2013-12-30                0                1\n",
       "1   2014-04-21                0                1\n",
       "2   2014-04-28                0                1\n",
       "3   2014-05-19                0                1\n",
       "4   2014-07-21                1                0"
      ]
     },
     "execution_count": 35,
     "metadata": {},
     "output_type": "execute_result"
    }
   ],
   "source": [
    "df_holidays = pd.read_csv(\"ExternalDataFormatted/HolidayDataReady.csv\")\n",
    "df_holidays.columns = [\"WeekStarting\", \"WeekendHolidays\",\"WeekdayHolidays\"]\n",
    "df_holidays[\"WeekStarting\"]  = pd.to_datetime(df_holidays['WeekStarting'])\n",
    "df_holidays.head()"
   ]
  },
  {
   "cell_type": "code",
   "execution_count": 36,
   "metadata": {
    "ExecuteTime": {
     "end_time": "2023-01-15T17:40:14.370048Z",
     "start_time": "2023-01-15T17:40:12.789966Z"
    }
   },
   "outputs": [],
   "source": [
    "df_merged = df.merge(df_holidays,how=\"left\")"
   ]
  },
  {
   "cell_type": "code",
   "execution_count": 37,
   "metadata": {
    "ExecuteTime": {
     "end_time": "2023-01-15T17:40:14.372715Z",
     "start_time": "2023-01-15T17:40:14.372715Z"
    }
   },
   "outputs": [],
   "source": [
    "df = df_merged.copy()"
   ]
  },
  {
   "cell_type": "markdown",
   "metadata": {},
   "source": [
    "### GDP Growth"
   ]
  },
  {
   "cell_type": "code",
   "execution_count": 38,
   "metadata": {
    "ExecuteTime": {
     "end_time": "2023-01-15T17:40:15.836526Z",
     "start_time": "2023-01-15T17:40:15.822580Z"
    }
   },
   "outputs": [
    {
     "data": {
      "text/html": [
       "<div>\n",
       "<style scoped>\n",
       "    .dataframe tbody tr th:only-of-type {\n",
       "        vertical-align: middle;\n",
       "    }\n",
       "\n",
       "    .dataframe tbody tr th {\n",
       "        vertical-align: top;\n",
       "    }\n",
       "\n",
       "    .dataframe thead th {\n",
       "        text-align: right;\n",
       "    }\n",
       "</style>\n",
       "<table border=\"1\" class=\"dataframe\">\n",
       "  <thead>\n",
       "    <tr style=\"text-align: right;\">\n",
       "      <th></th>\n",
       "      <th>WeekStarting</th>\n",
       "      <th>GDPGrowth%</th>\n",
       "    </tr>\n",
       "  </thead>\n",
       "  <tbody>\n",
       "    <tr>\n",
       "      <th>0</th>\n",
       "      <td>2014-01-06</td>\n",
       "      <td>0.044</td>\n",
       "    </tr>\n",
       "    <tr>\n",
       "      <th>1</th>\n",
       "      <td>2014-01-13</td>\n",
       "      <td>0.044</td>\n",
       "    </tr>\n",
       "    <tr>\n",
       "      <th>2</th>\n",
       "      <td>2014-01-20</td>\n",
       "      <td>0.044</td>\n",
       "    </tr>\n",
       "    <tr>\n",
       "      <th>3</th>\n",
       "      <td>2014-01-27</td>\n",
       "      <td>0.044</td>\n",
       "    </tr>\n",
       "    <tr>\n",
       "      <th>4</th>\n",
       "      <td>2014-02-03</td>\n",
       "      <td>0.044</td>\n",
       "    </tr>\n",
       "  </tbody>\n",
       "</table>\n",
       "</div>"
      ],
      "text/plain": [
       "  WeekStarting  GDPGrowth%\n",
       "0   2014-01-06       0.044\n",
       "1   2014-01-13       0.044\n",
       "2   2014-01-20       0.044\n",
       "3   2014-01-27       0.044\n",
       "4   2014-02-03       0.044"
      ]
     },
     "execution_count": 38,
     "metadata": {},
     "output_type": "execute_result"
    }
   ],
   "source": [
    "df_gdp = pd.read_csv(\"ExternalDataFormatted/GDPDataReady.csv\")\n",
    "df_gdp.columns = [\"WeekStarting\", \"GDPGrowth%\"]\n",
    "df_gdp[\"WeekStarting\"]  = pd.to_datetime(df_gdp['WeekStarting'])\n",
    "df_gdp.head()"
   ]
  },
  {
   "cell_type": "code",
   "execution_count": 39,
   "metadata": {
    "ExecuteTime": {
     "end_time": "2023-01-15T17:40:16.598074Z",
     "start_time": "2023-01-15T17:40:16.402810Z"
    }
   },
   "outputs": [],
   "source": [
    "df_merged = df.merge(df_gdp,how=\"left\")"
   ]
  },
  {
   "cell_type": "code",
   "execution_count": 40,
   "metadata": {
    "ExecuteTime": {
     "end_time": "2023-01-15T17:40:16.798384Z",
     "start_time": "2023-01-15T17:40:16.756812Z"
    }
   },
   "outputs": [],
   "source": [
    "df = df_merged.copy()"
   ]
  },
  {
   "cell_type": "markdown",
   "metadata": {},
   "source": [
    "## InflationData"
   ]
  },
  {
   "cell_type": "code",
   "execution_count": 41,
   "metadata": {
    "ExecuteTime": {
     "end_time": "2023-01-15T17:40:19.077650Z",
     "start_time": "2023-01-15T17:40:19.063653Z"
    }
   },
   "outputs": [
    {
     "data": {
      "text/html": [
       "<div>\n",
       "<style scoped>\n",
       "    .dataframe tbody tr th:only-of-type {\n",
       "        vertical-align: middle;\n",
       "    }\n",
       "\n",
       "    .dataframe tbody tr th {\n",
       "        vertical-align: top;\n",
       "    }\n",
       "\n",
       "    .dataframe thead th {\n",
       "        text-align: right;\n",
       "    }\n",
       "</style>\n",
       "<table border=\"1\" class=\"dataframe\">\n",
       "  <thead>\n",
       "    <tr style=\"text-align: right;\">\n",
       "      <th></th>\n",
       "      <th>WeekStarting</th>\n",
       "      <th>MoMInflation%</th>\n",
       "    </tr>\n",
       "  </thead>\n",
       "  <tbody>\n",
       "    <tr>\n",
       "      <th>0</th>\n",
       "      <td>2014-01-06</td>\n",
       "      <td>6.91</td>\n",
       "    </tr>\n",
       "    <tr>\n",
       "      <th>1</th>\n",
       "      <td>2014-01-13</td>\n",
       "      <td>7.40</td>\n",
       "    </tr>\n",
       "    <tr>\n",
       "      <th>2</th>\n",
       "      <td>2014-01-20</td>\n",
       "      <td>7.40</td>\n",
       "    </tr>\n",
       "    <tr>\n",
       "      <th>3</th>\n",
       "      <td>2014-01-27</td>\n",
       "      <td>7.40</td>\n",
       "    </tr>\n",
       "    <tr>\n",
       "      <th>4</th>\n",
       "      <td>2014-02-03</td>\n",
       "      <td>7.40</td>\n",
       "    </tr>\n",
       "  </tbody>\n",
       "</table>\n",
       "</div>"
      ],
      "text/plain": [
       "  WeekStarting  MoMInflation%\n",
       "0   2014-01-06           6.91\n",
       "1   2014-01-13           7.40\n",
       "2   2014-01-20           7.40\n",
       "3   2014-01-27           7.40\n",
       "4   2014-02-03           7.40"
      ]
     },
     "execution_count": 41,
     "metadata": {},
     "output_type": "execute_result"
    }
   ],
   "source": [
    "df_inflation = pd.read_csv(\"ExternalDataFormatted/InflationDataReady.csv\")\n",
    "df_inflation.columns = [\"WeekStarting\", \"MoMInflation%\"]\n",
    "df_inflation[\"WeekStarting\"]  = pd.to_datetime(df_inflation['WeekStarting'])\n",
    "df_inflation.head()"
   ]
  },
  {
   "cell_type": "code",
   "execution_count": 42,
   "metadata": {
    "ExecuteTime": {
     "end_time": "2023-01-15T17:40:20.352442Z",
     "start_time": "2023-01-15T17:40:20.120589Z"
    }
   },
   "outputs": [],
   "source": [
    "df_merged = df.merge(df_inflation,how=\"left\")"
   ]
  },
  {
   "cell_type": "code",
   "execution_count": 43,
   "metadata": {
    "ExecuteTime": {
     "end_time": "2023-01-15T17:40:20.525203Z",
     "start_time": "2023-01-15T17:40:20.356809Z"
    }
   },
   "outputs": [],
   "source": [
    "df = df_merged.copy()"
   ]
  },
  {
   "cell_type": "markdown",
   "metadata": {},
   "source": [
    "### USD TRY"
   ]
  },
  {
   "cell_type": "code",
   "execution_count": 44,
   "metadata": {
    "ExecuteTime": {
     "end_time": "2023-01-15T17:40:23.740313Z",
     "start_time": "2023-01-15T17:40:23.710973Z"
    }
   },
   "outputs": [
    {
     "data": {
      "text/html": [
       "<div>\n",
       "<style scoped>\n",
       "    .dataframe tbody tr th:only-of-type {\n",
       "        vertical-align: middle;\n",
       "    }\n",
       "\n",
       "    .dataframe tbody tr th {\n",
       "        vertical-align: top;\n",
       "    }\n",
       "\n",
       "    .dataframe thead th {\n",
       "        text-align: right;\n",
       "    }\n",
       "</style>\n",
       "<table border=\"1\" class=\"dataframe\">\n",
       "  <thead>\n",
       "    <tr style=\"text-align: right;\">\n",
       "      <th></th>\n",
       "      <th>WeekStarting</th>\n",
       "      <th>WoWUSDChange%</th>\n",
       "    </tr>\n",
       "  </thead>\n",
       "  <tbody>\n",
       "    <tr>\n",
       "      <th>0</th>\n",
       "      <td>2014-01-06</td>\n",
       "      <td>-0.62%</td>\n",
       "    </tr>\n",
       "    <tr>\n",
       "      <th>1</th>\n",
       "      <td>2014-01-13</td>\n",
       "      <td>3.08%</td>\n",
       "    </tr>\n",
       "    <tr>\n",
       "      <th>2</th>\n",
       "      <td>2014-01-20</td>\n",
       "      <td>4.47%</td>\n",
       "    </tr>\n",
       "    <tr>\n",
       "      <th>3</th>\n",
       "      <td>2014-01-27</td>\n",
       "      <td>-3,04%</td>\n",
       "    </tr>\n",
       "    <tr>\n",
       "      <th>4</th>\n",
       "      <td>2014-02-03</td>\n",
       "      <td>-1,80%</td>\n",
       "    </tr>\n",
       "  </tbody>\n",
       "</table>\n",
       "</div>"
      ],
      "text/plain": [
       "  WeekStarting WoWUSDChange%\n",
       "0   2014-01-06        -0.62%\n",
       "1   2014-01-13         3.08%\n",
       "2   2014-01-20         4.47%\n",
       "3   2014-01-27        -3,04%\n",
       "4   2014-02-03        -1,80%"
      ]
     },
     "execution_count": 44,
     "metadata": {},
     "output_type": "execute_result"
    }
   ],
   "source": [
    "df_usd = pd.read_csv(\"ExternalDataFormatted/USDDataReady.csv\")\n",
    "df_usd.columns = [\"WeekStarting\", \"WoWUSDChange%\"]\n",
    "df_usd[\"WeekStarting\"]  = pd.to_datetime(df_usd['WeekStarting'])\n",
    "df_usd.head()"
   ]
  },
  {
   "cell_type": "code",
   "execution_count": 45,
   "metadata": {
    "ExecuteTime": {
     "end_time": "2023-01-15T17:40:25.034228Z",
     "start_time": "2023-01-15T17:40:24.884060Z"
    }
   },
   "outputs": [],
   "source": [
    "df_merged = df.merge(df_usd,how=\"left\")\n",
    "df = df_merged.copy()"
   ]
  },
  {
   "attachments": {},
   "cell_type": "markdown",
   "metadata": {},
   "source": [
    "Fill Nan Values"
   ]
  },
  {
   "cell_type": "code",
   "execution_count": 46,
   "metadata": {
    "ExecuteTime": {
     "end_time": "2023-01-15T17:40:27.469404Z",
     "start_time": "2023-01-15T17:40:27.323027Z"
    }
   },
   "outputs": [
    {
     "data": {
      "text/plain": [
       "Customer           False\n",
       "Area               False\n",
       "City               False\n",
       "Product            False\n",
       "WeekStarting       False\n",
       "Litres              True\n",
       "Price(t-1)         False\n",
       "Price%Change       False\n",
       "NewCars             True\n",
       "WeekendHolidays     True\n",
       "WeekdayHolidays     True\n",
       "GDPGrowth%         False\n",
       "MoMInflation%      False\n",
       "WoWUSDChange%      False\n",
       "dtype: bool"
      ]
     },
     "execution_count": 46,
     "metadata": {},
     "output_type": "execute_result"
    }
   ],
   "source": [
    "df.isna().any()"
   ]
  },
  {
   "attachments": {},
   "cell_type": "markdown",
   "metadata": {},
   "source": [
    "The Nan values in Holiday columns mean the upcoming week has no holidays "
   ]
  },
  {
   "cell_type": "code",
   "execution_count": 47,
   "metadata": {
    "ExecuteTime": {
     "end_time": "2023-01-15T17:40:27.933652Z",
     "start_time": "2023-01-15T17:40:27.894240Z"
    }
   },
   "outputs": [],
   "source": [
    "df.WeekendHolidays = df.WeekendHolidays.fillna(int(0))\n",
    "df.WeekdayHolidays = df.WeekdayHolidays.fillna(int(0))\n",
    "df.NewCars = df.NewCars.fillna(0)"
   ]
  },
  {
   "attachments": {},
   "cell_type": "markdown",
   "metadata": {},
   "source": [
    "Change USDTRY WoW%Change data to float by replacing , with . then removing % then casting into float"
   ]
  },
  {
   "cell_type": "code",
   "execution_count": 48,
   "metadata": {
    "ExecuteTime": {
     "end_time": "2023-01-15T17:40:29.228142Z",
     "start_time": "2023-01-15T17:40:28.763241Z"
    }
   },
   "outputs": [
    {
     "data": {
      "text/plain": [
       "0        -0.62\n",
       "1        -0.62\n",
       "2        -0.62\n",
       "3        -0.62\n",
       "4        -0.62\n",
       "          ... \n",
       "749627    0.52\n",
       "749628    0.55\n",
       "749629    2.21\n",
       "749630    0.23\n",
       "749631    0.37\n",
       "Name: WoWUSDChange%, Length: 749632, dtype: float64"
      ]
     },
     "execution_count": 48,
     "metadata": {},
     "output_type": "execute_result"
    }
   ],
   "source": [
    "df[\"WoWUSDChange%\"] = df[\"WoWUSDChange%\"].str.replace(\",\", \".\")\n",
    "df[\"WoWUSDChange%\"] = df[\"WoWUSDChange%\"].str.rstrip('%').astype('float')\n",
    "df[\"WoWUSDChange%\"]"
   ]
  },
  {
   "cell_type": "markdown",
   "metadata": {},
   "source": [
    "Add Season data"
   ]
  },
  {
   "cell_type": "code",
   "execution_count": 49,
   "metadata": {
    "ExecuteTime": {
     "end_time": "2023-01-15T17:40:30.685641Z",
     "start_time": "2023-01-15T17:40:29.679816Z"
    }
   },
   "outputs": [],
   "source": [
    "df = df.assign(Season=lambda x: x['WeekStarting'].apply(lambda y: 'Winter' if y.month in [12, 1, 2] else 'Summer' if y.month in [\n",
    "               3, 4, 5] else 'Autumn' if y.month in [6, 7, 8] else 'Fall' if y.month in [9, 10, 11] else 'Unknown'))"
   ]
  },
  {
   "attachments": {},
   "cell_type": "markdown",
   "metadata": {},
   "source": [
    "Categorize the columns"
   ]
  },
  {
   "cell_type": "code",
   "execution_count": 50,
   "metadata": {
    "ExecuteTime": {
     "end_time": "2023-01-15T17:40:30.841910Z",
     "start_time": "2023-01-15T17:40:30.687106Z"
    }
   },
   "outputs": [],
   "source": [
    "category_columns = [\"Customer\", \"Area\", \"Product\", \"Season\"]\n",
    "df[category_columns] = df[category_columns].astype(\"category\")"
   ]
  },
  {
   "attachments": {},
   "cell_type": "markdown",
   "metadata": {},
   "source": [
    "Check column types for correctness"
   ]
  },
  {
   "cell_type": "code",
   "execution_count": 51,
   "metadata": {
    "ExecuteTime": {
     "end_time": "2023-01-15T17:40:31.027723Z",
     "start_time": "2023-01-15T17:40:31.006604Z"
    }
   },
   "outputs": [
    {
     "data": {
      "text/plain": [
       "Customer                 category\n",
       "Area                     category\n",
       "City                        int64\n",
       "Product                  category\n",
       "WeekStarting       datetime64[ns]\n",
       "Litres                    float64\n",
       "Price(t-1)                float64\n",
       "Price%Change              float64\n",
       "NewCars                   float64\n",
       "WeekendHolidays           float64\n",
       "WeekdayHolidays           float64\n",
       "GDPGrowth%                float64\n",
       "MoMInflation%             float64\n",
       "WoWUSDChange%             float64\n",
       "Season                   category\n",
       "dtype: object"
      ]
     },
     "execution_count": 51,
     "metadata": {},
     "output_type": "execute_result"
    }
   ],
   "source": [
    "df.dtypes"
   ]
  },
  {
   "cell_type": "markdown",
   "metadata": {},
   "source": [
    "Check NaN"
   ]
  },
  {
   "cell_type": "code",
   "execution_count": 52,
   "metadata": {
    "ExecuteTime": {
     "end_time": "2023-01-15T17:40:32.065840Z",
     "start_time": "2023-01-15T17:40:32.045296Z"
    }
   },
   "outputs": [
    {
     "data": {
      "text/plain": [
       "Customer           False\n",
       "Area               False\n",
       "City               False\n",
       "Product            False\n",
       "WeekStarting       False\n",
       "Litres              True\n",
       "Price(t-1)         False\n",
       "Price%Change       False\n",
       "NewCars            False\n",
       "WeekendHolidays    False\n",
       "WeekdayHolidays    False\n",
       "GDPGrowth%         False\n",
       "MoMInflation%      False\n",
       "WoWUSDChange%      False\n",
       "Season             False\n",
       "dtype: bool"
      ]
     },
     "execution_count": 52,
     "metadata": {},
     "output_type": "execute_result"
    }
   ],
   "source": [
    "df.isna().any()"
   ]
  },
  {
   "attachments": {},
   "cell_type": "markdown",
   "metadata": {},
   "source": [
    "### Add time series data as new features\n",
    "- Order of next week last year (week t-51)\n",
    "- Order of this week last year (week t-52)\n",
    "- And so on similarly for t-53,54\n",
    "\n",
    "\n",
    "Other todo:\n",
    "- Drop first year data before training\n",
    "- Drop Customer\tand Area (Emin olamadım, bunları da encode ettirmicez mi category olarak)\n",
    "- Encode petrol/diesel, categorize ettim (Done)\n",
    "- Add seasonality (Done)\n",
    "- Change usd% to float (Done)\n",
    "\n"
   ]
  },
  {
   "cell_type": "markdown",
   "metadata": {},
   "source": [
    "Function to add week lag"
   ]
  },
  {
   "cell_type": "code",
   "execution_count": 54,
   "metadata": {
    "ExecuteTime": {
     "end_time": "2023-01-15T17:40:44.210166Z",
     "start_time": "2023-01-15T17:40:44.192553Z"
    }
   },
   "outputs": [],
   "source": [
    "def add_time_lag(week_lag,df):\n",
    "    df_lag = df[[\"Customer\",\"Product\",\"WeekStarting\", \"Litres\"]].copy()\n",
    "    df_lag[\"WeekStarting\"] = df_lag[\"WeekStarting\"] + pd.to_timedelta(week_lag,unit=\"w\")\n",
    "    df_lag.rename(columns={\"Litres\":f\"Litres(w-{week_lag})\"}, inplace=True)\n",
    "    df = df.merge(df_lag,how=\"left\")\n",
    "    return df\n"
   ]
  },
  {
   "cell_type": "code",
   "execution_count": 55,
   "metadata": {
    "ExecuteTime": {
     "end_time": "2023-01-15T17:40:45.799438Z",
     "start_time": "2023-01-15T17:40:44.568417Z"
    }
   },
   "outputs": [],
   "source": [
    "df = add_time_lag(51,df)\n",
    "df = add_time_lag(52,df)\n",
    "df = add_time_lag(53,df)\n",
    "df = add_time_lag(54,df)"
   ]
  },
  {
   "cell_type": "markdown",
   "metadata": {},
   "source": [
    "Check which customers are unique to train/test"
   ]
  },
  {
   "cell_type": "code",
   "execution_count": 56,
   "metadata": {
    "ExecuteTime": {
     "end_time": "2023-01-15T17:40:45.829670Z",
     "start_time": "2023-01-15T17:40:45.801436Z"
    }
   },
   "outputs": [
    {
     "name": "stdout",
     "output_type": "stream",
     "text": [
      "36  customers in test set only\n",
      "229  customers in train set only\n"
     ]
    }
   ],
   "source": [
    "a = df_test.Customer.unique()\n",
    "b = df_train.Customer.unique()\n",
    "\n",
    "\n",
    "only_test = list(set(a) - set(b))\n",
    "only_train = list(set(b)- set(a))\n",
    "print(len(only_test), \" customers in test set only\")\n",
    "print(len(only_train), \" customers in train set only\")"
   ]
  },
  {
   "attachments": {},
   "cell_type": "markdown",
   "metadata": {},
   "source": [
    "Deal with nan values of the new features"
   ]
  },
  {
   "cell_type": "code",
   "execution_count": 57,
   "metadata": {
    "ExecuteTime": {
     "end_time": "2023-01-15T17:40:45.937078Z",
     "start_time": "2023-01-15T17:40:45.831924Z"
    }
   },
   "outputs": [
    {
     "data": {
      "text/plain": [
       "Customer           0\n",
       "Area               0\n",
       "City               0\n",
       "Product            0\n",
       "WeekStarting       0\n",
       "Litres             0\n",
       "Price(t-1)         0\n",
       "Price%Change       0\n",
       "NewCars            0\n",
       "WeekendHolidays    0\n",
       "WeekdayHolidays    0\n",
       "GDPGrowth%         0\n",
       "MoMInflation%      0\n",
       "WoWUSDChange%      0\n",
       "Season             0\n",
       "Litres(w-51)       0\n",
       "Litres(w-52)       0\n",
       "Litres(w-53)       0\n",
       "Litres(w-54)       0\n",
       "dtype: int64"
      ]
     },
     "execution_count": 57,
     "metadata": {},
     "output_type": "execute_result"
    }
   ],
   "source": [
    "df[(df[\"WeekStarting\"] > '2015-01-12') & (df[\"WeekStarting\"] < '2019-01-01') ].isna().sum()"
   ]
  },
  {
   "cell_type": "code",
   "execution_count": 58,
   "metadata": {
    "ExecuteTime": {
     "end_time": "2023-01-15T17:40:46.015888Z",
     "start_time": "2023-01-15T17:40:45.984605Z"
    }
   },
   "outputs": [
    {
     "data": {
      "text/plain": [
       "Customer                0\n",
       "Area                    0\n",
       "City                    0\n",
       "Product                 0\n",
       "WeekStarting            0\n",
       "Litres             108472\n",
       "Price(t-1)              0\n",
       "Price%Change            0\n",
       "NewCars                 0\n",
       "WeekendHolidays         0\n",
       "WeekdayHolidays         0\n",
       "GDPGrowth%              0\n",
       "MoMInflation%           0\n",
       "WoWUSDChange%           0\n",
       "Season                  0\n",
       "Litres(w-51)         7822\n",
       "Litres(w-52)         5809\n",
       "Litres(w-53)         3796\n",
       "Litres(w-54)         3796\n",
       "dtype: int64"
      ]
     },
     "execution_count": 58,
     "metadata": {},
     "output_type": "execute_result"
    }
   ],
   "source": [
    "df[(df[\"WeekStarting\"] >'2019-01-01') ].isna().sum()"
   ]
  },
  {
   "attachments": {},
   "cell_type": "markdown",
   "metadata": {},
   "source": [
    "For the customers that are in the test set only, we can set the w-52,53,54 values to the week average of that city"
   ]
  },
  {
   "cell_type": "code",
   "execution_count": 59,
   "metadata": {
    "ExecuteTime": {
     "end_time": "2023-01-15T17:40:46.994870Z",
     "start_time": "2023-01-15T17:40:46.975295Z"
    }
   },
   "outputs": [],
   "source": [
    "# Function to add week lag of past 52 weej average for the given city\n",
    "\n",
    "def add_time_lag_average_city(week_lag,df):\n",
    "    df_lag = df[[\"Customer\",\"City\",\"Product\",\"WeekStarting\", \"Litres\"]].copy()\n",
    "    df_lag[\"WeekStarting\"] = df_lag[\"WeekStarting\"] + pd.to_timedelta(week_lag,unit=\"w\")\n",
    "    df_lag.rename(columns={\"Litres\":f\"Litres(w-{week_lag}_average_city)\"}, inplace=True)\n",
    "    df_lag = df_lag.groupby(['WeekStarting', 'Product','City'])[[f\"Litres(w-{week_lag}_average_city)\"]].mean().reset_index()\n",
    "    df = df.merge(df_lag,how=\"left\")\n",
    "    return df"
   ]
  },
  {
   "cell_type": "code",
   "execution_count": 60,
   "metadata": {
    "ExecuteTime": {
     "end_time": "2023-01-15T17:40:50.432357Z",
     "start_time": "2023-01-15T17:40:48.826071Z"
    }
   },
   "outputs": [],
   "source": [
    "df = add_time_lag_average_city(51,df)\n",
    "df = add_time_lag_average_city(52,df)\n",
    "df = add_time_lag_average_city(53,df)\n",
    "df = add_time_lag_average_city(54,df)"
   ]
  },
  {
   "cell_type": "code",
   "execution_count": 62,
   "metadata": {
    "ExecuteTime": {
     "end_time": "2023-01-15T17:40:50.635847Z",
     "start_time": "2023-01-15T17:40:50.435355Z"
    }
   },
   "outputs": [
    {
     "data": {
      "text/html": [
       "<div>\n",
       "<style scoped>\n",
       "    .dataframe tbody tr th:only-of-type {\n",
       "        vertical-align: middle;\n",
       "    }\n",
       "\n",
       "    .dataframe tbody tr th {\n",
       "        vertical-align: top;\n",
       "    }\n",
       "\n",
       "    .dataframe thead th {\n",
       "        text-align: right;\n",
       "    }\n",
       "</style>\n",
       "<table border=\"1\" class=\"dataframe\">\n",
       "  <thead>\n",
       "    <tr style=\"text-align: right;\">\n",
       "      <th></th>\n",
       "      <th>Customer</th>\n",
       "      <th>Area</th>\n",
       "      <th>City</th>\n",
       "      <th>Product</th>\n",
       "      <th>WeekStarting</th>\n",
       "      <th>Litres</th>\n",
       "      <th>Price(t-1)</th>\n",
       "      <th>Price%Change</th>\n",
       "      <th>NewCars</th>\n",
       "      <th>WeekendHolidays</th>\n",
       "      <th>...</th>\n",
       "      <th>WoWUSDChange%</th>\n",
       "      <th>Season</th>\n",
       "      <th>Litres(w-51)</th>\n",
       "      <th>Litres(w-52)</th>\n",
       "      <th>Litres(w-53)</th>\n",
       "      <th>Litres(w-54)</th>\n",
       "      <th>Litres(w-51_average_city)</th>\n",
       "      <th>Litres(w-52_average_city)</th>\n",
       "      <th>Litres(w-53_average_city)</th>\n",
       "      <th>Litres(w-54_average_city)</th>\n",
       "    </tr>\n",
       "  </thead>\n",
       "  <tbody>\n",
       "    <tr>\n",
       "      <th>98068</th>\n",
       "      <td>10048261</td>\n",
       "      <td>Karadeniz Bölgesi</td>\n",
       "      <td>883</td>\n",
       "      <td>Benzin</td>\n",
       "      <td>2015-01-19</td>\n",
       "      <td>9929.0</td>\n",
       "      <td>4.11</td>\n",
       "      <td>0.0</td>\n",
       "      <td>50235.0</td>\n",
       "      <td>0.0</td>\n",
       "      <td>...</td>\n",
       "      <td>1.09</td>\n",
       "      <td>Winter</td>\n",
       "      <td>4853.0</td>\n",
       "      <td>14733.0</td>\n",
       "      <td>13886.0</td>\n",
       "      <td>4242.0</td>\n",
       "      <td>808.833333</td>\n",
       "      <td>4066.833333</td>\n",
       "      <td>3847.333333</td>\n",
       "      <td>707.000000</td>\n",
       "    </tr>\n",
       "    <tr>\n",
       "      <th>98069</th>\n",
       "      <td>10048261</td>\n",
       "      <td>Karadeniz Bölgesi</td>\n",
       "      <td>883</td>\n",
       "      <td>Motorin</td>\n",
       "      <td>2015-01-19</td>\n",
       "      <td>29208.0</td>\n",
       "      <td>3.58</td>\n",
       "      <td>0.0</td>\n",
       "      <td>50235.0</td>\n",
       "      <td>0.0</td>\n",
       "      <td>...</td>\n",
       "      <td>1.09</td>\n",
       "      <td>Winter</td>\n",
       "      <td>33879.0</td>\n",
       "      <td>41549.0</td>\n",
       "      <td>55606.0</td>\n",
       "      <td>29017.0</td>\n",
       "      <td>14761.166667</td>\n",
       "      <td>28160.333333</td>\n",
       "      <td>20658.500000</td>\n",
       "      <td>18887.833333</td>\n",
       "    </tr>\n",
       "    <tr>\n",
       "      <th>98070</th>\n",
       "      <td>10048263</td>\n",
       "      <td>Karadeniz Bölgesi</td>\n",
       "      <td>966</td>\n",
       "      <td>Benzin</td>\n",
       "      <td>2015-01-19</td>\n",
       "      <td>10848.0</td>\n",
       "      <td>4.08</td>\n",
       "      <td>0.0</td>\n",
       "      <td>50235.0</td>\n",
       "      <td>0.0</td>\n",
       "      <td>...</td>\n",
       "      <td>1.09</td>\n",
       "      <td>Winter</td>\n",
       "      <td>0.0</td>\n",
       "      <td>0.0</td>\n",
       "      <td>0.0</td>\n",
       "      <td>4572.0</td>\n",
       "      <td>3624.947368</td>\n",
       "      <td>3011.473684</td>\n",
       "      <td>3128.105263</td>\n",
       "      <td>3050.894737</td>\n",
       "    </tr>\n",
       "    <tr>\n",
       "      <th>98071</th>\n",
       "      <td>10048263</td>\n",
       "      <td>Karadeniz Bölgesi</td>\n",
       "      <td>966</td>\n",
       "      <td>Motorin</td>\n",
       "      <td>2015-01-19</td>\n",
       "      <td>9442.0</td>\n",
       "      <td>3.55</td>\n",
       "      <td>0.0</td>\n",
       "      <td>50235.0</td>\n",
       "      <td>0.0</td>\n",
       "      <td>...</td>\n",
       "      <td>1.09</td>\n",
       "      <td>Winter</td>\n",
       "      <td>0.0</td>\n",
       "      <td>0.0</td>\n",
       "      <td>35583.0</td>\n",
       "      <td>30681.0</td>\n",
       "      <td>23537.210526</td>\n",
       "      <td>25499.526316</td>\n",
       "      <td>25703.894737</td>\n",
       "      <td>20611.210526</td>\n",
       "    </tr>\n",
       "    <tr>\n",
       "      <th>98072</th>\n",
       "      <td>10048264</td>\n",
       "      <td>Karadeniz Bölgesi</td>\n",
       "      <td>883</td>\n",
       "      <td>Benzin</td>\n",
       "      <td>2015-01-19</td>\n",
       "      <td>3570.0</td>\n",
       "      <td>4.11</td>\n",
       "      <td>0.0</td>\n",
       "      <td>50235.0</td>\n",
       "      <td>0.0</td>\n",
       "      <td>...</td>\n",
       "      <td>1.09</td>\n",
       "      <td>Winter</td>\n",
       "      <td>0.0</td>\n",
       "      <td>4656.0</td>\n",
       "      <td>0.0</td>\n",
       "      <td>0.0</td>\n",
       "      <td>808.833333</td>\n",
       "      <td>4066.833333</td>\n",
       "      <td>3847.333333</td>\n",
       "      <td>707.000000</td>\n",
       "    </tr>\n",
       "    <tr>\n",
       "      <th>...</th>\n",
       "      <td>...</td>\n",
       "      <td>...</td>\n",
       "      <td>...</td>\n",
       "      <td>...</td>\n",
       "      <td>...</td>\n",
       "      <td>...</td>\n",
       "      <td>...</td>\n",
       "      <td>...</td>\n",
       "      <td>...</td>\n",
       "      <td>...</td>\n",
       "      <td>...</td>\n",
       "      <td>...</td>\n",
       "      <td>...</td>\n",
       "      <td>...</td>\n",
       "      <td>...</td>\n",
       "      <td>...</td>\n",
       "      <td>...</td>\n",
       "      <td>...</td>\n",
       "      <td>...</td>\n",
       "      <td>...</td>\n",
       "      <td>...</td>\n",
       "    </tr>\n",
       "    <tr>\n",
       "      <th>641155</th>\n",
       "      <td>12664221</td>\n",
       "      <td>Marmara Bölgesi</td>\n",
       "      <td>941</td>\n",
       "      <td>Motorin</td>\n",
       "      <td>2018-11-19</td>\n",
       "      <td>0.0</td>\n",
       "      <td>6.39</td>\n",
       "      <td>0.0</td>\n",
       "      <td>525415.0</td>\n",
       "      <td>0.0</td>\n",
       "      <td>...</td>\n",
       "      <td>-0.83</td>\n",
       "      <td>Fall</td>\n",
       "      <td>0.0</td>\n",
       "      <td>0.0</td>\n",
       "      <td>0.0</td>\n",
       "      <td>0.0</td>\n",
       "      <td>67690.000000</td>\n",
       "      <td>67252.437500</td>\n",
       "      <td>63493.250000</td>\n",
       "      <td>72023.729167</td>\n",
       "    </tr>\n",
       "    <tr>\n",
       "      <th>641156</th>\n",
       "      <td>12664221</td>\n",
       "      <td>Marmara Bölgesi</td>\n",
       "      <td>941</td>\n",
       "      <td>Motorin</td>\n",
       "      <td>2018-11-26</td>\n",
       "      <td>0.0</td>\n",
       "      <td>6.26</td>\n",
       "      <td>0.0</td>\n",
       "      <td>525415.0</td>\n",
       "      <td>0.0</td>\n",
       "      <td>...</td>\n",
       "      <td>-1.41</td>\n",
       "      <td>Fall</td>\n",
       "      <td>0.0</td>\n",
       "      <td>0.0</td>\n",
       "      <td>0.0</td>\n",
       "      <td>0.0</td>\n",
       "      <td>67346.791667</td>\n",
       "      <td>67690.000000</td>\n",
       "      <td>67252.437500</td>\n",
       "      <td>63493.250000</td>\n",
       "    </tr>\n",
       "    <tr>\n",
       "      <th>641157</th>\n",
       "      <td>12664221</td>\n",
       "      <td>Marmara Bölgesi</td>\n",
       "      <td>941</td>\n",
       "      <td>Motorin</td>\n",
       "      <td>2018-12-03</td>\n",
       "      <td>0.0</td>\n",
       "      <td>6.03</td>\n",
       "      <td>0.0</td>\n",
       "      <td>489128.0</td>\n",
       "      <td>0.0</td>\n",
       "      <td>...</td>\n",
       "      <td>1.73</td>\n",
       "      <td>Winter</td>\n",
       "      <td>0.0</td>\n",
       "      <td>0.0</td>\n",
       "      <td>0.0</td>\n",
       "      <td>0.0</td>\n",
       "      <td>67743.666667</td>\n",
       "      <td>67346.791667</td>\n",
       "      <td>67690.000000</td>\n",
       "      <td>67252.437500</td>\n",
       "    </tr>\n",
       "    <tr>\n",
       "      <th>641158</th>\n",
       "      <td>12664221</td>\n",
       "      <td>Marmara Bölgesi</td>\n",
       "      <td>941</td>\n",
       "      <td>Motorin</td>\n",
       "      <td>2018-12-10</td>\n",
       "      <td>0.0</td>\n",
       "      <td>5.96</td>\n",
       "      <td>0.0</td>\n",
       "      <td>489128.0</td>\n",
       "      <td>0.0</td>\n",
       "      <td>...</td>\n",
       "      <td>1.14</td>\n",
       "      <td>Winter</td>\n",
       "      <td>0.0</td>\n",
       "      <td>0.0</td>\n",
       "      <td>0.0</td>\n",
       "      <td>0.0</td>\n",
       "      <td>67204.208333</td>\n",
       "      <td>67743.666667</td>\n",
       "      <td>67346.791667</td>\n",
       "      <td>67690.000000</td>\n",
       "    </tr>\n",
       "    <tr>\n",
       "      <th>641159</th>\n",
       "      <td>12664221</td>\n",
       "      <td>Marmara Bölgesi</td>\n",
       "      <td>941</td>\n",
       "      <td>Motorin</td>\n",
       "      <td>2018-12-17</td>\n",
       "      <td>0.0</td>\n",
       "      <td>5.96</td>\n",
       "      <td>0.0</td>\n",
       "      <td>489128.0</td>\n",
       "      <td>0.0</td>\n",
       "      <td>...</td>\n",
       "      <td>-0.85</td>\n",
       "      <td>Winter</td>\n",
       "      <td>0.0</td>\n",
       "      <td>0.0</td>\n",
       "      <td>0.0</td>\n",
       "      <td>0.0</td>\n",
       "      <td>66730.895833</td>\n",
       "      <td>67204.208333</td>\n",
       "      <td>67743.666667</td>\n",
       "      <td>67346.791667</td>\n",
       "    </tr>\n",
       "  </tbody>\n",
       "</table>\n",
       "<p>507996 rows × 23 columns</p>\n",
       "</div>"
      ],
      "text/plain": [
       "        Customer               Area  City  Product WeekStarting   Litres  \\\n",
       "98068   10048261  Karadeniz Bölgesi   883   Benzin   2015-01-19   9929.0   \n",
       "98069   10048261  Karadeniz Bölgesi   883  Motorin   2015-01-19  29208.0   \n",
       "98070   10048263  Karadeniz Bölgesi   966   Benzin   2015-01-19  10848.0   \n",
       "98071   10048263  Karadeniz Bölgesi   966  Motorin   2015-01-19   9442.0   \n",
       "98072   10048264  Karadeniz Bölgesi   883   Benzin   2015-01-19   3570.0   \n",
       "...          ...                ...   ...      ...          ...      ...   \n",
       "641155  12664221    Marmara Bölgesi   941  Motorin   2018-11-19      0.0   \n",
       "641156  12664221    Marmara Bölgesi   941  Motorin   2018-11-26      0.0   \n",
       "641157  12664221    Marmara Bölgesi   941  Motorin   2018-12-03      0.0   \n",
       "641158  12664221    Marmara Bölgesi   941  Motorin   2018-12-10      0.0   \n",
       "641159  12664221    Marmara Bölgesi   941  Motorin   2018-12-17      0.0   \n",
       "\n",
       "        Price(t-1)  Price%Change   NewCars  WeekendHolidays  ...  \\\n",
       "98068         4.11           0.0   50235.0              0.0  ...   \n",
       "98069         3.58           0.0   50235.0              0.0  ...   \n",
       "98070         4.08           0.0   50235.0              0.0  ...   \n",
       "98071         3.55           0.0   50235.0              0.0  ...   \n",
       "98072         4.11           0.0   50235.0              0.0  ...   \n",
       "...            ...           ...       ...              ...  ...   \n",
       "641155        6.39           0.0  525415.0              0.0  ...   \n",
       "641156        6.26           0.0  525415.0              0.0  ...   \n",
       "641157        6.03           0.0  489128.0              0.0  ...   \n",
       "641158        5.96           0.0  489128.0              0.0  ...   \n",
       "641159        5.96           0.0  489128.0              0.0  ...   \n",
       "\n",
       "        WoWUSDChange%  Season  Litres(w-51)  Litres(w-52) Litres(w-53)  \\\n",
       "98068            1.09  Winter        4853.0       14733.0      13886.0   \n",
       "98069            1.09  Winter       33879.0       41549.0      55606.0   \n",
       "98070            1.09  Winter           0.0           0.0          0.0   \n",
       "98071            1.09  Winter           0.0           0.0      35583.0   \n",
       "98072            1.09  Winter           0.0        4656.0          0.0   \n",
       "...               ...     ...           ...           ...          ...   \n",
       "641155          -0.83    Fall           0.0           0.0          0.0   \n",
       "641156          -1.41    Fall           0.0           0.0          0.0   \n",
       "641157           1.73  Winter           0.0           0.0          0.0   \n",
       "641158           1.14  Winter           0.0           0.0          0.0   \n",
       "641159          -0.85  Winter           0.0           0.0          0.0   \n",
       "\n",
       "        Litres(w-54)  Litres(w-51_average_city)  Litres(w-52_average_city)  \\\n",
       "98068         4242.0                 808.833333                4066.833333   \n",
       "98069        29017.0               14761.166667               28160.333333   \n",
       "98070         4572.0                3624.947368                3011.473684   \n",
       "98071        30681.0               23537.210526               25499.526316   \n",
       "98072            0.0                 808.833333                4066.833333   \n",
       "...              ...                        ...                        ...   \n",
       "641155           0.0               67690.000000               67252.437500   \n",
       "641156           0.0               67346.791667               67690.000000   \n",
       "641157           0.0               67743.666667               67346.791667   \n",
       "641158           0.0               67204.208333               67743.666667   \n",
       "641159           0.0               66730.895833               67204.208333   \n",
       "\n",
       "        Litres(w-53_average_city)  Litres(w-54_average_city)  \n",
       "98068                 3847.333333                 707.000000  \n",
       "98069                20658.500000               18887.833333  \n",
       "98070                 3128.105263                3050.894737  \n",
       "98071                25703.894737               20611.210526  \n",
       "98072                 3847.333333                 707.000000  \n",
       "...                           ...                        ...  \n",
       "641155               63493.250000               72023.729167  \n",
       "641156               67252.437500               63493.250000  \n",
       "641157               67690.000000               67252.437500  \n",
       "641158               67346.791667               67690.000000  \n",
       "641159               67743.666667               67346.791667  \n",
       "\n",
       "[507996 rows x 23 columns]"
      ]
     },
     "execution_count": 62,
     "metadata": {},
     "output_type": "execute_result"
    }
   ],
   "source": [
    "# For checking\n",
    "df[(df[\"WeekStarting\"] > '2015-01-12') & (df[\"WeekStarting\"] < '2019-01-01') ]"
   ]
  },
  {
   "cell_type": "code",
   "execution_count": 63,
   "metadata": {
    "ExecuteTime": {
     "end_time": "2023-01-15T17:40:50.651003Z",
     "start_time": "2023-01-15T17:40:50.638491Z"
    }
   },
   "outputs": [],
   "source": [
    "# Function to add week lag of past 52 weej average for the given city\n",
    "\n",
    "def add_time_lag_average_area(week_lag,df):\n",
    "    df_lag = df[[\"Customer\",\"Area\",\"Product\",\"WeekStarting\", \"Litres\"]].copy()\n",
    "    df_lag[\"WeekStarting\"] = df_lag[\"WeekStarting\"] + pd.to_timedelta(week_lag,unit=\"w\")\n",
    "    df_lag.rename(columns={\"Litres\":f\"Litres(w-{week_lag}_average_area)\"}, inplace=True)\n",
    "    df_lag = df_lag.groupby(['WeekStarting', 'Product','Area'])[[f\"Litres(w-{week_lag}_average_area)\"]].mean().reset_index()\n",
    "    df = df.merge(df_lag,how=\"left\")\n",
    "    return df"
   ]
  },
  {
   "cell_type": "code",
   "execution_count": 64,
   "metadata": {
    "ExecuteTime": {
     "end_time": "2023-01-15T17:40:52.140434Z",
     "start_time": "2023-01-15T17:40:50.656142Z"
    }
   },
   "outputs": [],
   "source": [
    "df = add_time_lag_average_area(51,df)\n",
    "df = add_time_lag_average_area(52,df)\n",
    "df = add_time_lag_average_area(53,df)\n",
    "df = add_time_lag_average_area(54,df)"
   ]
  },
  {
   "cell_type": "markdown",
   "metadata": {},
   "source": [
    "Remove year 2014 and first two weeks of 2015"
   ]
  },
  {
   "cell_type": "code",
   "execution_count": 65,
   "metadata": {
    "ExecuteTime": {
     "end_time": "2023-01-15T17:40:52.277831Z",
     "start_time": "2023-01-15T17:40:52.143432Z"
    }
   },
   "outputs": [],
   "source": [
    "df = df[df.WeekStarting > \"2015-01-12\"]"
   ]
  },
  {
   "attachments": {},
   "cell_type": "markdown",
   "metadata": {},
   "source": [
    "For the customers that are only in the training set, set the w-52, w-53,w-54 data to the average of that date"
   ]
  },
  {
   "cell_type": "code",
   "execution_count": 66,
   "metadata": {
    "ExecuteTime": {
     "end_time": "2023-01-15T17:40:52.478479Z",
     "start_time": "2023-01-15T17:40:52.435277Z"
    }
   },
   "outputs": [
    {
     "data": {
      "text/plain": [
       "Customer                          0\n",
       "Area                              0\n",
       "City                              0\n",
       "Product                           0\n",
       "WeekStarting                      0\n",
       "Litres                       108472\n",
       "Price(t-1)                        0\n",
       "Price%Change                      0\n",
       "NewCars                           0\n",
       "WeekendHolidays                   0\n",
       "WeekdayHolidays                   0\n",
       "GDPGrowth%                        0\n",
       "MoMInflation%                     0\n",
       "WoWUSDChange%                     0\n",
       "Season                            0\n",
       "Litres(w-51)                   7822\n",
       "Litres(w-52)                   5809\n",
       "Litres(w-53)                   3796\n",
       "Litres(w-54)                   3796\n",
       "Litres(w-51_average_city)      4172\n",
       "Litres(w-52_average_city)      2086\n",
       "Litres(w-53_average_city)         0\n",
       "Litres(w-54_average_city)         0\n",
       "Litres(w-51_average_area)      4172\n",
       "Litres(w-52_average_area)      2086\n",
       "Litres(w-53_average_area)         0\n",
       "Litres(w-54_average_area)         0\n",
       "dtype: int64"
      ]
     },
     "execution_count": 66,
     "metadata": {},
     "output_type": "execute_result"
    }
   ],
   "source": [
    "df.isna().sum()"
   ]
  },
  {
   "cell_type": "markdown",
   "metadata": {},
   "source": [
    "Fill in the w-52 values in year 2019 as w-53 values"
   ]
  },
  {
   "cell_type": "markdown",
   "metadata": {},
   "source": [
    "Fill in Litres(w-52 and 2-51_average_area) for all customers as   Litres(w-53_average_area) "
   ]
  },
  {
   "cell_type": "code",
   "execution_count": 67,
   "metadata": {
    "ExecuteTime": {
     "end_time": "2023-01-15T17:40:54.175480Z",
     "start_time": "2023-01-15T17:40:54.166378Z"
    }
   },
   "outputs": [],
   "source": [
    "df.loc[df[\"Litres(w-52_average_area)\"].isna() ,\"Litres(w-52_average_area)\"] = df.loc[df[\"Litres(w-52_average_area)\"].isna() ,\"Litres(w-53_average_area)\"] \n",
    "df.loc[df[\"Litres(w-51_average_area)\"].isna() ,\"Litres(w-51_average_area)\"] = df.loc[df[\"Litres(w-51_average_area)\"].isna() ,\"Litres(w-52_average_area)\"] "
   ]
  },
  {
   "cell_type": "markdown",
   "metadata": {},
   "source": [
    "Fill in average cities for all customers"
   ]
  },
  {
   "cell_type": "code",
   "execution_count": 68,
   "metadata": {
    "ExecuteTime": {
     "end_time": "2023-01-15T17:40:54.951323Z",
     "start_time": "2023-01-15T17:40:54.937340Z"
    }
   },
   "outputs": [],
   "source": [
    "# fill in w54 average city as average region\n",
    "df.loc[df[\"Litres(w-54_average_city)\"].isna() ,\"Litres(w-54_average_city)\"] = df.loc[df[\"Litres(w-54_average_city)\"].isna() ,\"Litres(w-54_average_area)\"] "
   ]
  },
  {
   "cell_type": "code",
   "execution_count": 69,
   "metadata": {
    "ExecuteTime": {
     "end_time": "2023-01-15T17:40:55.381868Z",
     "start_time": "2023-01-15T17:40:55.361435Z"
    }
   },
   "outputs": [],
   "source": [
    "df.loc[df[\"Litres(w-53_average_city)\"].isna() ,\"Litres(w-53_average_city)\"] = df.loc[df[\"Litres(w-53_average_city)\"].isna() ,\"Litres(w-54_average_city)\"] "
   ]
  },
  {
   "cell_type": "code",
   "execution_count": 70,
   "metadata": {
    "ExecuteTime": {
     "end_time": "2023-01-15T17:40:55.781525Z",
     "start_time": "2023-01-15T17:40:55.760606Z"
    }
   },
   "outputs": [],
   "source": [
    "df.loc[df[\"Litres(w-52_average_city)\"].isna() ,\"Litres(w-52_average_city)\"] = df.loc[df[\"Litres(w-52_average_city)\"].isna() ,\"Litres(w-53_average_city)\"] "
   ]
  },
  {
   "cell_type": "code",
   "execution_count": 71,
   "metadata": {
    "ExecuteTime": {
     "end_time": "2023-01-15T17:40:56.062252Z",
     "start_time": "2023-01-15T17:40:56.042100Z"
    }
   },
   "outputs": [],
   "source": [
    "df.loc[df[\"Litres(w-51_average_city)\"].isna() ,\"Litres(w-51_average_city)\"] = df.loc[df[\"Litres(w-51_average_city)\"].isna() ,\"Litres(w-52_average_city)\"] "
   ]
  },
  {
   "cell_type": "markdown",
   "metadata": {},
   "source": [
    "Fill in average cities as average areas if they are still missing"
   ]
  },
  {
   "cell_type": "code",
   "execution_count": 72,
   "metadata": {
    "ExecuteTime": {
     "end_time": "2023-01-15T17:40:57.267683Z",
     "start_time": "2023-01-15T17:40:57.223993Z"
    }
   },
   "outputs": [
    {
     "data": {
      "text/plain": [
       "Customer                          0\n",
       "Area                              0\n",
       "City                              0\n",
       "Product                           0\n",
       "WeekStarting                      0\n",
       "Litres                       108472\n",
       "Price(t-1)                        0\n",
       "Price%Change                      0\n",
       "NewCars                           0\n",
       "WeekendHolidays                   0\n",
       "WeekdayHolidays                   0\n",
       "GDPGrowth%                        0\n",
       "MoMInflation%                     0\n",
       "WoWUSDChange%                     0\n",
       "Season                            0\n",
       "Litres(w-51)                   7822\n",
       "Litres(w-52)                   5809\n",
       "Litres(w-53)                   3796\n",
       "Litres(w-54)                   3796\n",
       "Litres(w-51_average_city)         0\n",
       "Litres(w-52_average_city)         0\n",
       "Litres(w-53_average_city)         0\n",
       "Litres(w-54_average_city)         0\n",
       "Litres(w-51_average_area)         0\n",
       "Litres(w-52_average_area)         0\n",
       "Litres(w-53_average_area)         0\n",
       "Litres(w-54_average_area)         0\n",
       "dtype: int64"
      ]
     },
     "execution_count": 72,
     "metadata": {},
     "output_type": "execute_result"
    }
   ],
   "source": [
    "df.isna().sum()"
   ]
  },
  {
   "cell_type": "code",
   "execution_count": 107,
   "metadata": {
    "ExecuteTime": {
     "end_time": "2023-01-15T17:40:57.609637Z",
     "start_time": "2023-01-15T17:40:57.605638Z"
    }
   },
   "outputs": [],
   "source": [
    "# fill in w54 average city as average region\n",
    "#df.loc[df[\"Litres(w-53_average_city)\"].isna() ,\"Litres(w-53_average_city)\"] = df.loc[df[\"Litres(w-53_average_city)\"].isna() ,\"Litres(w-53_average_area)\"] "
   ]
  },
  {
   "cell_type": "markdown",
   "metadata": {},
   "source": [
    "Fill in w-52,53,54 as city averages"
   ]
  },
  {
   "cell_type": "code",
   "execution_count": 73,
   "metadata": {
    "ExecuteTime": {
     "end_time": "2023-01-15T17:40:58.449650Z",
     "start_time": "2023-01-15T17:40:58.429132Z"
    }
   },
   "outputs": [],
   "source": [
    "# fill in w51 average city as average region\n",
    "df.loc[df[\"Litres(w-51)\"].isna() ,\"Litres(w-51)\"] = df.loc[df[\"Litres(w-51)\"].isna() ,\"Litres(w-51_average_city)\"] \n",
    "# fill in w52 average city as average region\n",
    "df.loc[df[\"Litres(w-52)\"].isna() ,\"Litres(w-52)\"] = df.loc[df[\"Litres(w-52)\"].isna() ,\"Litres(w-52_average_city)\"] \n",
    "# fill in w53 average city as average region\n",
    "df.loc[df[\"Litres(w-53)\"].isna() ,\"Litres(w-53)\"] = df.loc[df[\"Litres(w-53)\"].isna() ,\"Litres(w-53_average_city)\"] \n",
    "# fill in w54 average city as average region\n",
    "df.loc[df[\"Litres(w-54)\"].isna() ,\"Litres(w-54)\"] = df.loc[df[\"Litres(w-54)\"].isna() ,\"Litres(w-54_average_city)\"] "
   ]
  },
  {
   "cell_type": "code",
   "execution_count": 77,
   "metadata": {
    "ExecuteTime": {
     "end_time": "2023-01-15T17:40:59.414119Z",
     "start_time": "2023-01-15T17:40:59.374122Z"
    }
   },
   "outputs": [
    {
     "data": {
      "text/plain": [
       "Customer                          0\n",
       "Area                              0\n",
       "City                              0\n",
       "Product                           0\n",
       "WeekStarting                      0\n",
       "Litres                       108472\n",
       "Price(t-1)                        0\n",
       "Price%Change                      0\n",
       "NewCars                           0\n",
       "WeekendHolidays                   0\n",
       "WeekdayHolidays                   0\n",
       "GDPGrowth%                        0\n",
       "MoMInflation%                     0\n",
       "WoWUSDChange%                     0\n",
       "Season                            0\n",
       "Litres(w-51)                      0\n",
       "Litres(w-52)                      0\n",
       "Litres(w-53)                      0\n",
       "Litres(w-54)                      0\n",
       "Litres(w-51_average_city)         0\n",
       "Litres(w-52_average_city)         0\n",
       "Litres(w-53_average_city)         0\n",
       "Litres(w-54_average_city)         0\n",
       "Litres(w-51_average_area)         0\n",
       "Litres(w-52_average_area)         0\n",
       "Litres(w-53_average_area)         0\n",
       "Litres(w-54_average_area)         0\n",
       "dtype: int64"
      ]
     },
     "execution_count": 77,
     "metadata": {},
     "output_type": "execute_result"
    }
   ],
   "source": [
    "df.isna().sum()"
   ]
  },
  {
   "cell_type": "markdown",
   "metadata": {},
   "source": [
    "Add week of year value"
   ]
  },
  {
   "cell_type": "code",
   "execution_count": 78,
   "metadata": {
    "ExecuteTime": {
     "end_time": "2023-01-15T17:41:00.143831Z",
     "start_time": "2023-01-15T17:41:00.025048Z"
    }
   },
   "outputs": [],
   "source": [
    "df[\"WeekNumber\"] = df['WeekStarting'].dt.isocalendar().week.astype(\"category\")"
   ]
  },
  {
   "cell_type": "code",
   "execution_count": 79,
   "metadata": {
    "ExecuteTime": {
     "end_time": "2023-01-15T17:41:00.282826Z",
     "start_time": "2023-01-15T17:41:00.266102Z"
    }
   },
   "outputs": [
    {
     "data": {
      "text/plain": [
       "Customer                           category\n",
       "Area                               category\n",
       "City                                  int64\n",
       "Product                            category\n",
       "WeekStarting                 datetime64[ns]\n",
       "Litres                              float64\n",
       "Price(t-1)                          float64\n",
       "Price%Change                        float64\n",
       "NewCars                             float64\n",
       "WeekendHolidays                     float64\n",
       "WeekdayHolidays                     float64\n",
       "GDPGrowth%                          float64\n",
       "MoMInflation%                       float64\n",
       "WoWUSDChange%                       float64\n",
       "Season                             category\n",
       "Litres(w-51)                        float64\n",
       "Litres(w-52)                        float64\n",
       "Litres(w-53)                        float64\n",
       "Litres(w-54)                        float64\n",
       "Litres(w-51_average_city)           float64\n",
       "Litres(w-52_average_city)           float64\n",
       "Litres(w-53_average_city)           float64\n",
       "Litres(w-54_average_city)           float64\n",
       "Litres(w-51_average_area)           float64\n",
       "Litres(w-52_average_area)           float64\n",
       "Litres(w-53_average_area)           float64\n",
       "Litres(w-54_average_area)           float64\n",
       "WeekNumber                         category\n",
       "dtype: object"
      ]
     },
     "execution_count": 79,
     "metadata": {},
     "output_type": "execute_result"
    }
   ],
   "source": [
    "df.dtypes"
   ]
  },
  {
   "cell_type": "code",
   "execution_count": 80,
   "metadata": {
    "ExecuteTime": {
     "end_time": "2023-01-15T17:41:00.517346Z",
     "start_time": "2023-01-15T17:41:00.470635Z"
    }
   },
   "outputs": [],
   "source": [
    "df.drop(labels=\"City\",axis=1,inplace=True)"
   ]
  },
  {
   "cell_type": "code",
   "execution_count": 81,
   "metadata": {
    "ExecuteTime": {
     "end_time": "2023-01-15T17:41:00.764979Z",
     "start_time": "2023-01-15T17:41:00.747343Z"
    }
   },
   "outputs": [
    {
     "data": {
      "text/plain": [
       "Index(['Customer', 'Area', 'Product', 'WeekStarting', 'Litres', 'Price(t-1)',\n",
       "       'Price%Change', 'NewCars', 'WeekendHolidays', 'WeekdayHolidays',\n",
       "       'GDPGrowth%', 'MoMInflation%', 'WoWUSDChange%', 'Season',\n",
       "       'Litres(w-51)', 'Litres(w-52)', 'Litres(w-53)', 'Litres(w-54)',\n",
       "       'Litres(w-51_average_city)', 'Litres(w-52_average_city)',\n",
       "       'Litres(w-53_average_city)', 'Litres(w-54_average_city)',\n",
       "       'Litres(w-51_average_area)', 'Litres(w-52_average_area)',\n",
       "       'Litres(w-53_average_area)', 'Litres(w-54_average_area)', 'WeekNumber'],\n",
       "      dtype='object')"
      ]
     },
     "execution_count": 81,
     "metadata": {},
     "output_type": "execute_result"
    }
   ],
   "source": [
    "df.columns"
   ]
  },
  {
   "cell_type": "code",
   "execution_count": 82,
   "metadata": {
    "ExecuteTime": {
     "end_time": "2023-01-15T17:41:01.044913Z",
     "start_time": "2023-01-15T17:41:01.031383Z"
    }
   },
   "outputs": [],
   "source": [
    "df.reset_index(inplace=True,drop=True)"
   ]
  },
  {
   "attachments": {},
   "cell_type": "markdown",
   "metadata": {},
   "source": [
    "Save"
   ]
  },
  {
   "cell_type": "code",
   "execution_count": 84,
   "metadata": {
    "ExecuteTime": {
     "end_time": "2023-01-15T17:41:01.386519Z",
     "start_time": "2023-01-15T17:41:01.307339Z"
    }
   },
   "outputs": [],
   "source": [
    "df.to_pickle(\"Training_TestDataNonFinal.pkl\")"
   ]
  },
  {
   "cell_type": "code",
   "execution_count": null,
   "metadata": {},
   "outputs": [],
   "source": []
  }
 ],
 "metadata": {
  "kernelspec": {
   "display_name": "Python 3 (ipykernel)",
   "language": "python",
   "name": "python3"
  },
  "language_info": {
   "codemirror_mode": {
    "name": "ipython",
    "version": 3
   },
   "file_extension": ".py",
   "mimetype": "text/x-python",
   "name": "python",
   "nbconvert_exporter": "python",
   "pygments_lexer": "ipython3",
   "version": "3.8.15"
  },
  "vscode": {
   "interpreter": {
    "hash": "ad2bdc8ecc057115af97d19610ffacc2b4e99fae6737bb82f5d7fb13d2f2c186"
   }
  }
 },
 "nbformat": 4,
 "nbformat_minor": 2
}
