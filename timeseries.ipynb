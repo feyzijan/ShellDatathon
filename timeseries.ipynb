{
 "cells": [
  {
   "cell_type": "code",
   "execution_count": null,
   "metadata": {},
   "outputs": [],
   "source": []
  },
  {
   "cell_type": "code",
   "execution_count": null,
   "metadata": {},
   "outputs": [],
   "source": [
    "# Function to add week lag\n",
    "\n",
    "def add_time_lag(week_lag,df_train):\n",
    "    df_train_lag = df_train[[\"Customer\",\"Area\",\"Product\",\"WeekStarting\", \"Litres\"]].copy()\n",
    "    df_train_lag[\"WeekStarting\"] = df_train_lag[\"WeekStarting\"] + pd.to_timedelta(week_lag,unit=\"w\")\n",
    "    df_train_lag.rename(columns={\"Litres\":f\"Litres(w-{week_lag})\"}, inplace=True)\n",
    "    df_train = df_train.merge(df_train_lag,how=\"left\")\n",
    "    return df_train\n"
   ]
  },
  {
   "attachments": {},
   "cell_type": "markdown",
   "metadata": {},
   "source": [
    "Add 1 week time lag variable"
   ]
  },
  {
   "cell_type": "code",
   "execution_count": null,
   "metadata": {},
   "outputs": [],
   "source": []
  },
  {
   "cell_type": "code",
   "execution_count": null,
   "metadata": {},
   "outputs": [
    {
     "data": {
      "text/plain": [
       "Customer               0\n",
       "Area                   0\n",
       "Product                0\n",
       "WeekStarting           0\n",
       "Litres                 0\n",
       "Price(t-1)             0\n",
       "NewCars                0\n",
       "WeekendHolidays        0\n",
       "WeekdayHolidays        0\n",
       "GDPGrowth%             0\n",
       "MoMInflation%          0\n",
       "WoWUSDChange%          0\n",
       "Litres(w-1)        33323\n",
       "dtype: int64"
      ]
     },
     "metadata": {},
     "output_type": "display_data"
    }
   ],
   "source": [
    "df_train.isna().sum()"
   ]
  },
  {
   "attachments": {},
   "cell_type": "markdown",
   "metadata": {},
   "source": [
    "Add 2 week time lag variable"
   ]
  },
  {
   "cell_type": "code",
   "execution_count": null,
   "metadata": {},
   "outputs": [],
   "source": [
    "df_train = add_time_lag(2,df_train)"
   ]
  },
  {
   "attachments": {},
   "cell_type": "markdown",
   "metadata": {},
   "source": [
    "Add 3 week time lag variable"
   ]
  },
  {
   "cell_type": "code",
   "execution_count": null,
   "metadata": {},
   "outputs": [],
   "source": [
    "df_train = add_time_lag(3,df_train)"
   ]
  },
  {
   "cell_type": "markdown",
   "metadata": {},
   "source": [
    "Add 51 week time lag variable"
   ]
  },
  {
   "cell_type": "code",
   "execution_count": null,
   "metadata": {},
   "outputs": [],
   "source": [
    "df_train = add_time_lag(51,df_train)"
   ]
  },
  {
   "cell_type": "markdown",
   "metadata": {},
   "source": [
    "Add 52 week time lag variable"
   ]
  },
  {
   "cell_type": "code",
   "execution_count": null,
   "metadata": {},
   "outputs": [],
   "source": [
    "df_train = add_time_lag(52,df_train)"
   ]
  },
  {
   "cell_type": "code",
   "execution_count": null,
   "metadata": {},
   "outputs": [
    {
     "data": {
      "text/plain": [
       "2014-01-06    1562\n",
       "2014-01-13     273\n",
       "2014-01-20      93\n",
       "2014-12-22      39\n",
       "2014-03-24      37\n",
       "              ... \n",
       "2017-05-15       1\n",
       "2017-05-01       1\n",
       "2017-04-17       1\n",
       "2018-06-25       1\n",
       "2016-10-10       1\n",
       "Name: WeekStarting, Length: 239, dtype: int64"
      ]
     },
     "metadata": {},
     "output_type": "display_data"
    }
   ],
   "source": [
    "# Checking which rows do not have any past data\n",
    "df_train[(df_train[\"Litres(w-1)\"].isna()) & (df_train[\"Litres(w-2)\"].isna()) & (df_train[\"Litres(w-3)\"].isna())  & (df_train[\"Litres(w-51)\"].isna())  & (df_train[\"Litres(w-52)\"].isna()) ].WeekStarting.value_counts()"
   ]
  }
 ],
 "metadata": {
  "language_info": {
   "name": "python"
  },
  "orig_nbformat": 4
 },
 "nbformat": 4,
 "nbformat_minor": 2
}
